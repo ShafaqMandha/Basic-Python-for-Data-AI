{
  "nbformat": 4,
  "nbformat_minor": 0,
  "metadata": {
    "colab": {
      "provenance": [],
      "authorship_tag": "ABX9TyP7NaipyVMCp8B5dM2uQRms",
      "include_colab_link": true
    },
    "kernelspec": {
      "name": "python3",
      "display_name": "Python 3"
    },
    "language_info": {
      "name": "python"
    }
  },
  "cells": [
    {
      "cell_type": "markdown",
      "metadata": {
        "id": "view-in-github",
        "colab_type": "text"
      },
      "source": [
        "<a href=\"https://colab.research.google.com/github/ShafaqMandha/Basic-Python-for-Data-AI/blob/main/Boolean.ipynb\" target=\"_parent\"><img src=\"https://colab.research.google.com/assets/colab-badge.svg\" alt=\"Open In Colab\"/></a>"
      ]
    },
    {
      "cell_type": "markdown",
      "source": [
        "## Define Boolean variables"
      ],
      "metadata": {
        "id": "BovFeNz6upB3"
      }
    },
    {
      "cell_type": "code",
      "execution_count": null,
      "metadata": {
        "id": "qSe1DV8_ujOW"
      },
      "outputs": [],
      "source": [
        "x = True"
      ]
    },
    {
      "cell_type": "code",
      "source": [
        "y = False"
      ],
      "metadata": {
        "id": "ys1NCcu8uzwU"
      },
      "execution_count": null,
      "outputs": []
    },
    {
      "cell_type": "markdown",
      "source": [
        "## Use Boolean expressions with logical operators\n"
      ],
      "metadata": {
        "id": "Te0yEOD3u27c"
      }
    },
    {
      "cell_type": "code",
      "source": [
        "print(x and y)"
      ],
      "metadata": {
        "colab": {
          "base_uri": "https://localhost:8080/"
        },
        "id": "DKIhrf1wu2hu",
        "outputId": "8994d319-4374-491e-c7fb-51bc4e033c40"
      },
      "execution_count": null,
      "outputs": [
        {
          "output_type": "stream",
          "name": "stdout",
          "text": [
            "False\n"
          ]
        }
      ]
    },
    {
      "cell_type": "code",
      "source": [
        "print(x or y)"
      ],
      "metadata": {
        "colab": {
          "base_uri": "https://localhost:8080/"
        },
        "id": "-TFatB5BvQCA",
        "outputId": "4bfdbf10-8ecd-45b8-f4b2-9fb93c84c362"
      },
      "execution_count": null,
      "outputs": [
        {
          "output_type": "stream",
          "name": "stdout",
          "text": [
            "True\n"
          ]
        }
      ]
    },
    {
      "cell_type": "code",
      "source": [
        "print(not x)"
      ],
      "metadata": {
        "colab": {
          "base_uri": "https://localhost:8080/"
        },
        "id": "EKVtBeGuvTwX",
        "outputId": "19dc6331-46fe-4b60-d5b6-4b5ffdc8d8ce"
      },
      "execution_count": null,
      "outputs": [
        {
          "output_type": "stream",
          "name": "stdout",
          "text": [
            "False\n"
          ]
        }
      ]
    },
    {
      "cell_type": "code",
      "source": [
        "print(not y)"
      ],
      "metadata": {
        "colab": {
          "base_uri": "https://localhost:8080/"
        },
        "id": "nR4fAzosvT8D",
        "outputId": "146c20f7-191b-4ac1-fe44-aaf2727106c9"
      },
      "execution_count": null,
      "outputs": [
        {
          "output_type": "stream",
          "name": "stdout",
          "text": [
            "True\n"
          ]
        }
      ]
    },
    {
      "cell_type": "markdown",
      "source": [
        "## Compare Boolean values"
      ],
      "metadata": {
        "id": "UR3JD5hNvF-i"
      }
    },
    {
      "cell_type": "code",
      "source": [
        "print(x == y)"
      ],
      "metadata": {
        "colab": {
          "base_uri": "https://localhost:8080/"
        },
        "id": "Mi5RAiqUvNao",
        "outputId": "be1afd86-45c6-4e35-b5ca-1d7fc651d1c9"
      },
      "execution_count": null,
      "outputs": [
        {
          "output_type": "stream",
          "name": "stdout",
          "text": [
            "False\n"
          ]
        }
      ]
    },
    {
      "cell_type": "code",
      "source": [
        "print(x != y)"
      ],
      "metadata": {
        "colab": {
          "base_uri": "https://localhost:8080/"
        },
        "id": "9sppGQT-vaKi",
        "outputId": "855fe2fa-c663-45ec-d857-014d1c4f069e"
      },
      "execution_count": null,
      "outputs": [
        {
          "output_type": "stream",
          "name": "stdout",
          "text": [
            "True\n"
          ]
        }
      ]
    },
    {
      "cell_type": "markdown",
      "source": [
        "## Try:"
      ],
      "metadata": {
        "id": "6PR5w7Fevj4L"
      }
    },
    {
      "cell_type": "code",
      "source": [
        "result = False or not False and True"
      ],
      "metadata": {
        "id": "5USC6-tKvrdo"
      },
      "execution_count": null,
      "outputs": []
    },
    {
      "cell_type": "code",
      "source": [
        "print(result)"
      ],
      "metadata": {
        "colab": {
          "base_uri": "https://localhost:8080/"
        },
        "id": "zDAv-Om2v2Tv",
        "outputId": "a312fd3f-4508-4702-f47a-be97c1672a1d"
      },
      "execution_count": null,
      "outputs": [
        {
          "output_type": "stream",
          "name": "stdout",
          "text": [
            "True\n"
          ]
        }
      ]
    }
  ]
}