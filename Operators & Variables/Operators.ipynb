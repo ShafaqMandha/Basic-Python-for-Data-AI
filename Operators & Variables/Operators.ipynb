{
  "nbformat": 4,
  "nbformat_minor": 0,
  "metadata": {
    "colab": {
      "provenance": [],
      "authorship_tag": "ABX9TyPUGgyNEN3noRYFyUZI96Tq",
      "include_colab_link": true
    },
    "kernelspec": {
      "name": "python3",
      "display_name": "Python 3"
    },
    "language_info": {
      "name": "python"
    }
  },
  "cells": [
    {
      "cell_type": "markdown",
      "metadata": {
        "id": "view-in-github",
        "colab_type": "text"
      },
      "source": [
        "<a href=\"https://colab.research.google.com/github/ShafaqMandha/Basic-Python-for-Data-AI/blob/main/Operators%20%26%20Variables/Operators.ipynb\" target=\"_parent\"><img src=\"https://colab.research.google.com/assets/colab-badge.svg\" alt=\"Open In Colab\"/></a>"
      ]
    },
    {
      "cell_type": "markdown",
      "source": [
        "# **Operators in Python**"
      ],
      "metadata": {
        "id": "hlKcnpTIcoqP"
      }
    },
    {
      "cell_type": "markdown",
      "source": [
        "## **Arithmetic Operators**"
      ],
      "metadata": {
        "id": "pZmynzPuexrL"
      }
    },
    {
      "cell_type": "markdown",
      "source": [
        "### Basic Arithmetic Operators\n",
        "\n",
        "\n"
      ],
      "metadata": {
        "id": "YWxgcSPKcfFG"
      }
    },
    {
      "cell_type": "code",
      "execution_count": null,
      "metadata": {
        "id": "wqsNHPREccX1"
      },
      "outputs": [],
      "source": [
        "1 + 1"
      ]
    },
    {
      "cell_type": "code",
      "source": [
        "4 * 5"
      ],
      "metadata": {
        "id": "v265DZHydIE2"
      },
      "execution_count": null,
      "outputs": []
    },
    {
      "cell_type": "code",
      "source": [
        "5 ** 2"
      ],
      "metadata": {
        "id": "1lIrM-_7dIHT"
      },
      "execution_count": null,
      "outputs": []
    },
    {
      "cell_type": "code",
      "source": [
        "20 / 5"
      ],
      "metadata": {
        "id": "Zqk8A5rqdIKK"
      },
      "execution_count": null,
      "outputs": []
    },
    {
      "cell_type": "code",
      "source": [
        "20 / 6"
      ],
      "metadata": {
        "id": "PkBIKG85dIM4"
      },
      "execution_count": null,
      "outputs": []
    },
    {
      "cell_type": "code",
      "source": [
        "20 % 6"
      ],
      "metadata": {
        "id": "NYtIobwPdIPk"
      },
      "execution_count": null,
      "outputs": []
    },
    {
      "cell_type": "markdown",
      "source": [
        "### Arithmetic Operators with Strings"
      ],
      "metadata": {
        "id": "Wl8BODmDdY9L"
      }
    },
    {
      "cell_type": "code",
      "source": [
        "'string 1 ' + 'string 2'"
      ],
      "metadata": {
        "id": "N72I12YZdISy"
      },
      "execution_count": null,
      "outputs": []
    },
    {
      "cell_type": "code",
      "source": [
        "'- string 1 - ' * 4"
      ],
      "metadata": {
        "id": "B9PIrk9ae8cr"
      },
      "execution_count": null,
      "outputs": []
    },
    {
      "cell_type": "code",
      "source": [
        "' 1' + 4"
      ],
      "metadata": {
        "id": "DqKqtNQpe8K1"
      },
      "execution_count": null,
      "outputs": []
    },
    {
      "cell_type": "markdown",
      "source": [
        "## **Comparison, Logical, and Membership Operators**"
      ],
      "metadata": {
        "id": "XF5Xym9AfWQ8"
      }
    },
    {
      "cell_type": "markdown",
      "source": [
        "### Comparison Operators"
      ],
      "metadata": {
        "id": "-UFuafXpfo61"
      }
    },
    {
      "cell_type": "code",
      "source": [
        "True == True"
      ],
      "metadata": {
        "id": "-NkVtJZYfjfW"
      },
      "execution_count": null,
      "outputs": []
    },
    {
      "cell_type": "code",
      "source": [
        "4 < 5"
      ],
      "metadata": {
        "id": "CbQ83murfjZD"
      },
      "execution_count": null,
      "outputs": []
    },
    {
      "cell_type": "code",
      "source": [
        "5 <= 5"
      ],
      "metadata": {
        "id": "8wGNxdlXfjcC"
      },
      "execution_count": null,
      "outputs": []
    },
    {
      "cell_type": "code",
      "source": [
        "5 > 2"
      ],
      "metadata": {
        "id": "2MTe7gvLf2y3"
      },
      "execution_count": null,
      "outputs": []
    },
    {
      "cell_type": "code",
      "source": [
        "5 >=2"
      ],
      "metadata": {
        "id": "wzoyjC8gf2-l"
      },
      "execution_count": null,
      "outputs": []
    },
    {
      "cell_type": "markdown",
      "source": [
        "### Logical Operators (and, or, not)"
      ],
      "metadata": {
        "id": "HGb-Mb2hf8AL"
      }
    },
    {
      "cell_type": "code",
      "source": [
        "True and True"
      ],
      "metadata": {
        "id": "E0E0HzCrf8mD"
      },
      "execution_count": null,
      "outputs": []
    },
    {
      "cell_type": "code",
      "source": [
        "True and False"
      ],
      "metadata": {
        "id": "0fb8N_Iff80k"
      },
      "execution_count": null,
      "outputs": []
    },
    {
      "cell_type": "code",
      "source": [
        "True or False"
      ],
      "metadata": {
        "id": "nxHCmOMQf9An"
      },
      "execution_count": null,
      "outputs": []
    },
    {
      "cell_type": "code",
      "source": [
        "False or False"
      ],
      "metadata": {
        "id": "go4ZfiUagphm"
      },
      "execution_count": null,
      "outputs": []
    },
    {
      "cell_type": "code",
      "source": [
        "not True"
      ],
      "metadata": {
        "id": "4yWaWj4UgpkG"
      },
      "execution_count": null,
      "outputs": []
    },
    {
      "cell_type": "code",
      "source": [
        "not False"
      ],
      "metadata": {
        "id": "XgDUYabBgpnl"
      },
      "execution_count": null,
      "outputs": []
    },
    {
      "cell_type": "markdown",
      "source": [
        "### Membership Operators"
      ],
      "metadata": {
        "id": "FwqtOHrVgyD8"
      }
    },
    {
      "cell_type": "code",
      "source": [
        "1 in [1,2,3,4,5]"
      ],
      "metadata": {
        "id": "gnVBWGWVg4N4"
      },
      "execution_count": null,
      "outputs": []
    },
    {
      "cell_type": "code",
      "source": [
        "10 in [1,2,3,4,5]"
      ],
      "metadata": {
        "id": "Ornhs32Ng4RT"
      },
      "execution_count": null,
      "outputs": []
    },
    {
      "cell_type": "code",
      "source": [
        "'cat' not in 'my pet cat'"
      ],
      "metadata": {
        "id": "TyQfLRK-g4x9"
      },
      "execution_count": null,
      "outputs": []
    }
  ]
}