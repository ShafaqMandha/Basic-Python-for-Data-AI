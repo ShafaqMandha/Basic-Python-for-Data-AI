{
  "nbformat": 4,
  "nbformat_minor": 0,
  "metadata": {
    "colab": {
      "provenance": [],
      "authorship_tag": "ABX9TyOxzxFCsAAFXnq6Fgl8fVAs",
      "include_colab_link": true
    },
    "kernelspec": {
      "name": "python3",
      "display_name": "Python 3"
    },
    "language_info": {
      "name": "python"
    }
  },
  "cells": [
    {
      "cell_type": "markdown",
      "metadata": {
        "id": "view-in-github",
        "colab_type": "text"
      },
      "source": [
        "<a href=\"https://colab.research.google.com/github/ShafaqMandha/Basic-Python-for-Data-AI/blob/main/Operators%20%26%20Variables/Arthmetic_Operators.ipynb\" target=\"_parent\"><img src=\"https://colab.research.google.com/assets/colab-badge.svg\" alt=\"Open In Colab\"/></a>"
      ]
    },
    {
      "cell_type": "markdown",
      "source": [
        "## **Arthmetic Operators**"
      ],
      "metadata": {
        "id": "AR4AWs9miACx"
      }
    },
    {
      "cell_type": "markdown",
      "source": [
        "### The Modulo Operator"
      ],
      "metadata": {
        "id": "LCXV7JXOiF7h"
      }
    },
    {
      "cell_type": "code",
      "execution_count": null,
      "metadata": {
        "id": "FjRhggG2h67U"
      },
      "outputs": [],
      "source": [
        "print(24 % 10)"
      ]
    },
    {
      "cell_type": "code",
      "source": [
        "print(5 % 3)"
      ],
      "metadata": {
        "id": "w04aYvhEiSii"
      },
      "execution_count": null,
      "outputs": []
    },
    {
      "cell_type": "markdown",
      "source": [
        "### Exponent Operator"
      ],
      "metadata": {
        "id": "b5AysN5diTL_"
      }
    },
    {
      "cell_type": "code",
      "source": [
        "print(5 ** 3)"
      ],
      "metadata": {
        "id": "6W0U4GgwiX5Q"
      },
      "execution_count": null,
      "outputs": []
    },
    {
      "cell_type": "markdown",
      "source": [
        "### Floor Division Operator"
      ],
      "metadata": {
        "id": "eozvaQb7ia4w"
      }
    },
    {
      "cell_type": "code",
      "source": [
        "print(25 / 10)"
      ],
      "metadata": {
        "id": "XCEuU_NPib5U"
      },
      "execution_count": null,
      "outputs": []
    },
    {
      "cell_type": "code",
      "source": [
        "print(25 // 10)"
      ],
      "metadata": {
        "id": "WmwQ1Ft_icEy"
      },
      "execution_count": null,
      "outputs": []
    }
  ]
}