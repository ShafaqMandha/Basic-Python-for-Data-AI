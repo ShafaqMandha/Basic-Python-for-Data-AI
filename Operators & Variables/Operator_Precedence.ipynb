{
  "nbformat": 4,
  "nbformat_minor": 0,
  "metadata": {
    "colab": {
      "provenance": [],
      "authorship_tag": "ABX9TyNCobsPHuKKTt9Slc1RiNvJ",
      "include_colab_link": true
    },
    "kernelspec": {
      "name": "python3",
      "display_name": "Python 3"
    },
    "language_info": {
      "name": "python"
    }
  },
  "cells": [
    {
      "cell_type": "markdown",
      "metadata": {
        "id": "view-in-github",
        "colab_type": "text"
      },
      "source": [
        "<a href=\"https://colab.research.google.com/github/ShafaqMandha/Basic-Python-for-Data-AI/blob/main/Operators%20%26%20Variables/Operator_Precedence.ipynb\" target=\"_parent\"><img src=\"https://colab.research.google.com/assets/colab-badge.svg\" alt=\"Open In Colab\"/></a>"
      ]
    },
    {
      "cell_type": "markdown",
      "source": [
        "## **Operator Precedence**"
      ],
      "metadata": {
        "id": "3XfDU0B8hc_I"
      }
    },
    {
      "cell_type": "code",
      "execution_count": null,
      "metadata": {
        "id": "GguOwU7jhb_X"
      },
      "outputs": [],
      "source": [
        "print(3 + 4 / 2)"
      ]
    },
    {
      "cell_type": "code",
      "source": [
        "print(((3 + 4) / 2))"
      ],
      "metadata": {
        "id": "eJ6qZrcPhrWM"
      },
      "execution_count": null,
      "outputs": []
    }
  ]
}