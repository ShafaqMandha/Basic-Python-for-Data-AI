{
  "cells": [
    {
      "cell_type": "markdown",
      "metadata": {
        "id": "view-in-github",
        "colab_type": "text"
      },
      "source": [
        "<a href=\"https://colab.research.google.com/github/ShafaqMandha/Basic-Python-for-Data-AI/blob/main/Operators%20%26%20Variables/Explaining_Variables.ipynb\" target=\"_parent\"><img src=\"https://colab.research.google.com/assets/colab-badge.svg\" alt=\"Open In Colab\"/></a>"
      ]
    },
    {
      "cell_type": "markdown",
      "id": "817221c9",
      "metadata": {
        "id": "817221c9"
      },
      "source": [
        "# Explaining  Variables"
      ]
    },
    {
      "cell_type": "markdown",
      "id": "1512b57b",
      "metadata": {
        "id": "1512b57b"
      },
      "source": [
        "In computer programming, <b>variables</b> are used to store, process, and manipulate data. So, let's say you wanted to store `28` in the variable `age`, this is what you would do:"
      ]
    },
    {
      "cell_type": "code",
      "execution_count": null,
      "id": "9ae82ae7",
      "metadata": {
        "id": "9ae82ae7"
      },
      "outputs": [],
      "source": [
        "age = 28"
      ]
    },
    {
      "cell_type": "markdown",
      "id": "e0d89b8d",
      "metadata": {
        "id": "e0d89b8d"
      },
      "source": [
        "So if you used `print()` with `age` as an argument, you would get the value that you assigned to that variable."
      ]
    },
    {
      "cell_type": "code",
      "execution_count": null,
      "id": "80b5943a",
      "metadata": {
        "colab": {
          "base_uri": "https://localhost:8080/"
        },
        "id": "80b5943a",
        "outputId": "168342d7-ae04-458c-81bf-b0de6cc31456"
      },
      "outputs": [
        {
          "output_type": "stream",
          "name": "stdout",
          "text": [
            "28\n"
          ]
        }
      ],
      "source": [
        "print(age)"
      ]
    },
    {
      "cell_type": "code",
      "source": [
        "print(age)"
      ],
      "metadata": {
        "colab": {
          "base_uri": "https://localhost:8080/"
        },
        "id": "Ox84UXN4WcJI",
        "outputId": "8a70f2f8-6a3d-46fe-cd97-09ced8bdd96d"
      },
      "id": "Ox84UXN4WcJI",
      "execution_count": null,
      "outputs": [
        {
          "output_type": "stream",
          "name": "stdout",
          "text": [
            "28\n"
          ]
        }
      ]
    },
    {
      "cell_type": "markdown",
      "id": "8ddf96c1",
      "metadata": {
        "id": "8ddf96c1"
      },
      "source": [
        "With `age = 28` you are telling Python to create a variable named `age` and use it to store the value `28`. However, you can change the value assigned to any variable you previously created. For instance, you can assign a value of `5` to `age` using the following code:"
      ]
    },
    {
      "cell_type": "code",
      "execution_count": null,
      "id": "0cc2c56f",
      "metadata": {
        "id": "0cc2c56f"
      },
      "outputs": [],
      "source": [
        "age = 5"
      ]
    },
    {
      "cell_type": "markdown",
      "id": "448a0658",
      "metadata": {
        "id": "448a0658"
      },
      "source": [
        "So if you display `age`, you will get `5` instead of `28`."
      ]
    },
    {
      "cell_type": "code",
      "execution_count": null,
      "id": "b594137a",
      "metadata": {
        "colab": {
          "base_uri": "https://localhost:8080/"
        },
        "id": "b594137a",
        "outputId": "338c3dba-3f21-4505-aa7f-74db244c9f4f"
      },
      "outputs": [
        {
          "output_type": "stream",
          "name": "stdout",
          "text": [
            "5\n"
          ]
        }
      ],
      "source": [
        "print(age)"
      ]
    },
    {
      "cell_type": "markdown",
      "id": "764df696",
      "metadata": {
        "id": "764df696"
      },
      "source": [
        "## Variables store numbers, strings and other type of data"
      ]
    },
    {
      "cell_type": "markdown",
      "id": "3b4f1b37",
      "metadata": {
        "id": "3b4f1b37"
      },
      "source": [
        "Variables can be used to store floating point numbers, integers, strings, and other types of data. For instance, you can create a variable `name` and assign it the string `\"Otto\"`, or a variable `gnome_height` and assign it the floating point number `12.7`."
      ]
    },
    {
      "cell_type": "code",
      "execution_count": null,
      "id": "d2e765a1",
      "metadata": {
        "id": "d2e765a1"
      },
      "outputs": [],
      "source": [
        "name = \"Otto\"\n",
        "gnome_height = 12.7"
      ]
    },
    {
      "cell_type": "code",
      "source": [
        "print(name)\n",
        "print(gnome_height)"
      ],
      "metadata": {
        "colab": {
          "base_uri": "https://localhost:8080/"
        },
        "id": "m7c56n1NWxZg",
        "outputId": "f835d355-f8e5-4905-d2d0-e37aa7b1483a"
      },
      "id": "m7c56n1NWxZg",
      "execution_count": null,
      "outputs": [
        {
          "output_type": "stream",
          "name": "stdout",
          "text": [
            "Otto\n",
            "12.7\n"
          ]
        }
      ]
    },
    {
      "cell_type": "markdown",
      "id": "e6595034",
      "metadata": {
        "id": "e6595034"
      },
      "source": [
        "You can use variables within f-strings to make your output more readable. For example, you can print the value assigned to `age` along with the string `\"Age: \"` so that anyone reading the display will understand what the value represents.\n",
        "\n",
        "Here’s how you can do it:"
      ]
    },
    {
      "cell_type": "code",
      "execution_count": null,
      "id": "37d2833c",
      "metadata": {
        "id": "37d2833c"
      },
      "outputs": [],
      "source": [
        "print(f\"Age: {age}\")"
      ]
    },
    {
      "cell_type": "markdown",
      "id": "d156652d",
      "metadata": {
        "id": "d156652d"
      },
      "source": [
        "As another example, let's use f-strings to display the values assigned to `name` and `gnome_height`."
      ]
    },
    {
      "cell_type": "code",
      "source": [
        "print(\"Name : \", name)"
      ],
      "metadata": {
        "colab": {
          "base_uri": "https://localhost:8080/"
        },
        "id": "dCksdZpWXAKJ",
        "outputId": "7706ec21-d12c-4584-d48c-9b82b3c108eb"
      },
      "id": "dCksdZpWXAKJ",
      "execution_count": null,
      "outputs": [
        {
          "output_type": "stream",
          "name": "stdout",
          "text": [
            "Name :  Otto\n"
          ]
        }
      ]
    },
    {
      "cell_type": "code",
      "source": [
        "print(f\"Name: {name}\")"
      ],
      "metadata": {
        "colab": {
          "base_uri": "https://localhost:8080/"
        },
        "id": "RvWUB2GNXIo_",
        "outputId": "6bb2f294-90bc-422a-a60e-7be391e24aaa"
      },
      "id": "RvWUB2GNXIo_",
      "execution_count": null,
      "outputs": [
        {
          "output_type": "stream",
          "name": "stdout",
          "text": [
            "Name: Otto\n"
          ]
        }
      ]
    },
    {
      "cell_type": "code",
      "execution_count": null,
      "id": "f4dd9caa",
      "metadata": {
        "colab": {
          "base_uri": "https://localhost:8080/"
        },
        "id": "f4dd9caa",
        "outputId": "03789e7e-1a37-4be0-de6c-0355217112fa"
      },
      "outputs": [
        {
          "output_type": "stream",
          "name": "stdout",
          "text": [
            "Name: Otto\n",
            "Gnome height: 12.7\n"
          ]
        }
      ],
      "source": [
        "print(f\"Name: {name}\")\n",
        "print(f\"Gnome height: {gnome_height}\")"
      ]
    },
    {
      "cell_type": "markdown",
      "id": "f86ccabc",
      "metadata": {
        "id": "f86ccabc"
      },
      "source": [
        "<b>Important:</b> Variables are case-sensitive, so `Gnome_height` and `gnome_height` are not the same. To see this, you can run the next cell where you will get an error message."
      ]
    },
    {
      "cell_type": "code",
      "execution_count": null,
      "id": "c43043e4",
      "metadata": {
        "colab": {
          "base_uri": "https://localhost:8080/"
        },
        "id": "c43043e4",
        "outputId": "5db4e4b8-11ee-49d7-9ba7-8cf387483312"
      },
      "outputs": [
        {
          "output_type": "stream",
          "name": "stdout",
          "text": [
            "Gnome height: 12.7\n"
          ]
        }
      ],
      "source": [
        "print(f\"Gnome height: {gnome_height}\")"
      ]
    },
    {
      "cell_type": "markdown",
      "id": "99c43159-f5b4-4ab5-b9d4-b142979cb172",
      "metadata": {
        "id": "99c43159-f5b4-4ab5-b9d4-b142979cb172"
      },
      "source": [
        "## Variables help you store values that constantly change"
      ]
    },
    {
      "cell_type": "markdown",
      "id": "9154a6a6-ab67-4d96-85fc-5bbfbea65e11",
      "metadata": {
        "id": "9154a6a6-ab67-4d96-85fc-5bbfbea65e11"
      },
      "source": [
        "Take a game where the score starts at zero. In the next cell, you create a variable `score`, assign it the value of `0`, and display the current score."
      ]
    },
    {
      "cell_type": "code",
      "execution_count": null,
      "id": "5a47354d",
      "metadata": {
        "colab": {
          "base_uri": "https://localhost:8080/"
        },
        "id": "5a47354d",
        "outputId": "5dfadbd0-419f-43ff-b8d3-7696de9fff3c"
      },
      "outputs": [
        {
          "output_type": "stream",
          "name": "stdout",
          "text": [
            "0\n"
          ]
        }
      ],
      "source": [
        "score = 0 # now score is 0\n",
        "print(score)"
      ]
    },
    {
      "cell_type": "markdown",
      "id": "b59c99bb-d58a-4a8e-9f1b-fd2010cf7e12",
      "metadata": {
        "id": "b59c99bb-d58a-4a8e-9f1b-fd2010cf7e12"
      },
      "source": [
        "When the score increases by 50 points, you can update the variable by using its previous value and adding `50`."
      ]
    },
    {
      "cell_type": "code",
      "execution_count": null,
      "id": "019ca96e",
      "metadata": {
        "colab": {
          "base_uri": "https://localhost:8080/"
        },
        "id": "019ca96e",
        "outputId": "d509739c-c472-4ecd-c5d3-d3753c7fd7c4"
      },
      "outputs": [
        {
          "output_type": "stream",
          "name": "stdout",
          "text": [
            "50\n"
          ]
        }
      ],
      "source": [
        "score = score + 50 # now score is 0 + 50 which is 50\n",
        "print(score)"
      ]
    },
    {
      "cell_type": "markdown",
      "id": "b6d6a85b-c210-4bd3-8cb3-7013775fcec4",
      "metadata": {
        "id": "b6d6a85b-c210-4bd3-8cb3-7013775fcec4"
      },
      "source": [
        "In a similar way, when the score increases by 100 points, the variable `score` can be updated by adding `100` to the previous value stored in `score`."
      ]
    },
    {
      "cell_type": "code",
      "execution_count": null,
      "id": "a7b08d88",
      "metadata": {
        "colab": {
          "base_uri": "https://localhost:8080/"
        },
        "id": "a7b08d88",
        "outputId": "6b5c1566-a428-4ab6-aa73-cd217091fa62"
      },
      "outputs": [
        {
          "output_type": "stream",
          "name": "stdout",
          "text": [
            "150\n"
          ]
        }
      ],
      "source": [
        "score = score + 100 # now score is 100 + 50 which is 150\n",
        "print(score)"
      ]
    },
    {
      "cell_type": "markdown",
      "id": "cbd2c6e3-edd1-42fc-9f3b-b4b1eed37412",
      "metadata": {
        "id": "cbd2c6e3-edd1-42fc-9f3b-b4b1eed37412"
      },
      "source": [
        "And, after scoring an extra 300 points, the variable `score` is updated by adding `300` to the previous value stored in `score`."
      ]
    },
    {
      "cell_type": "code",
      "execution_count": null,
      "id": "101602ad",
      "metadata": {
        "colab": {
          "base_uri": "https://localhost:8080/"
        },
        "id": "101602ad",
        "outputId": "eb6b4589-ef81-42f6-a7cb-e0d78659f5f0"
      },
      "outputs": [
        {
          "output_type": "stream",
          "name": "stdout",
          "text": [
            "450\n"
          ]
        }
      ],
      "source": [
        "score = score + 300 # now score is 150 + 300 which is 450\n",
        "print(score)"
      ]
    },
    {
      "cell_type": "markdown",
      "id": "50b3f514-dd75-475c-819f-ad55e93f2728",
      "metadata": {
        "id": "50b3f514-dd75-475c-819f-ad55e93f2728"
      },
      "source": [
        "So at the end, the variable `score` stores the most updated score value.\n",
        "\n",
        "You can print the final score using an f-string as shown in the cell below:"
      ]
    },
    {
      "cell_type": "code",
      "execution_count": null,
      "id": "4a0cc976",
      "metadata": {
        "colab": {
          "base_uri": "https://localhost:8080/"
        },
        "id": "4a0cc976",
        "outputId": "128d7e49-039e-4e2c-e252-7635653fa36f"
      },
      "outputs": [
        {
          "output_type": "stream",
          "name": "stdout",
          "text": [
            "Your final score was: 450\n"
          ]
        }
      ],
      "source": [
        "print(f\"Your final score was: {score}\") # prints 450"
      ]
    },
    {
      "cell_type": "markdown",
      "id": "8c98ef76-dbc5-46e9-bfea-44e1eead9e19",
      "metadata": {
        "id": "8c98ef76-dbc5-46e9-bfea-44e1eead9e19"
      },
      "source": [
        "## Variable names restrictions"
      ]
    },
    {
      "cell_type": "markdown",
      "id": "a521e742-511b-4d4d-b07c-248ec3d5e43d",
      "metadata": {
        "id": "a521e742-511b-4d4d-b07c-248ec3d5e43d"
      },
      "source": [
        "To demonstrate an important fact about variable names in Python, try to run the code below."
      ]
    },
    {
      "cell_type": "code",
      "execution_count": null,
      "id": "42e3bcd2",
      "metadata": {
        "id": "42e3bcd2"
      },
      "outputs": [],
      "source": [
        "my_score = 450"
      ]
    },
    {
      "cell_type": "markdown",
      "id": "a4b2761a-e06d-46a3-a68f-1b6017a81881",
      "metadata": {
        "id": "a4b2761a-e06d-46a3-a68f-1b6017a81881"
      },
      "source": [
        "Now, ask the chatbot why that code didn't work. You can use the prompt suggested here.\n",
        "\n",
        "<p style=\"background-color:#F5C780; padding:15px\"> 🤖 <b>Use the Chatbot</b>: Why doesn't this code work? my score = 450\n",
        "</p>"
      ]
    },
    {
      "cell_type": "markdown",
      "id": "5aece0d4",
      "metadata": {
        "id": "5aece0d4"
      },
      "source": [
        "## Variables allow you to code efficiently!"
      ]
    },
    {
      "cell_type": "markdown",
      "id": "a5e87451",
      "metadata": {
        "id": "a5e87451"
      },
      "source": [
        "Recall the dog age example that you saw in previous lessons. Assuming that Otto is 49 years old, you can display his dog age by using `print(49 / 7)`."
      ]
    },
    {
      "cell_type": "code",
      "execution_count": null,
      "id": "1643e928",
      "metadata": {
        "colab": {
          "base_uri": "https://localhost:8080/"
        },
        "id": "1643e928",
        "outputId": "71642d9c-dd45-4d26-d34a-9f50bfe62862"
      },
      "outputs": [
        {
          "output_type": "stream",
          "name": "stdout",
          "text": [
            "7.0\n"
          ]
        }
      ],
      "source": [
        "print(49 / 7)"
      ]
    },
    {
      "cell_type": "markdown",
      "id": "e3de9f60",
      "metadata": {
        "id": "e3de9f60"
      },
      "source": [
        "Using f-strings so that it is clear what you are displaying, you would use code similar to the one in the cell below."
      ]
    },
    {
      "cell_type": "code",
      "execution_count": null,
      "id": "4db3559f",
      "metadata": {
        "colab": {
          "base_uri": "https://localhost:8080/"
        },
        "id": "4db3559f",
        "outputId": "b8af7360-2596-47e4-840a-558fd598f043"
      },
      "outputs": [
        {
          "output_type": "stream",
          "name": "stdout",
          "text": [
            "Otto's age in dog years is 7.0\n"
          ]
        }
      ],
      "source": [
        "print(f\"Otto's age in dog years is {49 / 7}\")"
      ]
    },
    {
      "cell_type": "markdown",
      "id": "98904686",
      "metadata": {
        "id": "98904686"
      },
      "source": [
        "Alternatively, now that you have seen how variables work, you can compute Otto's dog age and assign it to the variable `dog_age`."
      ]
    },
    {
      "cell_type": "code",
      "execution_count": null,
      "id": "a9918f72",
      "metadata": {
        "id": "a9918f72"
      },
      "outputs": [],
      "source": [
        "dog_age = 3"
      ]
    },
    {
      "cell_type": "markdown",
      "id": "8db0f9f6",
      "metadata": {
        "id": "8db0f9f6"
      },
      "source": [
        "You can see how this would be an advantage if you consider the following scenario. Let's say you want to display an f-string with Otto's dog age multiple times. Without using variables, you would need to compute his dog age as many times as you refer to it."
      ]
    },
    {
      "cell_type": "code",
      "execution_count": null,
      "id": "2874dcd1",
      "metadata": {
        "colab": {
          "base_uri": "https://localhost:8080/"
        },
        "id": "2874dcd1",
        "outputId": "32bce929-3fba-4f3d-cf58-c1ce3cb79772"
      },
      "outputs": [
        {
          "output_type": "stream",
          "name": "stdout",
          "text": [
            "Otto's dog age is 7.0. So a dog that's about\n",
            "7.0 would be the same age as Otto. Any dog born about 7.0\n",
            "years ago would be in the same stage of life as Otto.\n"
          ]
        }
      ],
      "source": [
        "print(f\"\"\"Otto's dog age is {49/7}. So a dog that's about\n",
        "{49/7} would be the same age as Otto. Any dog born about {49/7}\n",
        "years ago would be in the same stage of life as Otto.\"\"\")"
      ]
    },
    {
      "cell_type": "markdown",
      "id": "335511cc",
      "metadata": {
        "id": "335511cc"
      },
      "source": [
        "If Otto became a year older, you would need to change the values in each of the curly braces to `50/7`. Instead, if you used an f-string with the `dog_age` variable as the one below:"
      ]
    },
    {
      "cell_type": "code",
      "execution_count": null,
      "id": "98bf95bf",
      "metadata": {
        "colab": {
          "base_uri": "https://localhost:8080/"
        },
        "id": "98bf95bf",
        "outputId": "e367c64a-cc2e-4e5c-98d2-0885ced241ce"
      },
      "outputs": [
        {
          "output_type": "stream",
          "name": "stdout",
          "text": [
            "Otto's dog age is 3. So a dog that's about\n",
            "3 would be the same age as Otto. Any dog born about 3\n",
            "years ago would be in the same stage of life as Otto.\n"
          ]
        }
      ],
      "source": [
        "print(f\"\"\"Otto's dog age is {dog_age}. So a dog that's about\n",
        "{dog_age} would be the same age as Otto. Any dog born about {dog_age}\n",
        "years ago would be in the same stage of life as Otto.\"\"\")"
      ]
    },
    {
      "cell_type": "markdown",
      "id": "bc58205f",
      "metadata": {
        "id": "bc58205f"
      },
      "source": [
        "You will only need to update `dog_age` with Otto's new equivalent dog age:"
      ]
    },
    {
      "cell_type": "code",
      "execution_count": null,
      "id": "e7652ae2",
      "metadata": {
        "id": "e7652ae2"
      },
      "outputs": [],
      "source": [
        "dog_age = 50/7"
      ]
    },
    {
      "cell_type": "markdown",
      "id": "87549ba8",
      "metadata": {
        "id": "87549ba8"
      },
      "source": [
        "And use the same f-string that you used before without editing. By defining a variable once, you can use it in multiple places, which makes computer programs much more efficient."
      ]
    },
    {
      "cell_type": "code",
      "execution_count": null,
      "id": "9df1557b",
      "metadata": {
        "id": "9df1557b"
      },
      "outputs": [],
      "source": [
        "print(f\"\"\"Otto's dog age is {dog_age}. So a dog that's about\n",
        "{dog_age} would be the same age as Otto. Any dog born about {dog_age}\n",
        "years ago would be in the same stage of life as Otto.\"\"\")"
      ]
    },
    {
      "cell_type": "markdown",
      "id": "c2fd294e",
      "metadata": {
        "id": "c2fd294e"
      },
      "source": [
        "As another example, you can replace the name \"Otto\" with the variable `name` in curly braces."
      ]
    },
    {
      "cell_type": "code",
      "execution_count": null,
      "id": "d75fdd48",
      "metadata": {
        "colab": {
          "base_uri": "https://localhost:8080/"
        },
        "id": "d75fdd48",
        "outputId": "331de542-a9ec-4832-8d27-0cd234246209"
      },
      "outputs": [
        {
          "output_type": "stream",
          "name": "stdout",
          "text": [
            "Otto's dog age is 3. So a dog that's about\n",
            "3 would be the same age as Otto. Any dog born about 3\n",
            "years ago would be in the same stage of life as Otto.\n"
          ]
        }
      ],
      "source": [
        "print(f\"\"\"{name}'s dog age is {dog_age}. So a dog that's about\n",
        "{dog_age} would be the same age as {name}. Any dog born about {dog_age}\n",
        "years ago would be in the same stage of life as {name}.\"\"\")"
      ]
    },
    {
      "cell_type": "markdown",
      "id": "18ea082a",
      "metadata": {
        "id": "18ea082a"
      },
      "source": [
        "This way, you can change Otto's name to his first and last name:"
      ]
    },
    {
      "cell_type": "code",
      "execution_count": null,
      "id": "1b6d403b",
      "metadata": {
        "id": "1b6d403b"
      },
      "outputs": [],
      "source": [
        "name = \"Otto Matic\""
      ]
    },
    {
      "cell_type": "markdown",
      "id": "8ace1ea1",
      "metadata": {
        "id": "8ace1ea1"
      },
      "source": [
        "And use the f-string where the change is reflected in all places where the variable `name` appears."
      ]
    },
    {
      "cell_type": "code",
      "execution_count": null,
      "id": "21d5d631",
      "metadata": {
        "colab": {
          "base_uri": "https://localhost:8080/"
        },
        "id": "21d5d631",
        "outputId": "0b703602-2b8b-4d5b-a874-fe949e848e71"
      },
      "outputs": [
        {
          "output_type": "stream",
          "name": "stdout",
          "text": [
            "Otto Matic's dog age is 3. So a dog that's about\n",
            "3 would be the same age as Otto Matic. Any dog born about 3\n",
            "years ago would be in the same stage of life as Otto Matic.\n"
          ]
        }
      ],
      "source": [
        "print(f\"\"\"{name}'s dog age is {dog_age}. So a dog that's about\n",
        "{dog_age} would be the same age as {name}. Any dog born about {dog_age}\n",
        "years ago would be in the same stage of life as {name}.\"\"\")"
      ]
    },
    {
      "cell_type": "markdown",
      "id": "98ec7de7",
      "metadata": {
        "id": "98ec7de7"
      },
      "source": [
        "## Extra practice\n",
        "\n",
        "Try the exercises below to practice the concepts from this lesson. Read the comments in each cell with the instructions for each exercise.\n",
        "\n",
        "<b>Feel free to use the chatbot if you need help.</b>"
      ]
    },
    {
      "cell_type": "code",
      "execution_count": null,
      "id": "4e522416",
      "metadata": {
        "id": "4e522416",
        "colab": {
          "base_uri": "https://localhost:8080/"
        },
        "outputId": "44c2d518-3eb7-40e7-f18d-0224fd79aa93"
      },
      "outputs": [
        {
          "output_type": "stream",
          "name": "stdout",
          "text": [
            "Hello, Shafaq!\n",
            "Hello, Shafaq!\n"
          ]
        }
      ],
      "source": [
        "# Create a variable called 'my_name' and assign it the value of your name as a string.\n",
        "# Then print out a greeting using the variable, like \"Hello, Andrew!\"\n",
        "my_name = \"Shafaq\"\n",
        "print(\"Hello, \" + my_name + \"!\")\n",
        "print(f\"Hello, {my_name}!\")"
      ]
    },
    {
      "cell_type": "code",
      "execution_count": null,
      "id": "8124eec4",
      "metadata": {
        "id": "8124eec4",
        "colab": {
          "base_uri": "https://localhost:8080/"
        },
        "outputId": "8148731c-4717-4ea0-b6b5-a6ceca7855aa"
      },
      "outputs": [
        {
          "output_type": "stream",
          "name": "stdout",
          "text": [
            "Your favorite number plus 10 is 15\n"
          ]
        }
      ],
      "source": [
        "# Enter your favorite number below and store it in a variable called 'fav_num'.\n",
        "# Print out a message telling you what your favorite number plus 10 is.\n",
        "fav_num = 15\n",
        "print(f\"Your favorite number plus 10 is {fav_num + 10}\")"
      ]
    },
    {
      "cell_type": "code",
      "execution_count": null,
      "id": "1bc3acdd",
      "metadata": {
        "id": "1bc3acdd",
        "colab": {
          "base_uri": "https://localhost:8080/"
        },
        "outputId": "3cefa9f1-494d-4a04-fcc2-fd417c0c087b"
      },
      "outputs": [
        {
          "output_type": "stream",
          "name": "stdout",
          "text": [
            "I have visited 3 countries. I plan to visit 10 more countries,\n",
            "and when I'm done I will have visited 13 countries.\n"
          ]
        }
      ],
      "source": [
        "# Create two variables, 'countries_visited' and 'countries_to_visit' and assign them the number of\n",
        "# countries you've been to and the number of countries you hope to visit. Then complete the print statement.\n",
        "countries_visited = 3\n",
        "countries_to_visit = 10\n",
        "print(f\"\"\"I have visited {countries_visited} countries. I plan to visit {countries_to_visit} more countries,\n",
        "and when I'm done I will have visited {countries_visited + countries_to_visit} countries.\"\"\")"
      ]
    }
  ],
  "metadata": {
    "kernelspec": {
      "display_name": "Python 3 (ipykernel)",
      "language": "python",
      "name": "python3"
    },
    "language_info": {
      "codemirror_mode": {
        "name": "ipython",
        "version": 3
      },
      "file_extension": ".py",
      "mimetype": "text/x-python",
      "name": "python",
      "nbconvert_exporter": "python",
      "pygments_lexer": "ipython3",
      "version": "3.9.19"
    },
    "colab": {
      "provenance": [],
      "include_colab_link": true
    }
  },
  "nbformat": 4,
  "nbformat_minor": 5
}