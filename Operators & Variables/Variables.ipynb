{
  "cells": [
    {
      "cell_type": "markdown",
      "metadata": {
        "id": "view-in-github",
        "colab_type": "text"
      },
      "source": [
        "<a href=\"https://colab.research.google.com/github/ShafaqMandha/Basic-Python-for-Data-AI/blob/main/Operators%20%26%20Variables/Variables.ipynb\" target=\"_parent\"><img src=\"https://colab.research.google.com/assets/colab-badge.svg\" alt=\"Open In Colab\"/></a>"
      ]
    },
    {
      "cell_type": "markdown",
      "metadata": {
        "id": "DfPxxNnkpjfV"
      },
      "source": [
        "# Introduction to Variables\n",
        "\n",
        "Let's try out variables by declaring a variable and printing its value in our program."
      ],
      "id": "DfPxxNnkpjfV"
    },
    {
      "cell_type": "code",
      "execution_count": null,
      "metadata": {
        "id": "J94_ePzHpjfa"
      },
      "outputs": [],
      "source": [
        "number_of_shirts = 5\n",
        "print(number_of_shirts)"
      ],
      "id": "J94_ePzHpjfa"
    },
    {
      "cell_type": "markdown",
      "metadata": {
        "id": "TMCBDnBbpjfc"
      },
      "source": [
        "We introduced the variable `number_of_shirts`.\n",
        "\n",
        "You could also name it `shirt_count`, `num_of_shirts`, or `shirts_num`. The name is **arbitrary** but should be meaningful.\n",
        "\n",
        "`number_of_shirts = 5` assigns the value `5` to the variable using the `=` operator."
      ],
      "id": "TMCBDnBbpjfc"
    },
    {
      "cell_type": "code",
      "execution_count": null,
      "metadata": {
        "id": "cNObsJEJpjfd"
      },
      "outputs": [],
      "source": [
        "number_of_shirts = 5\n",
        "print(number_of_shirts + 5)\n",
        "print(number_of_shirts * 4)"
      ],
      "id": "cNObsJEJpjfd"
    },
    {
      "cell_type": "markdown",
      "metadata": {
        "id": "YlIZIuKJpjfe"
      },
      "source": [
        "---\n",
        "## Variable Naming Tips"
      ],
      "id": "YlIZIuKJpjfe"
    },
    {
      "cell_type": "markdown",
      "metadata": {
        "id": "Qb2037FHpjfg"
      },
      "source": [
        "### Tip #1: Use Only Alphanumeric Characters\n",
        "\n",
        "Valid names can only include letters, digits, and underscores `_`."
      ],
      "id": "Qb2037FHpjfg"
    },
    {
      "cell_type": "code",
      "execution_count": null,
      "metadata": {
        "id": "-2xVty9Spjfg"
      },
      "outputs": [],
      "source": [
        "H3LL0_W0RLD = \"Hello World\"  # ✅ Valid variable\n",
        "# $uper$t@r = \"superstar\"    # ❌ Invalid variable (will cause an error)"
      ],
      "id": "-2xVty9Spjfg"
    },
    {
      "cell_type": "markdown",
      "metadata": {
        "id": "2AYTO-pUpjfh"
      },
      "source": [
        "### Tip #2: Don't Start with Numbers\n",
        "\n",
        "Variables **cannot** begin with a digit."
      ],
      "id": "2AYTO-pUpjfh"
    },
    {
      "cell_type": "code",
      "execution_count": null,
      "metadata": {
        "id": "keH97khzpjfi"
      },
      "outputs": [],
      "source": [
        "oceans_12 = \"movie\"  # ✅ Valid\n",
        "# 13_reasons_why = \"series\"  # ❌ Invalid (uncomment to see error)"
      ],
      "id": "keH97khzpjfi"
    },
    {
      "cell_type": "markdown",
      "metadata": {
        "id": "j_GkDbLqpjfj"
      },
      "source": [
        "### Tip #3: Case Sensitivity Matters\n",
        "\n",
        "Python treats variable names with different capitalization as different variables."
      ],
      "id": "j_GkDbLqpjfj"
    },
    {
      "cell_type": "code",
      "execution_count": null,
      "metadata": {
        "id": "ZH8Ius32pjfk"
      },
      "outputs": [],
      "source": [
        "ANIMAL = \"cow\"\n",
        "ANiMaL = \"pig\"\n",
        "AnIMal = \"crocodile\"\n",
        "\n",
        "print(ANIMAL)\n",
        "print(ANiMaL)\n",
        "print(AnIMal)"
      ],
      "id": "ZH8Ius32pjfk"
    },
    {
      "cell_type": "markdown",
      "metadata": {
        "id": "r0wenNagpjfk"
      },
      "source": [
        "---\n",
        "## More About Variables\n",
        "\n",
        "Variables can store any data type — strings, numbers, booleans, etc."
      ],
      "id": "r0wenNagpjfk"
    },
    {
      "cell_type": "code",
      "execution_count": null,
      "metadata": {
        "id": "12BhXW_4pjfl"
      },
      "outputs": [],
      "source": [
        "string_var = \"Hello world!\"\n",
        "print(string_var)\n",
        "\n",
        "int_var = 3\n",
        "print(int_var)\n",
        "\n",
        "float_var = 23.21\n",
        "print(float_var)\n",
        "\n",
        "bool_var = True\n",
        "print(bool_var)"
      ],
      "id": "12BhXW_4pjfl"
    },
    {
      "cell_type": "markdown",
      "metadata": {
        "id": "MSlNvu_1pjfl"
      },
      "source": [
        "---\n",
        "## Updating Variable Values"
      ],
      "id": "MSlNvu_1pjfl"
    },
    {
      "cell_type": "code",
      "execution_count": null,
      "metadata": {
        "id": "aujIzO55pjfm"
      },
      "outputs": [],
      "source": [
        "variable = 5\n",
        "print(variable)\n",
        "\n",
        "variable = 8\n",
        "print(variable)\n",
        "\n",
        "variable = \"Added String value\"\n",
        "print(variable)\n",
        "\n",
        "variable = None\n",
        "print(variable)"
      ],
      "id": "aujIzO55pjfm"
    },
    {
      "cell_type": "markdown",
      "metadata": {
        "id": "Jy9wO4NBpjfm"
      },
      "source": [
        "---\n",
        "## Checking the Data Type\n",
        "\n",
        "Use `type()` to check the type of a variable."
      ],
      "id": "Jy9wO4NBpjfm"
    },
    {
      "cell_type": "code",
      "execution_count": null,
      "metadata": {
        "id": "fZhPizsHpjfm"
      },
      "outputs": [],
      "source": [
        "var = 5\n",
        "print(type(var))\n",
        "\n",
        "var = \"Hello Python!\"\n",
        "print(type(var))"
      ],
      "id": "fZhPizsHpjfm"
    }
  ],
  "metadata": {
    "colab": {
      "provenance": [],
      "include_colab_link": true
    },
    "kernelspec": {
      "display_name": "Python 3",
      "language": "python",
      "name": "python3"
    },
    "language_info": {
      "name": "python"
    }
  },
  "nbformat": 4,
  "nbformat_minor": 5
}