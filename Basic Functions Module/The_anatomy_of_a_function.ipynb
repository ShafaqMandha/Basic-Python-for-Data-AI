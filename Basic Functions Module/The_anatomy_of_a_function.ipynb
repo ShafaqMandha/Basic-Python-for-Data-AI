{
  "nbformat": 4,
  "nbformat_minor": 0,
  "metadata": {
    "colab": {
      "provenance": [],
      "authorship_tag": "ABX9TyOVacf0JkT1W2FPkvhsYGMY",
      "include_colab_link": true
    },
    "kernelspec": {
      "name": "python3",
      "display_name": "Python 3"
    },
    "language_info": {
      "name": "python"
    }
  },
  "cells": [
    {
      "cell_type": "markdown",
      "metadata": {
        "id": "view-in-github",
        "colab_type": "text"
      },
      "source": [
        "<a href=\"https://colab.research.google.com/github/ShafaqMandha/Basic-Python-for-Data-AI/blob/main/Basic%20Functions%20Module/The_anatomy_of_a_function.ipynb\" target=\"_parent\"><img src=\"https://colab.research.google.com/assets/colab-badge.svg\" alt=\"Open In Colab\"/></a>"
      ]
    },
    {
      "cell_type": "markdown",
      "source": [
        "# **The anatomy of a function**"
      ],
      "metadata": {
        "id": "_Q10CNPyK986"
      }
    },
    {
      "cell_type": "markdown",
      "source": [
        "In Python, a function is a block of code that performs a specific task. Functions are used to make code reusable, modular, and easy to understand. They take input arguments and return output values. In this answer, we will break down the anatomy of a function in Python, step by step, to explain how it works."
      ],
      "metadata": {
        "id": "8bpML7WXHXTW"
      }
    },
    {
      "cell_type": "markdown",
      "source": [
        "### Function Definition"
      ],
      "metadata": {
        "id": "zkXwNvrJHXdm"
      }
    },
    {
      "cell_type": "markdown",
      "source": [
        "To define a function in Python, we use the def keyword, followed by the name of the function and a set of parentheses. The parentheses may contain parameters, which are the input values to the function. After the parentheses, we use a colon to indicate the start of the function body. The function body consists of the code that performs the task. The function definition ends with the return statement, which returns the output value of the function."
      ],
      "metadata": {
        "id": "eQ9EkYY6HXf7"
      }
    },
    {
      "cell_type": "markdown",
      "source": [
        "Here's an example function definition:"
      ],
      "metadata": {
        "id": "-gurkl7EHXjK"
      }
    },
    {
      "cell_type": "code",
      "source": [
        "def add_numbers(a, b):\n",
        " sum = a + b\n",
        "return sum"
      ],
      "metadata": {
        "id": "uB0bpF-bH2NI"
      },
      "execution_count": null,
      "outputs": []
    },
    {
      "cell_type": "markdown",
      "source": [
        "In this example, the function is called add_numbers. It takes two parameters, a and b. The function body calculates the sum of a and b, assigns it to the variable sum, and then returns the value of sum."
      ],
      "metadata": {
        "id": "2iNQN3A9H8V2"
      }
    },
    {
      "cell_type": "markdown",
      "source": [
        "### Function Call"
      ],
      "metadata": {
        "id": "M1x82mhCIF4s"
      }
    },
    {
      "cell_type": "markdown",
      "source": [
        "To call a function, we simply use its name followed by parentheses. We can pass arguments to the function by placing them inside the parentheses. The function executes its code and returns the output value, which we can store in a variable if we want."
      ],
      "metadata": {
        "id": "BszAbxEKIF7S"
      }
    },
    {
      "cell_type": "markdown",
      "source": [
        "Here's an example function call:"
      ],
      "metadata": {
        "id": "4bLWNdxcIF-Y"
      }
    },
    {
      "cell_type": "code",
      "source": [
        "result = add_numbers(2, 3)\n",
        "print(result)"
      ],
      "metadata": {
        "id": "FYpPUHdsIow4"
      },
      "execution_count": null,
      "outputs": []
    },
    {
      "cell_type": "markdown",
      "source": [
        "In this example, we call the add_numbers function with arguments 2 and 3. The function returns the value 5, which we assign to the variable result. Finally, we print the value of result."
      ],
      "metadata": {
        "id": "24n4GiRkIGBb"
      }
    },
    {
      "cell_type": "markdown",
      "source": [
        "### Function Parameters"
      ],
      "metadata": {
        "id": "U0NIZ09qIGEI"
      }
    },
    {
      "cell_type": "markdown",
      "source": [
        "Function parameters are the input values that the function takes. Parameters are declared inside the parentheses in the function definition. When we call the function, we pass arguments that match the number and order of the parameters."
      ],
      "metadata": {
        "id": "3Eh-aUWnIGGi"
      }
    },
    {
      "cell_type": "markdown",
      "source": [
        "Here's an example function with parameters:"
      ],
      "metadata": {
        "id": "xWUHZ7aZIGJd"
      }
    },
    {
      "cell_type": "code",
      "source": [
        "def greet(name):\n",
        " print(f\"Hello, {name}!\")\n",
        "greet(\"Shafaq\")"
      ],
      "metadata": {
        "id": "L0834fzGIDF5"
      },
      "execution_count": null,
      "outputs": []
    },
    {
      "cell_type": "markdown",
      "source": [
        "In this example, the function is called greet. It takes one parameter, name. The function body uses an f-string to print a greeting with the value of name."
      ],
      "metadata": {
        "id": "6wrRuvTxIGMf"
      }
    },
    {
      "cell_type": "markdown",
      "source": [
        "### Default Parameters"
      ],
      "metadata": {
        "id": "yTsPEKp-IGPw"
      }
    },
    {
      "cell_type": "markdown",
      "source": [
        "Default parameters are parameters that have a default value. If the function is called without providing an argument for a default parameter, the default value is used instead."
      ],
      "metadata": {
        "id": "Fa_T5odIKL8J"
      }
    },
    {
      "cell_type": "markdown",
      "source": [
        "Here's an example function with default parameters:"
      ],
      "metadata": {
        "id": "WcAUr6jXKRel"
      }
    },
    {
      "cell_type": "code",
      "source": [
        "def power(base, exponent=2):\n",
        "   result = base ** exponent\n",
        "   return result\n",
        "\n",
        "power(10) = 100"
      ],
      "metadata": {
        "id": "e-DGkVyaKLR8"
      },
      "execution_count": null,
      "outputs": []
    },
    {
      "cell_type": "markdown",
      "source": [
        "In this example, the function is called power. It takes two parameters, base and exponent, with exponent having a default value of 2. If the function is called without providing a value for exponent, the default value of 2 is used."
      ],
      "metadata": {
        "id": "7_iwDvNKKaZc"
      }
    },
    {
      "cell_type": "markdown",
      "source": [
        "### Variable Number of Parameters"
      ],
      "metadata": {
        "id": "z4z9tUEqKeh3"
      }
    },
    {
      "cell_type": "markdown",
      "source": [
        "In some cases, we may want a function to accept a variable number of parameters. In Python, we can use the *args syntax to define a parameter that accepts a variable number of arguments."
      ],
      "metadata": {
        "id": "ICrUquFiKm89"
      }
    },
    {
      "cell_type": "markdown",
      "source": [
        "Here's an example function with variable parameters:"
      ],
      "metadata": {
        "id": "d5Q2BOGnKnIa"
      }
    },
    {
      "cell_type": "code",
      "source": [
        "def multiply(*args):\n",
        "  result = 1\n",
        "  for num in args:\n",
        "    result *= num\n",
        "  return result\n",
        "\n",
        "multiply(2,3,4)"
      ],
      "metadata": {
        "id": "LBZTuYTcKdTe"
      },
      "execution_count": null,
      "outputs": []
    },
    {
      "cell_type": "markdown",
      "source": [
        "In this example, the function is called multiply. It takes a variable number of arguments using the *args parameter. The function body multiplies all the arguments together and returns the result."
      ],
      "metadata": {
        "id": "TNPb83t1KnUH"
      }
    }
  ]
}