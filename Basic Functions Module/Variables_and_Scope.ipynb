{
  "nbformat": 4,
  "nbformat_minor": 0,
  "metadata": {
    "colab": {
      "provenance": [],
      "authorship_tag": "ABX9TyPHTT2rSHOfbY+yBNAjXrZf",
      "include_colab_link": true
    },
    "kernelspec": {
      "name": "python3",
      "display_name": "Python 3"
    },
    "language_info": {
      "name": "python"
    }
  },
  "cells": [
    {
      "cell_type": "markdown",
      "metadata": {
        "id": "view-in-github",
        "colab_type": "text"
      },
      "source": [
        "<a href=\"https://colab.research.google.com/github/ShafaqMandha/Basic-Python-for-Data-AI/blob/main/Basic%20Functions%20Module/Variables_and_Scope.ipynb\" target=\"_parent\"><img src=\"https://colab.research.google.com/assets/colab-badge.svg\" alt=\"Open In Colab\"/></a>"
      ]
    },
    {
      "cell_type": "markdown",
      "source": [
        "# **Variables and Scope**"
      ],
      "metadata": {
        "id": "wqoIimYW3172"
      }
    },
    {
      "cell_type": "markdown",
      "source": [
        "In Python, a function is a block of reusable code that performs a specific task. Functions provide a way to organize and modularize code, making it easier to read, understand, and maintain. One important aspect of functions is how they handle variables and their scope."
      ],
      "metadata": {
        "id": "h3TdV2Fm1A3h"
      }
    },
    {
      "cell_type": "markdown",
      "source": [
        "## Variables"
      ],
      "metadata": {
        "id": "pYd5_PQf1Jre"
      }
    },
    {
      "cell_type": "markdown",
      "source": [
        "Variables are used to store data in memory for later use. In Python, variables are created when a value is assigned to them."
      ],
      "metadata": {
        "id": "ebytOtTj1J2J"
      }
    },
    {
      "cell_type": "markdown",
      "source": [
        "For example:"
      ],
      "metadata": {
        "id": "NVcXBmp21Zok"
      }
    },
    {
      "cell_type": "code",
      "execution_count": null,
      "metadata": {
        "id": "R-cixovl1ALX"
      },
      "outputs": [],
      "source": [
        "x = 10"
      ]
    },
    {
      "cell_type": "markdown",
      "source": [
        "In this case, the variable x is assigned the value 10. Variables can store different types of data, such as numbers, strings, lists, or even other objects."
      ],
      "metadata": {
        "id": "c0PENwHT1n3_"
      }
    },
    {
      "cell_type": "markdown",
      "source": [
        "## Scope"
      ],
      "metadata": {
        "id": "cisqoBsU1oDT"
      }
    },
    {
      "cell_type": "markdown",
      "source": [
        "Scope refers to the accessibility or visibility of variables in different parts of the code. In Python, variables have different scopes, which determine where they can be accessed."
      ],
      "metadata": {
        "id": "7wZZkPcX148s"
      }
    },
    {
      "cell_type": "markdown",
      "source": [
        "## Local Scope"
      ],
      "metadata": {
        "id": "MhUanBFq2E23"
      }
    },
    {
      "cell_type": "markdown",
      "source": [
        "A variable defined inside a function has local scope. It is accessible only within that function."
      ],
      "metadata": {
        "id": "77WeJJnc2FBx"
      }
    },
    {
      "cell_type": "markdown",
      "source": [
        "For example:"
      ],
      "metadata": {
        "id": "5PG5FD172FRZ"
      }
    },
    {
      "cell_type": "code",
      "source": [
        "def my_function():\n",
        " y = 20\n",
        " print(y)\n",
        "my_function()\n",
        "# Output: 20\n",
        "print(y)\n",
        "# Raises an error: NameError: name 'y' is not defined"
      ],
      "metadata": {
        "id": "rQRXPMj42ZL7"
      },
      "execution_count": null,
      "outputs": []
    },
    {
      "cell_type": "markdown",
      "source": [
        "Here, the variable y is defined inside the my_function() function and can only be accessed within that function. If we try to access it outside the function, a NameError will be raised."
      ],
      "metadata": {
        "id": "hdIUiBls2g1J"
      }
    },
    {
      "cell_type": "markdown",
      "source": [
        "## Global Scope"
      ],
      "metadata": {
        "id": "NNYp60Gi2o8O"
      }
    },
    {
      "cell_type": "markdown",
      "source": [
        "A variable defined outside any function has global scope. It is accessible throughout the entire program. For example:"
      ],
      "metadata": {
        "id": "25MDKoVC2pqZ"
      }
    },
    {
      "cell_type": "code",
      "source": [
        "x = 10\n",
        "def my_function():\n",
        "   print(x)\n",
        " my_function()\n",
        "# Output: 10\n",
        " print(x)\n",
        "# Output: 10"
      ],
      "metadata": {
        "id": "ZnP8_aRg21pC"
      },
      "execution_count": null,
      "outputs": []
    },
    {
      "cell_type": "markdown",
      "source": [
        "In this case, the variable x is defined outside the my_function() function and can be accessed both inside the function and outside it. This is because it has global scope."
      ],
      "metadata": {
        "id": "8lDyRYNB2_Iy"
      }
    },
    {
      "cell_type": "markdown",
      "source": [
        "## Local vs. Global Scope"
      ],
      "metadata": {
        "id": "hAqtMMOf3EjD"
      }
    },
    {
      "cell_type": "markdown",
      "source": [
        "x = 10 def my_function(): x = 20 print(x) my_function() # Output: 20 print(x) # Output: 10"
      ],
      "metadata": {
        "id": "FUnXYonz3Er4"
      }
    },
    {
      "cell_type": "markdown",
      "source": [
        "In this case, the local variable x within the function my_function() takes precedence over the global variable x. So, the function prints 20 as the output, while the global variable remains unchanged."
      ],
      "metadata": {
        "id": "QUa6N72u3E5E"
      }
    },
    {
      "cell_type": "markdown",
      "source": [
        "Modifying Global Variables within a Function\n",
        "By default, if you try to modify a global variable within a function, Python creates a new local variable instead. To modify the global variable itself, you need to use the global keyword."
      ],
      "metadata": {
        "id": "Wc0K23ry3YmJ"
      }
    },
    {
      "cell_type": "markdown",
      "source": [
        "For example:"
      ],
      "metadata": {
        "id": "ZkVRDFsK3bhw"
      }
    },
    {
      "cell_type": "code",
      "source": [
        "x = 10\n",
        "def my_function():\n",
        "  global x\n",
        "  x = 20\n",
        "  print(x)\n",
        " my_function()\n",
        " print(x)\n",
        " # Output: 20"
      ],
      "metadata": {
        "id": "YmOaV9j-3gp-"
      },
      "execution_count": null,
      "outputs": []
    },
    {
      "cell_type": "markdown",
      "source": [
        "In this case, the global the keyword is used to specify that we want to modify the global variable x within the function. As a result, the value of x is changed to 20."
      ],
      "metadata": {
        "id": "n8FFNRCD3fUg"
      }
    },
    {
      "cell_type": "markdown",
      "source": [
        "## Conclusion"
      ],
      "metadata": {
        "id": "3peLyII53toc"
      }
    },
    {
      "cell_type": "markdown",
      "source": [
        "Understanding how functions handle variables and their scope is crucial for writing clean and efficient code in Python. By using local and global variables appropriately, you can create well-organized and reusable functions that contribute to the overall structure and readability of your programs."
      ],
      "metadata": {
        "id": "yN8WsPs13t5F"
      }
    }
  ]
}