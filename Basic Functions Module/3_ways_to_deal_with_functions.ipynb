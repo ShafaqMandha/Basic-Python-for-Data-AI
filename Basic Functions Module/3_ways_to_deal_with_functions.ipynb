{
  "nbformat": 4,
  "nbformat_minor": 0,
  "metadata": {
    "colab": {
      "provenance": [],
      "collapsed_sections": [
        "lBwqJI0y4ca_",
        "Kr_jrc2l4yd5"
      ],
      "authorship_tag": "ABX9TyPadPMI6gcX2pTBvAiHBqtQ",
      "include_colab_link": true
    },
    "kernelspec": {
      "name": "python3",
      "display_name": "Python 3"
    },
    "language_info": {
      "name": "python"
    }
  },
  "cells": [
    {
      "cell_type": "markdown",
      "metadata": {
        "id": "view-in-github",
        "colab_type": "text"
      },
      "source": [
        "<a href=\"https://colab.research.google.com/github/ShafaqMandha/Basic-Python-for-Data-AI/blob/main/Basic%20Functions%20Module/3_ways_to_deal_with_functions.ipynb\" target=\"_parent\"><img src=\"https://colab.research.google.com/assets/colab-badge.svg\" alt=\"Open In Colab\"/></a>"
      ]
    },
    {
      "cell_type": "markdown",
      "source": [
        "# **3 ways to deal with functions**"
      ],
      "metadata": {
        "id": "B2NX-ulH4N-B"
      }
    },
    {
      "cell_type": "markdown",
      "source": [
        "In Python, a function can be treated as a variable, just like any other data type such as integers, strings, or lists. This means that you can assign a function to a variable, pass a function as an argument to another function, or even return a function from another function."
      ],
      "metadata": {
        "id": "Uw7h_RpC4baE"
      }
    },
    {
      "cell_type": "markdown",
      "source": [
        "## 1. To assign a function to a variable, you simply use the function name without parentheses. For example, consider the following function that calculates the area of a rectangle:"
      ],
      "metadata": {
        "id": "lBwqJI0y4ca_"
      }
    },
    {
      "cell_type": "code",
      "execution_count": null,
      "metadata": {
        "id": "qkq1mdss4Mrn"
      },
      "outputs": [],
      "source": [
        "def calculate_area(length, width):\n",
        " area = length * width\n",
        " return area"
      ]
    },
    {
      "cell_type": "markdown",
      "source": [
        "To assign this function to a variable, you can do the following:"
      ],
      "metadata": {
        "id": "ni56eUqg4mKd"
      }
    },
    {
      "cell_type": "code",
      "source": [
        "area_function = calculate_area"
      ],
      "metadata": {
        "id": "wuZQALsg4sdt"
      },
      "execution_count": null,
      "outputs": []
    },
    {
      "cell_type": "markdown",
      "source": [
        "Now, area_function is a variable that points to the calculate_area function. You can call this function using the variable name, like this:"
      ],
      "metadata": {
        "id": "EmU9BDMr4u9M"
      }
    },
    {
      "cell_type": "code",
      "source": [
        "area = area_function(10, 5)\n",
        " print(area)\n",
        "# Output: 50"
      ],
      "metadata": {
        "id": "E4Hc3MW64vx7"
      },
      "execution_count": null,
      "outputs": []
    },
    {
      "cell_type": "markdown",
      "source": [
        "## 2. You can also pass a function as an argument to another function. For example, consider the following function that takes a function and two arguments as inputs, and then calls the function with the arguments:"
      ],
      "metadata": {
        "id": "Kr_jrc2l4yd5"
      }
    },
    {
      "cell_type": "code",
      "source": [
        "def call_function(func, arg1, arg2):\n",
        "   result = func(arg1, arg2)\n",
        "   return result"
      ],
      "metadata": {
        "id": "Yl7rtTIV5C3T"
      },
      "execution_count": null,
      "outputs": []
    },
    {
      "cell_type": "markdown",
      "source": [
        "To use this function with calculate_area function, you can do the following:"
      ],
      "metadata": {
        "id": "lLpRQ6UH5DdE"
      }
    },
    {
      "cell_type": "code",
      "source": [
        "area = call_function(calculate_area, 10, 5)\n",
        "print(area)\n",
        "# Output: 50"
      ],
      "metadata": {
        "id": "84j1OQC_5DDK"
      },
      "execution_count": null,
      "outputs": []
    },
    {
      "cell_type": "markdown",
      "source": [
        "## 3. Finally, you can even return a function from another function. For example, consider the following function that returns a function that squares the number after adding 1:"
      ],
      "metadata": {
        "id": "kEjdMAtz5KZw"
      }
    },
    {
      "cell_type": "code",
      "source": [
        "# Example of a nested function in Python\n",
        "\n",
        "def outer_function(x):\n",
        "    def inner_function(y):\n",
        "        return y + 1\n",
        "    return inner_function(x) ** 2"
      ],
      "metadata": {
        "id": "6MW3DAJ-5Y83"
      },
      "execution_count": null,
      "outputs": []
    },
    {
      "cell_type": "markdown",
      "source": [
        "To use this function, you can first call outer_function to get a new function that calculates the squaring of numbers after adding one, and then call that new function:\n",
        "\n"
      ],
      "metadata": {
        "id": "_2tPkoR55SMD"
      }
    },
    {
      "cell_type": "markdown",
      "source": [
        "The example demonstrates a simple nested function in Python. Here, outer_function takes an argument x and defines an inner_function inside it that takes another argument y. The inner_function increments y by 1, and outer_function returns twice the incremented value."
      ],
      "metadata": {
        "id": "robk0hN55fhK"
      }
    },
    {
      "cell_type": "markdown",
      "source": [
        "When we call outer_function(5), it returns (5+1)^2= 36"
      ],
      "metadata": {
        "id": "9FFqdVfc5fuI"
      }
    },
    {
      "cell_type": "code",
      "source": [
        "# Test the nested function\n",
        "result = outer_function(5)\n",
        "result"
      ],
      "metadata": {
        "id": "B4giAhIb5oOR"
      },
      "execution_count": null,
      "outputs": []
    },
    {
      "cell_type": "markdown",
      "source": [
        "If we want to Print the output with the desired text then we can change the return accordingly as shown below"
      ],
      "metadata": {
        "id": "rB1lRexu5r7Y"
      }
    },
    {
      "cell_type": "code",
      "source": [
        "# Simpler example of a nested function in Python:greetings\n",
        "def greeting(first, last):\n",
        "  # nested helper function\n",
        "  def getFullName():\n",
        "    return first + \" \" + last\n",
        "\n",
        "\n",
        "  print(\"Hi, \" + getFullName() + \"!\")"
      ],
      "metadata": {
        "id": "c68iBtvg5pI-"
      },
      "execution_count": null,
      "outputs": []
    },
    {
      "cell_type": "markdown",
      "source": [
        "We have a Python function called calculate_area that calculates the area of a rectangle given its length and width. Inside this function, we define another function called rectangle_area that performs the actual calculation."
      ],
      "metadata": {
        "id": "7xcrGDCE5zzz"
      }
    },
    {
      "cell_type": "markdown",
      "source": [
        "Here's how it works:\n",
        "\n",
        "\n",
        "* calculate_area(5, 10) calls the nested function rectangle_area(5, 10).\n",
        "* The nested function returns 5×10=50.\n",
        "* 5×10=50.\n",
        "* Finally, calculate_area returns the message \"The area of the rectangle is: 50\".\n",
        "\n",
        "\n",
        "\n",
        "\n"
      ],
      "metadata": {
        "id": "fg2JTyAx53Bx"
      }
    },
    {
      "cell_type": "code",
      "source": [
        "# Test the nested function\n",
        "# Test the simpler nested function\n",
        "Hi, Quincy Larson!"
      ],
      "metadata": {
        "id": "4V3-BfUH6UTI"
      },
      "execution_count": null,
      "outputs": []
    },
    {
      "cell_type": "markdown",
      "source": [
        "This example showcases how a nested function can be used for performing a specific computation within a broader function."
      ],
      "metadata": {
        "id": "e6A-1M396VyJ"
      }
    },
    {
      "cell_type": "markdown",
      "source": [
        "### In summary, in Python, a function can be treated as a variable, which allows you to assign a function to a variable, pass a function as an argument to another function, or even return a function from another function. This powerful feature allows you to write more flexible and modular code."
      ],
      "metadata": {
        "id": "ViuxBk2i6ZWu"
      }
    }
  ]
}