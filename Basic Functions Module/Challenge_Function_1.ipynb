{
  "nbformat": 4,
  "nbformat_minor": 0,
  "metadata": {
    "colab": {
      "provenance": [],
      "authorship_tag": "ABX9TyMV6mh9+B15nFpIBTkwTHLd",
      "include_colab_link": true
    },
    "kernelspec": {
      "name": "python3",
      "display_name": "Python 3"
    },
    "language_info": {
      "name": "python"
    }
  },
  "cells": [
    {
      "cell_type": "markdown",
      "metadata": {
        "id": "view-in-github",
        "colab_type": "text"
      },
      "source": [
        "<a href=\"https://colab.research.google.com/github/ShafaqMandha/Basic-Python-for-Data-AI/blob/main/Basic%20Functions%20Module/Challenge_Function_1.ipynb\" target=\"_parent\"><img src=\"https://colab.research.google.com/assets/colab-badge.svg\" alt=\"Open In Colab\"/></a>"
      ]
    },
    {
      "cell_type": "markdown",
      "source": [
        "# **Challenge: Function 1**"
      ],
      "metadata": {
        "id": "UOf00bFUzOv1"
      }
    },
    {
      "cell_type": "markdown",
      "source": [
        "Create a function to the kth largest number from the given list\n",
        "\n",
        "```\n",
        "list = [ 14,9,3,5,1]\n",
        "\n",
        "k=3\n",
        "\n",
        "#Output = 5\n",
        "```\n",
        "\n"
      ],
      "metadata": {
        "id": "3txVs6KCyibe"
      }
    },
    {
      "cell_type": "code",
      "execution_count": null,
      "metadata": {
        "colab": {
          "base_uri": "https://localhost:8080/"
        },
        "id": "uDiHzHqfyhKH",
        "outputId": "d3d9eedf-5a17-43ea-cd92-de66b6451023"
      },
      "outputs": [
        {
          "output_type": "stream",
          "name": "stdout",
          "text": [
            "5\n"
          ]
        }
      ],
      "source": [
        "# Defining the function\n",
        "def find_kth_largest(my_list, k):\n",
        "    my_list.sort(reverse=True)\n",
        "    return(my_list[k-1])\n",
        "\n",
        "# Running the function\n",
        "numbers = [4, 9, 2, 7, 5, 1]\n",
        "k = 3\n",
        "\n",
        "kth_largest = find_kth_largest(numbers, k)\n",
        "print(kth_largest)"
      ]
    }
  ]
}