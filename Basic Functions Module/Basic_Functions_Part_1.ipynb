{
  "cells": [
    {
      "cell_type": "markdown",
      "metadata": {
        "id": "view-in-github",
        "colab_type": "text"
      },
      "source": [
        "<a href=\"https://colab.research.google.com/github/ShafaqMandha/Basic-Python-for-Data-AI/blob/main/Basic%20Functions%20Module/Basic_Functions_Part_1.ipynb\" target=\"_parent\"><img src=\"https://colab.research.google.com/assets/colab-badge.svg\" alt=\"Open In Colab\"/></a>"
      ]
    },
    {
      "cell_type": "code",
      "execution_count": null,
      "id": "b2f1bf7d",
      "metadata": {
        "id": "b2f1bf7d"
      },
      "outputs": [],
      "source": [
        "import math"
      ]
    },
    {
      "cell_type": "markdown",
      "id": "e641afae",
      "metadata": {
        "id": "e641afae"
      },
      "source": [
        "## Functions"
      ]
    },
    {
      "cell_type": "code",
      "execution_count": null,
      "id": "5df05257",
      "metadata": {
        "id": "5df05257",
        "outputId": "99761a3c-2a55-42d0-a733-0e217ac3bc84"
      },
      "outputs": [
        {
          "data": {
            "text/plain": [
              "5"
            ]
          },
          "execution_count": 1,
          "metadata": {},
          "output_type": "execute_result"
        }
      ],
      "source": [
        "def performOperation(num1, num2, operation):\n",
        "    if operation == 'sum':\n",
        "        return num1 + num2\n",
        "    if operation == 'multiply':\n",
        "        return num1 * num2\n",
        "\n",
        "performOperation(2, 3, 'sum')"
      ]
    },
    {
      "cell_type": "code",
      "execution_count": null,
      "id": "4f53e2d0",
      "metadata": {
        "id": "4f53e2d0"
      },
      "outputs": [],
      "source": []
    },
    {
      "cell_type": "markdown",
      "id": "c5a6d86b",
      "metadata": {
        "id": "c5a6d86b"
      },
      "source": [
        "### Named Parameters"
      ]
    },
    {
      "cell_type": "code",
      "execution_count": null,
      "id": "4ebd385a",
      "metadata": {
        "id": "4ebd385a",
        "outputId": "2c26427a-d08c-431c-bea2-f65f485f15d7"
      },
      "outputs": [
        {
          "data": {
            "text/plain": [
              "5"
            ]
          },
          "execution_count": 2,
          "metadata": {},
          "output_type": "execute_result"
        }
      ],
      "source": [
        "def performOperation(num1, num2, operation='sum'):\n",
        "    if operation == 'sum':\n",
        "        return num1 + num2\n",
        "    if operation == 'multiply':\n",
        "        return num1 * num2\n",
        "\n",
        "performOperation(2, 3)"
      ]
    },
    {
      "cell_type": "code",
      "execution_count": null,
      "id": "2e45e600",
      "metadata": {
        "id": "2e45e600",
        "outputId": "29ce6991-071c-45ab-fbac-7ea7ae248d2d"
      },
      "outputs": [
        {
          "name": "stdout",
          "output_type": "stream",
          "text": [
            "A new message!\n"
          ]
        },
        {
          "data": {
            "text/plain": [
              "6"
            ]
          },
          "execution_count": 7,
          "metadata": {},
          "output_type": "execute_result"
        }
      ],
      "source": [
        "def performOperation(num1, num2, operation='sum', message='Default message'):\n",
        "    print(message)\n",
        "    if operation == 'sum':\n",
        "        return num1 + num2\n",
        "    if operation == 'multiply':\n",
        "        return num1 * num2\n",
        "\n",
        "performOperation(2, 3, message='A new message!', operation='multiply')"
      ]
    },
    {
      "cell_type": "markdown",
      "id": "d7fa32cd",
      "metadata": {
        "id": "d7fa32cd"
      },
      "source": [
        "### *args"
      ]
    },
    {
      "cell_type": "code",
      "execution_count": null,
      "id": "a958ca8f",
      "metadata": {
        "id": "a958ca8f",
        "outputId": "88ac2ddb-9a34-4f4a-feae-71ed906c6efe"
      },
      "outputs": [
        {
          "name": "stdout",
          "output_type": "stream",
          "text": [
            "(1, 2, 3)\n"
          ]
        }
      ],
      "source": [
        "def performOperation(*args):\n",
        "    print(args)\n",
        "\n",
        "performOperation(1,2,3)"
      ]
    },
    {
      "cell_type": "code",
      "execution_count": null,
      "id": "64d83230",
      "metadata": {
        "id": "64d83230",
        "outputId": "dc1dab9a-ee59-4ba7-d656-6fc6aa3f3fbd"
      },
      "outputs": [
        {
          "ename": "TypeError",
          "evalue": "performOperation() got an unexpected keyword argument 'operation'",
          "output_type": "error",
          "traceback": [
            "\u001b[0;31m---------------------------------------------------------------------------\u001b[0m",
            "\u001b[0;31mTypeError\u001b[0m                                 Traceback (most recent call last)",
            "Input \u001b[0;32mIn [10]\u001b[0m, in \u001b[0;36m<module>\u001b[0;34m\u001b[0m\n\u001b[0;32m----> 1\u001b[0m \u001b[43mperformOperation\u001b[49m\u001b[43m(\u001b[49m\u001b[38;5;241;43m1\u001b[39;49m\u001b[43m,\u001b[49m\u001b[38;5;241;43m2\u001b[39;49m\u001b[43m,\u001b[49m\u001b[38;5;241;43m3\u001b[39;49m\u001b[43m,\u001b[49m\u001b[43m \u001b[49m\u001b[43moperation\u001b[49m\u001b[38;5;241;43m=\u001b[39;49m\u001b[38;5;124;43m'\u001b[39;49m\u001b[38;5;124;43msum\u001b[39;49m\u001b[38;5;124;43m'\u001b[39;49m\u001b[43m)\u001b[49m\n",
            "\u001b[0;31mTypeError\u001b[0m: performOperation() got an unexpected keyword argument 'operation'"
          ]
        }
      ],
      "source": [
        "performOperation(1,2,3, operation='sum')"
      ]
    },
    {
      "cell_type": "markdown",
      "id": "27d94525",
      "metadata": {
        "id": "27d94525"
      },
      "source": [
        "### **kwargs"
      ]
    },
    {
      "cell_type": "code",
      "execution_count": null,
      "id": "a7359d98",
      "metadata": {
        "id": "a7359d98",
        "outputId": "15348920-08e4-4adf-e6e8-cd6f5271d4e4"
      },
      "outputs": [
        {
          "name": "stdout",
          "output_type": "stream",
          "text": [
            "(1, 2, 3)\n",
            "{'operation': 'sum'}\n"
          ]
        }
      ],
      "source": [
        "def performOperation(*args, **kwargs):\n",
        "    print(args)\n",
        "    print(kwargs)\n",
        "performOperation(1,2,3, operation='sum')"
      ]
    },
    {
      "cell_type": "code",
      "execution_count": null,
      "id": "92a644aa",
      "metadata": {
        "id": "92a644aa",
        "outputId": "fc6b7710-478e-47ba-9f70-9b9cfcc01ea7"
      },
      "outputs": [
        {
          "data": {
            "text/plain": [
              "27"
            ]
          },
          "execution_count": 16,
          "metadata": {},
          "output_type": "execute_result"
        }
      ],
      "source": [
        "def performOperation(*args, operation='sum'):\n",
        "    if operation == 'sum':\n",
        "        return sum(args)\n",
        "    if operation == 'multiply':\n",
        "        return math.prod(args)\n",
        "\n",
        "performOperation(1,2,3,6, 7, 8, operation='sum')"
      ]
    }
  ],
  "metadata": {
    "kernelspec": {
      "display_name": "Python 3 (ipykernel)",
      "language": "python",
      "name": "python3"
    },
    "language_info": {
      "codemirror_mode": {
        "name": "ipython",
        "version": 3
      },
      "file_extension": ".py",
      "mimetype": "text/x-python",
      "name": "python",
      "nbconvert_exporter": "python",
      "pygments_lexer": "ipython3",
      "version": "3.10.2"
    },
    "colab": {
      "provenance": [],
      "include_colab_link": true
    }
  },
  "nbformat": 4,
  "nbformat_minor": 5
}