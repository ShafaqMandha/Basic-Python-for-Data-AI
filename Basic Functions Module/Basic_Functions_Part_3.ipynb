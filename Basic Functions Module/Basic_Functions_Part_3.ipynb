{
  "cells": [
    {
      "cell_type": "markdown",
      "metadata": {
        "id": "view-in-github",
        "colab_type": "text"
      },
      "source": [
        "<a href=\"https://colab.research.google.com/github/ShafaqMandha/Basic-Python-for-Data-AI/blob/main/Basic%20Functions%20Module/Basic_Functions_Part_3.ipynb\" target=\"_parent\"><img src=\"https://colab.research.google.com/assets/colab-badge.svg\" alt=\"Open In Colab\"/></a>"
      ]
    },
    {
      "cell_type": "markdown",
      "id": "b693252d",
      "metadata": {
        "id": "b693252d"
      },
      "source": [
        "## Variables as Functions"
      ]
    },
    {
      "cell_type": "code",
      "execution_count": null,
      "id": "4f487c83",
      "metadata": {
        "id": "4f487c83"
      },
      "outputs": [],
      "source": [
        "x = 5"
      ]
    },
    {
      "cell_type": "code",
      "execution_count": null,
      "id": "cb49359a",
      "metadata": {
        "id": "cb49359a"
      },
      "outputs": [],
      "source": [
        "def x():\n",
        "    return 5"
      ]
    },
    {
      "cell_type": "markdown",
      "id": "4065cfed",
      "metadata": {
        "id": "4065cfed"
      },
      "source": [
        "### Viewing function data with  \\_\\_code\\_\\_"
      ]
    },
    {
      "cell_type": "code",
      "execution_count": null,
      "id": "64b94543",
      "metadata": {
        "id": "64b94543",
        "outputId": "582705c3-d269-4bb5-e764-9e1d6f8c80a5"
      },
      "outputs": [
        {
          "name": "stdout",
          "output_type": "stream",
          "text": [
            "()\n",
            "b'd\\x01S\\x00'\n"
          ]
        }
      ],
      "source": [
        "print(x.__code__.co_varnames)\n",
        "print(x.__code__.co_code)"
      ]
    },
    {
      "cell_type": "markdown",
      "id": "5eb0b9e0",
      "metadata": {
        "id": "5eb0b9e0"
      },
      "source": [
        "### Text processing in Python"
      ]
    },
    {
      "cell_type": "code",
      "execution_count": null,
      "id": "97284f20",
      "metadata": {
        "id": "97284f20"
      },
      "outputs": [],
      "source": [
        "text = '''\n",
        "Beautiful is better than ugly.\n",
        "Explicit is better than implicit.\n",
        "Simple is better than complex.\n",
        "Complex is better than complicated.\n",
        "Flat is better than nested.\n",
        "Sparse is better than dense.\n",
        "Readability counts.\n",
        "Special cases aren't special enough to break the rules.\n",
        "Although practicality beats purity.\n",
        "Errors should never pass silently.\n",
        "Unless explicitly silenced.\n",
        "In the face of ambiguity, refuse the temptation to guess.\n",
        "There should be one-- and preferably only one --obvious way to do it.\n",
        "Although that way may not be obvious at first unless you're Dutch.\n",
        "Now is better than never.\n",
        "Although never is often better than *right* now.\n",
        "If the implementation is hard to explain, it's a bad idea.\n",
        "If the implementation is easy to explain, it may be a good idea.\n",
        "Namespaces are one honking great idea -- let's do more of those!\n",
        "'''\n"
      ]
    },
    {
      "cell_type": "code",
      "execution_count": null,
      "id": "bd899058",
      "metadata": {
        "id": "bd899058"
      },
      "outputs": [],
      "source": [
        "def lowercase(text):\n",
        "    return text.lower()\n",
        "\n",
        "def removePunctuation(text):\n",
        "    punctuations = ['.', '-', ',', '*']\n",
        "    for punctuation in punctuations:\n",
        "        text = text.replace(punctuation, '')\n",
        "    return text\n",
        "\n",
        "def removeNewlines(text):\n",
        "    text = text.replace('\\n', ' ')\n",
        "    return text\n",
        "\n",
        "def removeShortWords(text):\n",
        "    return ' '.join([word for word in text.split() if len(word) > 3])\n",
        "\n",
        "def removeLongWords(text):\n",
        "    return ' '.join([word for word in text.split() if len(word) < 6])"
      ]
    },
    {
      "cell_type": "code",
      "execution_count": null,
      "id": "4e6e3111",
      "metadata": {
        "id": "4e6e3111",
        "outputId": "85aef6fa-ef23-4398-a6bc-cd9270362f0d"
      },
      "outputs": [
        {
          "name": "stdout",
          "output_type": "stream",
          "text": [
            "is than ugly is than is than is than flat is than is than dense cases to break the rules beats never pass in the face of the to guess there be one and only one way to do it that way may not be at first dutch now is than never never is often than right now if the is hard to it's a bad idea if the is easy to it may be a good idea are one great idea let's do more of\n"
          ]
        }
      ],
      "source": [
        "processingFunctions = [lowercase, removePunctuation, removeNewlines, removeLongWords]\n",
        "\n",
        "for func in processingFunctions:\n",
        "    text = func(text)\n",
        "\n",
        "print(text)"
      ]
    },
    {
      "cell_type": "markdown",
      "id": "2639b4fa",
      "metadata": {
        "id": "2639b4fa"
      },
      "source": [
        "### Lambda functions"
      ]
    },
    {
      "cell_type": "code",
      "execution_count": null,
      "id": "9d3bbf30",
      "metadata": {
        "id": "9d3bbf30",
        "outputId": "72be8b6f-ae6d-4e7f-b45c-4f6d466ddb6e"
      },
      "outputs": [
        {
          "data": {
            "text/plain": [
              "5"
            ]
          },
          "execution_count": 9,
          "metadata": {},
          "output_type": "execute_result"
        }
      ],
      "source": [
        "2 + 3"
      ]
    },
    {
      "cell_type": "code",
      "execution_count": null,
      "id": "3867835f",
      "metadata": {
        "id": "3867835f",
        "outputId": "02366199-c78e-493b-e274-3d77c5494238"
      },
      "outputs": [
        {
          "data": {
            "text/plain": [
              "8"
            ]
          },
          "execution_count": 10,
          "metadata": {},
          "output_type": "execute_result"
        }
      ],
      "source": [
        "(lambda x: x + 3)(5)"
      ]
    },
    {
      "cell_type": "code",
      "execution_count": null,
      "id": "0cb05720",
      "metadata": {
        "id": "0cb05720",
        "outputId": "14ea67fc-26cb-4e0f-a411-fdffffb3be81"
      },
      "outputs": [
        {
          "data": {
            "text/plain": [
              "[2, 3, 4, 5]"
            ]
          },
          "execution_count": 11,
          "metadata": {},
          "output_type": "execute_result"
        }
      ],
      "source": [
        "myList = [5,4,3,2]\n",
        "sorted(myList)"
      ]
    },
    {
      "cell_type": "code",
      "execution_count": null,
      "id": "6fcf5c06",
      "metadata": {
        "id": "6fcf5c06",
        "outputId": "4773c830-29a9-422a-d9bd-407347f17068"
      },
      "outputs": [
        {
          "data": {
            "text/plain": [
              "[{'num': 1}, {'num': 2}, {'num': 3}]"
            ]
          },
          "execution_count": 13,
          "metadata": {},
          "output_type": "execute_result"
        }
      ],
      "source": [
        "myList = [{'num': 3}, {'num': 2}, {'num': 1}]\n",
        "sorted(myList, key=lambda x: x['num'])"
      ]
    },
    {
      "cell_type": "code",
      "execution_count": null,
      "id": "2a87f878",
      "metadata": {
        "id": "2a87f878"
      },
      "outputs": [],
      "source": []
    }
  ],
  "metadata": {
    "kernelspec": {
      "display_name": "Python 3 (ipykernel)",
      "language": "python",
      "name": "python3"
    },
    "language_info": {
      "codemirror_mode": {
        "name": "ipython",
        "version": 3
      },
      "file_extension": ".py",
      "mimetype": "text/x-python",
      "name": "python",
      "nbconvert_exporter": "python",
      "pygments_lexer": "ipython3",
      "version": "3.10.2"
    },
    "colab": {
      "provenance": [],
      "include_colab_link": true
    }
  },
  "nbformat": 4,
  "nbformat_minor": 5
}