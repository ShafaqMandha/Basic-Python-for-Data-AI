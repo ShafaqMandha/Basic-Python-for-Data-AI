{
  "nbformat": 4,
  "nbformat_minor": 0,
  "metadata": {
    "colab": {
      "provenance": [],
      "authorship_tag": "ABX9TyPmm7caqRw6/C/kesYw03ux",
      "include_colab_link": true
    },
    "kernelspec": {
      "name": "python3",
      "display_name": "Python 3"
    },
    "language_info": {
      "name": "python"
    }
  },
  "cells": [
    {
      "cell_type": "markdown",
      "metadata": {
        "id": "view-in-github",
        "colab_type": "text"
      },
      "source": [
        "<a href=\"https://colab.research.google.com/github/ShafaqMandha/Basic-Python-for-Data-AI/blob/main/Basic%20Functions%20Module/Challenge_Function_2.ipynb\" target=\"_parent\"><img src=\"https://colab.research.google.com/assets/colab-badge.svg\" alt=\"Open In Colab\"/></a>"
      ]
    },
    {
      "cell_type": "markdown",
      "source": [
        "# **Challenge: Function 2**"
      ],
      "metadata": {
        "id": "5migIIw30qvo"
      }
    },
    {
      "cell_type": "markdown",
      "source": [
        "Create a program to build a customized list using user inputs\n",
        "\n",
        "```\n",
        "Enter the number of terms: 5\n",
        "Enter term 1 term for the list: 1\n",
        "Enter term 2 term for the list: 3\n",
        "Enter term 3 term for the list: 4\n",
        "Enter term 4 term for the list: 34\n",
        "Enter term 5 term for the list: 42\n",
        "\n",
        "Output = [1,3,4,34,42]\n",
        "```\n",
        "\n"
      ],
      "metadata": {
        "id": "Fr7WMtrAz-38"
      }
    },
    {
      "cell_type": "code",
      "execution_count": null,
      "metadata": {
        "colab": {
          "base_uri": "https://localhost:8080/"
        },
        "id": "ujtI1b6Nz-SS",
        "outputId": "eed25e34-cb13-453d-8d56-0a33b3adad26"
      },
      "outputs": [
        {
          "output_type": "stream",
          "name": "stdout",
          "text": [
            "Enter the number of elements: 5\n",
            "Enter element 1: 1\n",
            "Enter element 2: 3\n",
            "Enter element 3: 4\n",
            "Enter element 4: 34\n",
            "Enter element 5: 42\n",
            "[1.0, 3.0, 4.0, 34.0, 42.0]\n"
          ]
        }
      ],
      "source": [
        "def input_number_list():\n",
        "    numbers = []\n",
        "    n = int(input(\"Enter the number of elements: \"))\n",
        "    for i in range(n):\n",
        "        num = float(input(f\"Enter element {i+1}: \"))\n",
        "        numbers.append(num)\n",
        "    return numbers\n",
        "\n",
        "# Example usage\n",
        "number_list = input_number_list()\n",
        "print(number_list)"
      ]
    }
  ]
}