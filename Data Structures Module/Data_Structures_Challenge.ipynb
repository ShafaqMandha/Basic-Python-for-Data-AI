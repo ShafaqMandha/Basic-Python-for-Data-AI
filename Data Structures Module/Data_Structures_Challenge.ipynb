{
  "nbformat": 4,
  "nbformat_minor": 0,
  "metadata": {
    "colab": {
      "provenance": [],
      "authorship_tag": "ABX9TyP4NTJuU0ffI+Trn4x7S0cB",
      "include_colab_link": true
    },
    "kernelspec": {
      "name": "python3",
      "display_name": "Python 3"
    },
    "language_info": {
      "name": "python"
    }
  },
  "cells": [
    {
      "cell_type": "markdown",
      "metadata": {
        "id": "view-in-github",
        "colab_type": "text"
      },
      "source": [
        "<a href=\"https://colab.research.google.com/github/ShafaqMandha/Basic-Python-for-Data-AI/blob/main/Data%20Structures%20Module/Data_Structures_Challenge.ipynb\" target=\"_parent\"><img src=\"https://colab.research.google.com/assets/colab-badge.svg\" alt=\"Open In Colab\"/></a>"
      ]
    },
    {
      "cell_type": "markdown",
      "source": [
        "# **Challenge: Find the kth largest element in a given list.**\n"
      ],
      "metadata": {
        "id": "17q5Yut2DfW1"
      }
    },
    {
      "cell_type": "markdown",
      "source": [
        "### Write a Python function called find_kth_largest that takes the below list of numbers as input and an integer k as input and returns the kth largest element in the list.\n",
        "\n",
        "\n",
        "\n",
        "### numbers = [4, 9, 2, 7, 5, 1]\n",
        "\n",
        "\n",
        "\n",
        "### k = 3"
      ],
      "metadata": {
        "id": "uPe-0as7DlcG"
      }
    },
    {
      "cell_type": "code",
      "source": [
        "def find_kth_largest(numbers, k):\n",
        "    # Sort the list in descending order\n",
        "    sorted_numbers = sorted(numbers, reverse=True)\n",
        "    # Return the kth largest element (index k-1)\n",
        "    return sorted_numbers[k - 1]\n",
        "\n",
        "# Example usage:\n",
        "numbers = [4, 9, 2, 7, 5, 1]\n",
        "k = 3\n",
        "result = find_kth_largest(numbers, k)\n",
        "print(f\"The {k}rd largest element is: {result}\")\n"
      ],
      "metadata": {
        "colab": {
          "base_uri": "https://localhost:8080/"
        },
        "id": "SV_j75iDDt3c",
        "outputId": "451d4816-be96-4474-aa92-effdc0239ee4"
      },
      "execution_count": null,
      "outputs": [
        {
          "output_type": "stream",
          "name": "stdout",
          "text": [
            "The 3rd largest element is: 5\n"
          ]
        }
      ]
    }
  ]
}