{
  "nbformat": 4,
  "nbformat_minor": 0,
  "metadata": {
    "colab": {
      "provenance": [],
      "authorship_tag": "ABX9TyNfO0osZII0Is08Ry8SYoxX",
      "include_colab_link": true
    },
    "kernelspec": {
      "name": "python3",
      "display_name": "Python 3"
    },
    "language_info": {
      "name": "python"
    }
  },
  "cells": [
    {
      "cell_type": "markdown",
      "metadata": {
        "id": "view-in-github",
        "colab_type": "text"
      },
      "source": [
        "<a href=\"https://colab.research.google.com/github/ShafaqMandha/Basic-Python-for-Data-AI/blob/main/Data%20Structures%20Module/Sets_Part_2.ipynb\" target=\"_parent\"><img src=\"https://colab.research.google.com/assets/colab-badge.svg\" alt=\"Open In Colab\"/></a>"
      ]
    },
    {
      "cell_type": "markdown",
      "source": [
        "## **Sets:**"
      ],
      "metadata": {
        "id": "ov6nZY3Yx9i1"
      }
    },
    {
      "cell_type": "markdown",
      "source": [
        "A set is an unordered collection of unique elements. Sets are defined using curly braces {} or the set() constructor, and they can contain any type of data that is hashable (meaning it has a unique hash value). Sets automatically remove duplicate values."
      ],
      "metadata": {
        "id": "s3x7SMnCyHBK"
      }
    },
    {
      "cell_type": "code",
      "execution_count": null,
      "metadata": {
        "id": "330mWC4Zx86f"
      },
      "outputs": [],
      "source": [
        "my_set = {1, 2, \"hello\", 3.5, \"hello\"}\n",
        "print(my_set) #outputs {1, 2, \"hello\", 3.5}"
      ]
    },
    {
      "cell_type": "markdown",
      "source": [
        "To access elements of a set, you cannot use indexing or slicing because sets are unordered. Instead, you can use the in keyword to check if a value is present in the set."
      ],
      "metadata": {
        "id": "TAV3U21MySfF"
      }
    },
    {
      "cell_type": "code",
      "source": [
        "print(2 in my_set)\n",
        "#outputs True"
      ],
      "metadata": {
        "id": "a32aM5UhyWFD"
      },
      "execution_count": null,
      "outputs": []
    },
    {
      "cell_type": "markdown",
      "source": [
        "You can add elements to a set using the add() method, and remove elements using the remove() method."
      ],
      "metadata": {
        "id": "e7szztMEyZ52"
      }
    },
    {
      "cell_type": "code",
      "source": [
        "my_set.add(\"world\")\n",
        "\n",
        "my_set.remove(2)\n",
        "\n",
        "print(my_set) #outputs {1, \"hello\", 3.5, \"world\"}"
      ],
      "metadata": {
        "id": "9fXsNzCWydvM"
      },
      "execution_count": null,
      "outputs": []
    },
    {
      "cell_type": "markdown",
      "source": [
        "Sets also support set operations such as union, intersection, and difference, which are performed using the |, &, and - operators, respectively."
      ],
      "metadata": {
        "id": "Hkpr-XBGyg6G"
      }
    },
    {
      "cell_type": "code",
      "source": [
        "set1 = {1, 2, 3}\n",
        "\n",
        "set2 = {2, 3, 4}\n",
        "\n",
        "set3 = set1 | set2 #union\n",
        "\n",
        "set4 = set1 & set2 #intersection\n",
        "\n",
        "set5 = set1 - set2 #difference\n",
        "\n",
        "print(set3)\n",
        "#outputs {1, 2, 3, 4}\n",
        "\n",
        "print(set4)\n",
        "#outputs {2, 3}\n",
        "\n",
        "print(set5)\n",
        "#outputs {1}"
      ],
      "metadata": {
        "id": "IAfXySQPyps3"
      },
      "execution_count": null,
      "outputs": []
    }
  ]
}