{
  "cells": [
    {
      "cell_type": "markdown",
      "metadata": {
        "id": "view-in-github",
        "colab_type": "text"
      },
      "source": [
        "<a href=\"https://colab.research.google.com/github/ShafaqMandha/Basic-Python-for-Data-AI/blob/main/Data%20Structures%20Module/Sets_Part_1.ipynb\" target=\"_parent\"><img src=\"https://colab.research.google.com/assets/colab-badge.svg\" alt=\"Open In Colab\"/></a>"
      ]
    },
    {
      "cell_type": "markdown",
      "id": "9ace3b36",
      "metadata": {
        "id": "9ace3b36"
      },
      "source": [
        "## Sets"
      ]
    },
    {
      "cell_type": "code",
      "execution_count": null,
      "id": "d2f6b728",
      "metadata": {
        "id": "d2f6b728",
        "outputId": "2107ebc5-ed20-4ffb-f3cb-c1d278e4f138"
      },
      "outputs": [
        {
          "data": {
            "text/plain": [
              "{'a', 'b', 'c'}"
            ]
          },
          "execution_count": 1,
          "metadata": {},
          "output_type": "execute_result"
        }
      ],
      "source": [
        "mySet = {'a', 'b', 'c'}\n",
        "mySet"
      ]
    },
    {
      "cell_type": "code",
      "execution_count": null,
      "id": "8aefd2cd",
      "metadata": {
        "id": "8aefd2cd"
      },
      "outputs": [],
      "source": [
        "mySet = set(('a', 'b', 'c'))"
      ]
    },
    {
      "cell_type": "code",
      "execution_count": null,
      "id": "e101dd56",
      "metadata": {
        "id": "e101dd56",
        "outputId": "cc804670-b13c-470f-9858-cc6fd4d87222"
      },
      "outputs": [
        {
          "data": {
            "text/plain": [
              "{'a', 'b', 'c'}"
            ]
          },
          "execution_count": 4,
          "metadata": {},
          "output_type": "execute_result"
        }
      ],
      "source": [
        "mySet"
      ]
    },
    {
      "cell_type": "code",
      "execution_count": null,
      "id": "69200543",
      "metadata": {
        "id": "69200543",
        "outputId": "7782cef9-32d1-492a-d919-d0380d053302"
      },
      "outputs": [
        {
          "data": {
            "text/plain": [
              "['a', 'b', 'c']"
            ]
          },
          "execution_count": 5,
          "metadata": {},
          "output_type": "execute_result"
        }
      ],
      "source": [
        "myList = ['a', 'b', 'b', 'c', 'c']\n",
        "myList = list(set(myList))\n",
        "myList"
      ]
    },
    {
      "cell_type": "code",
      "execution_count": null,
      "id": "d72cab4d",
      "metadata": {
        "id": "d72cab4d",
        "outputId": "e4141ff6-3704-4370-a6e1-9cae55d1754f"
      },
      "outputs": [
        {
          "ename": "TypeError",
          "evalue": "'set' object is not subscriptable",
          "output_type": "error",
          "traceback": [
            "\u001b[0;31m---------------------------------------------------------------------------\u001b[0m",
            "\u001b[0;31mTypeError\u001b[0m                                 Traceback (most recent call last)",
            "Input \u001b[0;32mIn [6]\u001b[0m, in \u001b[0;36m<module>\u001b[0;34m\u001b[0m\n\u001b[0;32m----> 1\u001b[0m \u001b[43mmySet\u001b[49m\u001b[43m[\u001b[49m\u001b[38;5;241;43m0\u001b[39;49m\u001b[43m]\u001b[49m\n",
            "\u001b[0;31mTypeError\u001b[0m: 'set' object is not subscriptable"
          ]
        }
      ],
      "source": [
        "mySet[0]"
      ]
    },
    {
      "cell_type": "code",
      "execution_count": null,
      "id": "a806d16a",
      "metadata": {
        "id": "a806d16a",
        "outputId": "b1d7aadd-e435-40e9-9389-4fce9fa9e8b8"
      },
      "outputs": [
        {
          "name": "stderr",
          "output_type": "stream",
          "text": [
            "<>:2: SyntaxWarning: 'int' object is not subscriptable; perhaps you missed a comma?\n",
            "<>:2: SyntaxWarning: 'int' object is not subscriptable; perhaps you missed a comma?\n",
            "/var/folders/fl/tpkdpqfn7qj8x03js4wtflc00000gn/T/ipykernel_85667/2203923273.py:2: SyntaxWarning: 'int' object is not subscriptable; perhaps you missed a comma?\n",
            "  1[0]\n",
            "/var/folders/fl/tpkdpqfn7qj8x03js4wtflc00000gn/T/ipykernel_85667/2203923273.py:2: SyntaxWarning: 'int' object is not subscriptable; perhaps you missed a comma?\n",
            "  1[0]\n",
            "/var/folders/fl/tpkdpqfn7qj8x03js4wtflc00000gn/T/ipykernel_85667/2203923273.py:2: SyntaxWarning: 'int' object is not subscriptable; perhaps you missed a comma?\n",
            "  1[0]\n"
          ]
        },
        {
          "ename": "TypeError",
          "evalue": "'int' object is not subscriptable",
          "output_type": "error",
          "traceback": [
            "\u001b[0;31m---------------------------------------------------------------------------\u001b[0m",
            "\u001b[0;31mTypeError\u001b[0m                                 Traceback (most recent call last)",
            "Input \u001b[0;32mIn [7]\u001b[0m, in \u001b[0;36m<module>\u001b[0;34m\u001b[0m\n\u001b[1;32m      1\u001b[0m number \u001b[38;5;241m=\u001b[39m \u001b[38;5;241m1\u001b[39m\n\u001b[0;32m----> 2\u001b[0m \u001b[38;5;241;43m1\u001b[39;49m\u001b[43m[\u001b[49m\u001b[38;5;241;43m0\u001b[39;49m\u001b[43m]\u001b[49m\n",
            "\u001b[0;31mTypeError\u001b[0m: 'int' object is not subscriptable"
          ]
        }
      ],
      "source": [
        "number = 1\n",
        "1[0]"
      ]
    },
    {
      "cell_type": "code",
      "execution_count": null,
      "id": "80dc46d0",
      "metadata": {
        "id": "80dc46d0",
        "outputId": "7cfd5e94-91b5-4caf-a87e-86ed37845c7f"
      },
      "outputs": [
        {
          "data": {
            "text/plain": [
              "{'a', 'b', 'c', 'd'}"
            ]
          },
          "execution_count": 9,
          "metadata": {},
          "output_type": "execute_result"
        }
      ],
      "source": [
        "mySet.add('d')\n",
        "mySet"
      ]
    },
    {
      "cell_type": "code",
      "execution_count": null,
      "id": "2a98889e",
      "metadata": {
        "id": "2a98889e",
        "outputId": "83b96225-ace0-48f9-e7d3-4373aa89ee67"
      },
      "outputs": [
        {
          "data": {
            "text/plain": [
              "True"
            ]
          },
          "execution_count": 10,
          "metadata": {},
          "output_type": "execute_result"
        }
      ],
      "source": [
        "'a' in mySet"
      ]
    },
    {
      "cell_type": "code",
      "execution_count": null,
      "id": "a921cee9",
      "metadata": {
        "id": "a921cee9",
        "outputId": "ec397045-7be4-413a-efed-e2813e4b1f39"
      },
      "outputs": [
        {
          "data": {
            "text/plain": [
              "False"
            ]
          },
          "execution_count": 11,
          "metadata": {},
          "output_type": "execute_result"
        }
      ],
      "source": [
        "'z' in mySet"
      ]
    },
    {
      "cell_type": "code",
      "execution_count": null,
      "id": "ab1b620c",
      "metadata": {
        "id": "ab1b620c",
        "outputId": "7145facc-9e28-4a3f-af3d-d0379ba2ed4c"
      },
      "outputs": [
        {
          "data": {
            "text/plain": [
              "4"
            ]
          },
          "execution_count": 12,
          "metadata": {},
          "output_type": "execute_result"
        }
      ],
      "source": [
        "len(mySet)"
      ]
    },
    {
      "cell_type": "code",
      "execution_count": null,
      "id": "e6e31f21",
      "metadata": {
        "id": "e6e31f21",
        "outputId": "181df104-c427-4e6e-e25e-40ade3e37ab9"
      },
      "outputs": [
        {
          "name": "stdout",
          "output_type": "stream",
          "text": [
            "a\n",
            "b\n",
            "c\n",
            "d\n"
          ]
        }
      ],
      "source": [
        "while len(mySet):\n",
        "    print(mySet.pop())"
      ]
    },
    {
      "cell_type": "code",
      "execution_count": null,
      "id": "feb2c369",
      "metadata": {
        "id": "feb2c369",
        "outputId": "ead0c6ac-a865-4255-a801-9e57bf302055"
      },
      "outputs": [
        {
          "data": {
            "text/plain": [
              "set()"
            ]
          },
          "execution_count": 15,
          "metadata": {},
          "output_type": "execute_result"
        }
      ],
      "source": [
        "mySet"
      ]
    },
    {
      "cell_type": "code",
      "execution_count": null,
      "id": "f46ecc23",
      "metadata": {
        "id": "f46ecc23"
      },
      "outputs": [],
      "source": [
        "mySet = {'a', 'b', 'c'}"
      ]
    },
    {
      "cell_type": "code",
      "execution_count": null,
      "id": "db7970a1",
      "metadata": {
        "id": "db7970a1"
      },
      "outputs": [],
      "source": [
        "mySet.discard('a')"
      ]
    },
    {
      "cell_type": "code",
      "execution_count": null,
      "id": "8831c30e",
      "metadata": {
        "id": "8831c30e",
        "outputId": "422d9acb-66d4-4bbb-f09d-c9b7b8a3a10c"
      },
      "outputs": [
        {
          "data": {
            "text/plain": [
              "{'b', 'c'}"
            ]
          },
          "execution_count": 18,
          "metadata": {},
          "output_type": "execute_result"
        }
      ],
      "source": [
        "mySet"
      ]
    }
  ],
  "metadata": {
    "kernelspec": {
      "display_name": "Python 3 (ipykernel)",
      "language": "python",
      "name": "python3"
    },
    "language_info": {
      "codemirror_mode": {
        "name": "ipython",
        "version": 3
      },
      "file_extension": ".py",
      "mimetype": "text/x-python",
      "name": "python",
      "nbconvert_exporter": "python",
      "pygments_lexer": "ipython3",
      "version": "3.10.2"
    },
    "colab": {
      "provenance": [],
      "include_colab_link": true
    }
  },
  "nbformat": 4,
  "nbformat_minor": 5
}