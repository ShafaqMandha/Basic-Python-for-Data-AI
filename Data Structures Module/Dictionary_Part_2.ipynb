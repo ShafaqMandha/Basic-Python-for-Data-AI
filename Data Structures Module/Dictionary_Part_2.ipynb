{
  "nbformat": 4,
  "nbformat_minor": 0,
  "metadata": {
    "colab": {
      "provenance": [],
      "authorship_tag": "ABX9TyP04Ea3p4ZuArZG66Zx7Kme",
      "include_colab_link": true
    },
    "kernelspec": {
      "name": "python3",
      "display_name": "Python 3"
    },
    "language_info": {
      "name": "python"
    }
  },
  "cells": [
    {
      "cell_type": "markdown",
      "metadata": {
        "id": "view-in-github",
        "colab_type": "text"
      },
      "source": [
        "<a href=\"https://colab.research.google.com/github/ShafaqMandha/Basic-Python-for-Data-AI/blob/main/Data%20Structures%20Module/Dictionary_Part_2.ipynb\" target=\"_parent\"><img src=\"https://colab.research.google.com/assets/colab-badge.svg\" alt=\"Open In Colab\"/></a>"
      ]
    },
    {
      "cell_type": "markdown",
      "source": [
        "# **Python Dictionary:**\n"
      ],
      "metadata": {
        "id": "EBSGYs4mBtMp"
      }
    },
    {
      "cell_type": "markdown",
      "source": [
        "A Python dictionary is a collection of key-value pairs, where each key is unique and corresponds to a value. It is also known as an associative array, hash map, or a hash table. The values can be of any data type, but the keys must be hashable.\n",
        "\n",
        "\n",
        "\n",
        "The syntax of a dictionary in Python is as follows:\n",
        "\n",
        "\n",
        "\n",
        "`my_dict = {key1: value1, key2: value2, key3: value3}`\n",
        "\n",
        "\n",
        "\n",
        "Here, the keys are enclosed within curly brackets and separated by a comma from their corresponding values.\n",
        "\n",
        "To access the values of a dictionary, we can use the key as an index, as shown below:\n"
      ],
      "metadata": {
        "id": "OKQUgUYkB8T8"
      }
    },
    {
      "cell_type": "code",
      "execution_count": null,
      "metadata": {
        "id": "DDmML6ppBXAI"
      },
      "outputs": [],
      "source": [
        "my_dict = {'apple': 2, 'orange': 3, 'grapes': 5}\n",
        "print(my_dict['orange'])\n",
        " #outputs 3"
      ]
    },
    {
      "cell_type": "markdown",
      "source": [
        "To add a new key-value pair to a dictionary, we can simply assign a value to a new key, as shown below:"
      ],
      "metadata": {
        "id": "tFEwhNT2CEnV"
      }
    },
    {
      "cell_type": "code",
      "source": [
        "my_dict = {'apple': 2, 'orange': 3, 'grapes': 5}\n",
        "my_dict['banana'] = 4\n",
        "print(my_dict)\n",
        "#outputs {'apple': 2, 'orange': 3, 'grapes': 5, 'banana': 4}"
      ],
      "metadata": {
        "id": "wzbsfsvzCItE"
      },
      "execution_count": null,
      "outputs": []
    },
    {
      "cell_type": "markdown",
      "source": [
        "To remove a key-value pair from a dictionary, we can use the pop() method, as shown below:"
      ],
      "metadata": {
        "id": "MmAh3z9cCJdA"
      }
    },
    {
      "cell_type": "code",
      "source": [
        "my_dict = {'apple': 2, 'orange': 3, 'grapes': 5, 'banana': 4}\n",
        "my_dict.pop('grapes')\n",
        "print(my_dict)\n",
        "#outputs\n",
        "{'apple': 2, 'orange': 3, 'banana': 4}"
      ],
      "metadata": {
        "id": "EVDWe0gaCPQT"
      },
      "execution_count": null,
      "outputs": []
    },
    {
      "cell_type": "markdown",
      "source": [
        "More operations in Dictionary"
      ],
      "metadata": {
        "id": "Xc9NcPqTCQBP"
      }
    },
    {
      "cell_type": "code",
      "source": [
        "#define a dictionary with student id and marks of three subjects , Dictionary with a disctionary\n",
        "\n",
        "students_grades = {\n",
        "    '12345': {'Math': 90, 'English': 85, 'Science': 78},\n",
        "    '67890': {'Math': 70, 'English': 88, 'Science': 82},\n",
        "    '11223': {'Math': 95, 'English': 92, 'Science': 89}\n",
        "}\n",
        "#Accessing a Specific Grade: To find the Math grade for the student with ID '12345', you can use:\n",
        "\n",
        "math_grade = students_grades['12345']['Math']\n",
        "\n",
        "#Adding a New Student: To add a new student with ID '33445' and their grades, you can use:\n",
        "\n",
        " students_grades['33445'] = {'Math': 80, 'English': 75, 'Science': 70}\n",
        "\n",
        "#Updating a Grade: To update the English grade for the student with ID '67890', you can use:\n",
        "\n",
        "students_grades['67890']['English'] = 90\n",
        "\n",
        "#Removing a Student: To remove the student with ID '11223', you can use:\n",
        "\n",
        "Option 1\n",
        "del students_grades['11223']\n",
        "Option 2\n",
        "students_grades.pop(\"11223\")\n"
      ],
      "metadata": {
        "id": "_VjNoZqeCTOv"
      },
      "execution_count": null,
      "outputs": []
    }
  ]
}