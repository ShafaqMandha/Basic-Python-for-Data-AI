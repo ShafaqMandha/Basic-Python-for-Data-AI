{
  "cells": [
    {
      "cell_type": "markdown",
      "metadata": {
        "id": "view-in-github",
        "colab_type": "text"
      },
      "source": [
        "<a href=\"https://colab.research.google.com/github/ShafaqMandha/Basic-Python-for-Data-AI/blob/main/Data%20Structures%20Module/Tuples_Part_1.ipynb\" target=\"_parent\"><img src=\"https://colab.research.google.com/assets/colab-badge.svg\" alt=\"Open In Colab\"/></a>"
      ]
    },
    {
      "cell_type": "markdown",
      "id": "f39e6aee",
      "metadata": {
        "id": "f39e6aee"
      },
      "source": [
        "## Tuples"
      ]
    },
    {
      "cell_type": "code",
      "execution_count": null,
      "id": "98151b6a",
      "metadata": {
        "id": "98151b6a",
        "outputId": "3bd76905-3435-410c-f6c6-2a347be3eb86"
      },
      "outputs": [
        {
          "data": {
            "text/plain": [
              "('a', 'b', 'c')"
            ]
          },
          "execution_count": 19,
          "metadata": {},
          "output_type": "execute_result"
        }
      ],
      "source": [
        "myTuple = ('a', 'b', 'c')\n",
        "myTuple"
      ]
    },
    {
      "cell_type": "code",
      "execution_count": null,
      "id": "2841cbc2",
      "metadata": {
        "id": "2841cbc2",
        "outputId": "3586d127-f668-43c7-a591-95e32212719d"
      },
      "outputs": [
        {
          "data": {
            "text/plain": [
              "'a'"
            ]
          },
          "execution_count": 20,
          "metadata": {},
          "output_type": "execute_result"
        }
      ],
      "source": [
        "myTuple[0]"
      ]
    },
    {
      "cell_type": "code",
      "execution_count": null,
      "id": "42b2f324",
      "metadata": {
        "id": "42b2f324",
        "outputId": "b1d009bc-8e59-4b17-ae37-2106ef818d5b"
      },
      "outputs": [
        {
          "ename": "TypeError",
          "evalue": "'tuple' object does not support item assignment",
          "output_type": "error",
          "traceback": [
            "\u001b[0;31m---------------------------------------------------------------------------\u001b[0m",
            "\u001b[0;31mTypeError\u001b[0m                                 Traceback (most recent call last)",
            "Input \u001b[0;32mIn [21]\u001b[0m, in \u001b[0;36m<module>\u001b[0;34m\u001b[0m\n\u001b[0;32m----> 1\u001b[0m myTuple[\u001b[38;5;241m0\u001b[39m] \u001b[38;5;241m=\u001b[39m \u001b[38;5;124m'\u001b[39m\u001b[38;5;124md\u001b[39m\u001b[38;5;124m'\u001b[39m\n",
            "\u001b[0;31mTypeError\u001b[0m: 'tuple' object does not support item assignment"
          ]
        }
      ],
      "source": [
        "myTuple[0] = 'd'"
      ]
    },
    {
      "cell_type": "code",
      "execution_count": null,
      "id": "1f64ecd4",
      "metadata": {
        "id": "1f64ecd4",
        "outputId": "3dbf38cb-52e5-4a59-a77f-08d06eaa4d2e"
      },
      "outputs": [
        {
          "data": {
            "text/plain": [
              "tuple"
            ]
          },
          "execution_count": 27,
          "metadata": {},
          "output_type": "execute_result"
        }
      ],
      "source": [
        "def returnsMultipleValues():\n",
        "    return 1,2,3\n",
        "\n",
        "type(returnsMultipleValues())"
      ]
    },
    {
      "cell_type": "code",
      "execution_count": null,
      "id": "ecca91c0",
      "metadata": {
        "id": "ecca91c0"
      },
      "outputs": [],
      "source": [
        "myTuple = (1,2,3)"
      ]
    },
    {
      "cell_type": "code",
      "execution_count": null,
      "id": "08d209bb",
      "metadata": {
        "id": "08d209bb",
        "outputId": "7c50b195-9e0e-46ad-faca-22ba6499ae78"
      },
      "outputs": [
        {
          "data": {
            "text/plain": [
              "tuple"
            ]
          },
          "execution_count": 25,
          "metadata": {},
          "output_type": "execute_result"
        }
      ],
      "source": [
        "type(myTuple)"
      ]
    },
    {
      "cell_type": "code",
      "execution_count": null,
      "id": "0c5c57a0",
      "metadata": {
        "id": "0c5c57a0"
      },
      "outputs": [],
      "source": [
        "a, b, c = returnsMultipleValues()"
      ]
    },
    {
      "cell_type": "code",
      "execution_count": null,
      "id": "d8f3b2cf",
      "metadata": {
        "id": "d8f3b2cf",
        "outputId": "872b9dfc-98e2-4d75-d5f0-aecdd922e005"
      },
      "outputs": [
        {
          "name": "stdout",
          "output_type": "stream",
          "text": [
            "1\n",
            "2\n",
            "3\n"
          ]
        }
      ],
      "source": [
        "print(a)\n",
        "print(b)\n",
        "print(c)"
      ]
    },
    {
      "cell_type": "code",
      "execution_count": null,
      "id": "de8a9af3",
      "metadata": {
        "id": "de8a9af3"
      },
      "outputs": [],
      "source": []
    }
  ],
  "metadata": {
    "kernelspec": {
      "display_name": "Python 3 (ipykernel)",
      "language": "python",
      "name": "python3"
    },
    "language_info": {
      "codemirror_mode": {
        "name": "ipython",
        "version": 3
      },
      "file_extension": ".py",
      "mimetype": "text/x-python",
      "name": "python",
      "nbconvert_exporter": "python",
      "pygments_lexer": "ipython3",
      "version": "3.10.2"
    },
    "colab": {
      "provenance": [],
      "include_colab_link": true
    }
  },
  "nbformat": 4,
  "nbformat_minor": 5
}