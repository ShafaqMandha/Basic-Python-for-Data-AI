{
  "cells": [
    {
      "cell_type": "markdown",
      "metadata": {
        "id": "view-in-github",
        "colab_type": "text"
      },
      "source": [
        "<a href=\"https://colab.research.google.com/github/ShafaqMandha/Basic-Python-for-Data-AI/blob/main/Data%20Structures%20Module/Dictionary_Part_1.ipynb\" target=\"_parent\"><img src=\"https://colab.research.google.com/assets/colab-badge.svg\" alt=\"Open In Colab\"/></a>"
      ]
    },
    {
      "cell_type": "markdown",
      "id": "f76cf3b1",
      "metadata": {
        "id": "f76cf3b1"
      },
      "source": [
        "## Dictionary\n"
      ]
    },
    {
      "cell_type": "code",
      "execution_count": null,
      "id": "92d3299d",
      "metadata": {
        "id": "92d3299d",
        "outputId": "fdf8d14d-5e5f-4c89-a157-c3465568e639"
      },
      "outputs": [
        {
          "data": {
            "text/plain": [
              "{'a': 'aardvark', 'b': 'bear', 'c': 'cat', 'd': 'dog'}"
            ]
          },
          "execution_count": 1,
          "metadata": {},
          "output_type": "execute_result"
        }
      ],
      "source": [
        "animalList = [('a', 'aardvark'), ('b', 'bear'), ('c', 'cat'), ('d', 'dog')]\n",
        "animals = {item[0]: item[1] for item in animalList}\n",
        "animals"
      ]
    },
    {
      "cell_type": "code",
      "execution_count": null,
      "id": "68206d1c",
      "metadata": {
        "id": "68206d1c",
        "outputId": "febf69fa-c1ae-46f9-d1cc-8313ab84f68b"
      },
      "outputs": [
        {
          "data": {
            "text/plain": [
              "{'a': 'aardvark', 'b': 'bear', 'c': 'cat', 'd': 'dog'}"
            ]
          },
          "execution_count": 4,
          "metadata": {},
          "output_type": "execute_result"
        }
      ],
      "source": [
        "animals = {key: value for key, value in animalList}\n",
        "animals"
      ]
    },
    {
      "cell_type": "code",
      "execution_count": null,
      "id": "96bdf466",
      "metadata": {
        "id": "96bdf466",
        "outputId": "6356b450-ecbe-4d80-e7dd-047f0dbb44b5"
      },
      "outputs": [
        {
          "data": {
            "text/plain": [
              "dict_items([('a', 'aardvark'), ('b', 'bear'), ('c', 'cat'), ('d', 'dog')])"
            ]
          },
          "execution_count": 5,
          "metadata": {},
          "output_type": "execute_result"
        }
      ],
      "source": [
        "animals.items()"
      ]
    },
    {
      "cell_type": "code",
      "execution_count": null,
      "id": "467b6984",
      "metadata": {
        "id": "467b6984",
        "outputId": "bbfe6e9e-a17d-4b0f-90db-1168e7594812"
      },
      "outputs": [
        {
          "data": {
            "text/plain": [
              "[('a', 'aardvark'), ('b', 'bear'), ('c', 'cat'), ('d', 'dog')]"
            ]
          },
          "execution_count": 6,
          "metadata": {},
          "output_type": "execute_result"
        }
      ],
      "source": [
        "list(animals.items())"
      ]
    },
    {
      "cell_type": "code",
      "execution_count": null,
      "id": "494fe288",
      "metadata": {
        "id": "494fe288",
        "outputId": "e432a653-065e-4d05-9cf1-65a1f7b7a8ba"
      },
      "outputs": [
        {
          "data": {
            "text/plain": [
              "[{'letter': 'a', 'name': 'aardvark'},\n",
              " {'letter': 'b', 'name': 'bear'},\n",
              " {'letter': 'c', 'name': 'cat'},\n",
              " {'letter': 'd', 'name': 'dog'}]"
            ]
          },
          "execution_count": 7,
          "metadata": {},
          "output_type": "execute_result"
        }
      ],
      "source": [
        "[{'letter': key, 'name': value} for key, value in animals.items()]"
      ]
    },
    {
      "cell_type": "code",
      "execution_count": null,
      "id": "3766f5e9",
      "metadata": {
        "id": "3766f5e9"
      },
      "outputs": [],
      "source": []
    }
  ],
  "metadata": {
    "kernelspec": {
      "display_name": "Python 3 (ipykernel)",
      "language": "python",
      "name": "python3"
    },
    "language_info": {
      "codemirror_mode": {
        "name": "ipython",
        "version": 3
      },
      "file_extension": ".py",
      "mimetype": "text/x-python",
      "name": "python",
      "nbconvert_exporter": "python",
      "pygments_lexer": "ipython3",
      "version": "3.10.2"
    },
    "colab": {
      "provenance": [],
      "include_colab_link": true
    }
  },
  "nbformat": 4,
  "nbformat_minor": 5
}