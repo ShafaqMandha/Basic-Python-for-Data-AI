{
  "nbformat": 4,
  "nbformat_minor": 0,
  "metadata": {
    "colab": {
      "provenance": [],
      "authorship_tag": "ABX9TyOtq5YJ/qMN7rUgEFMisGK4",
      "include_colab_link": true
    },
    "kernelspec": {
      "name": "python3",
      "display_name": "Python 3"
    },
    "language_info": {
      "name": "python"
    }
  },
  "cells": [
    {
      "cell_type": "markdown",
      "metadata": {
        "id": "view-in-github",
        "colab_type": "text"
      },
      "source": [
        "<a href=\"https://colab.research.google.com/github/ShafaqMandha/Basic-Python-for-Data-AI/blob/main/Data%20Structures%20Module/Tuples_Part_2.ipynb\" target=\"_parent\"><img src=\"https://colab.research.google.com/assets/colab-badge.svg\" alt=\"Open In Colab\"/></a>"
      ]
    },
    {
      "cell_type": "markdown",
      "source": [
        "Tuples types of data structures in Python that can be used to store and manipulate data.\n"
      ],
      "metadata": {
        "id": "SS47Hrlrwqs5"
      }
    },
    {
      "cell_type": "markdown",
      "source": [
        "## Tuples:"
      ],
      "metadata": {
        "id": "gePAxJaEwwbT"
      }
    },
    {
      "cell_type": "markdown",
      "source": [
        "A tuple is an ordered collection of elements. It is similar to a list, but unlike lists, tuples are immutable, meaning that their values cannot be modified after creation. Tuples are defined using parentheses () and separate values using commas."
      ],
      "metadata": {
        "id": "EWdbv8u5w1DQ"
      }
    },
    {
      "cell_type": "code",
      "source": [
        "my_tuple = (1, \"hello\", 3.5)"
      ],
      "metadata": {
        "id": "G2cWGKGJw6rP"
      },
      "execution_count": null,
      "outputs": []
    },
    {
      "cell_type": "markdown",
      "source": [
        "To access elements of a tuple, you can use indexing – the first element is at index 0, the second at index 1, and so on. You can also use slicing to extract a range of elements."
      ],
      "metadata": {
        "id": "JRn_NFD2xEmo"
      }
    },
    {
      "cell_type": "code",
      "source": [
        "print(my_tuple[1]) #outputs \"hello\"\n",
        "print(my_tuple[0:2]) #outputs (1, \"hello\")"
      ],
      "metadata": {
        "id": "qOzW3h6vxQi3"
      },
      "execution_count": null,
      "outputs": []
    },
    {
      "cell_type": "markdown",
      "source": [
        "Because tuples are immutable, you cannot add or remove elements from a tuple. However, you can create a new tuple by concatenating two existing tuples using the + operator."
      ],
      "metadata": {
        "id": "lDsMgYBCxGUh"
      }
    },
    {
      "cell_type": "code",
      "source": [
        "my_tuple2 = (\"world\", 2)\n",
        "\n",
        "my_new_tuple = my_tuple + my_tuple2\n",
        "\n",
        "print(my_new_tuple) #outputs (1, \"hello\", 3.5, \"world\", 2)"
      ],
      "metadata": {
        "id": "PHBma2K6xPWJ"
      },
      "execution_count": null,
      "outputs": []
    }
  ]
}