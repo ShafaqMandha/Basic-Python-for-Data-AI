{
  "cells": [
    {
      "cell_type": "markdown",
      "metadata": {
        "id": "view-in-github",
        "colab_type": "text"
      },
      "source": [
        "<a href=\"https://colab.research.google.com/github/ShafaqMandha/Basic-Python-for-Data-AI/blob/main/Data%20Structures%20Module/Lists_Part_1.ipynb\" target=\"_parent\"><img src=\"https://colab.research.google.com/assets/colab-badge.svg\" alt=\"Open In Colab\"/></a>"
      ]
    },
    {
      "cell_type": "markdown",
      "id": "aec5c7a9",
      "metadata": {
        "id": "aec5c7a9"
      },
      "source": [
        "## Lists"
      ]
    },
    {
      "cell_type": "markdown",
      "id": "6b95c52f",
      "metadata": {
        "id": "6b95c52f"
      },
      "source": [
        "### List Slicing"
      ]
    },
    {
      "cell_type": "code",
      "execution_count": null,
      "id": "f3869ca7",
      "metadata": {
        "id": "f3869ca7",
        "outputId": "a7283d17-1044-4f9b-dcec-c6aaefc137a4"
      },
      "outputs": [
        {
          "data": {
            "text/plain": [
              "[4, 5]"
            ]
          },
          "execution_count": 1,
          "metadata": {},
          "output_type": "execute_result"
        }
      ],
      "source": [
        "myList = [1,2,3,4,5]\n",
        "myList[3:]"
      ]
    },
    {
      "cell_type": "code",
      "execution_count": null,
      "id": "e6fef4b7",
      "metadata": {
        "id": "e6fef4b7",
        "outputId": "8783a024-fae8-4c2a-f94c-4db411fe4196"
      },
      "outputs": [
        {
          "data": {
            "text/plain": [
              "[1, 3, 5]"
            ]
          },
          "execution_count": 2,
          "metadata": {},
          "output_type": "execute_result"
        }
      ],
      "source": [
        "myList[0:6:2]"
      ]
    },
    {
      "cell_type": "code",
      "execution_count": null,
      "id": "6d587461",
      "metadata": {
        "id": "6d587461",
        "outputId": "a12368bf-c7dc-4d73-9631-165615283cb6"
      },
      "outputs": [
        {
          "data": {
            "text/plain": [
              "[1, 4]"
            ]
          },
          "execution_count": 3,
          "metadata": {},
          "output_type": "execute_result"
        }
      ],
      "source": [
        "myList[0:6:3]"
      ]
    },
    {
      "cell_type": "code",
      "execution_count": null,
      "id": "3103c64d",
      "metadata": {
        "id": "3103c64d",
        "outputId": "b53dc8c1-abda-4849-a2d9-3b741d8bf982"
      },
      "outputs": [
        {
          "data": {
            "text/plain": [
              "[1, 3, 5]"
            ]
          },
          "execution_count": 4,
          "metadata": {},
          "output_type": "execute_result"
        }
      ],
      "source": [
        "myList[::2]"
      ]
    },
    {
      "cell_type": "code",
      "execution_count": null,
      "id": "3dc127d5",
      "metadata": {
        "id": "3dc127d5"
      },
      "outputs": [],
      "source": [
        "for i in range(100):\n",
        "    print(i)"
      ]
    },
    {
      "cell_type": "code",
      "execution_count": null,
      "id": "57f1b769",
      "metadata": {
        "id": "57f1b769"
      },
      "outputs": [],
      "source": [
        "myList = list(range(100))"
      ]
    },
    {
      "cell_type": "code",
      "execution_count": null,
      "id": "6b968843",
      "metadata": {
        "id": "6b968843",
        "outputId": "fee989ec-eaf1-4294-cb9a-8e595bef39f2"
      },
      "outputs": [
        {
          "data": {
            "text/plain": [
              "[0, 10, 20, 30, 40, 50, 60, 70, 80, 90]"
            ]
          },
          "execution_count": 10,
          "metadata": {},
          "output_type": "execute_result"
        }
      ],
      "source": [
        "myList[::10]"
      ]
    },
    {
      "cell_type": "code",
      "execution_count": null,
      "id": "d6b81548",
      "metadata": {
        "id": "d6b81548",
        "outputId": "4d9bb856-b6f8-4ce5-e57f-3be99f8cd38e"
      },
      "outputs": [
        {
          "data": {
            "text/plain": [
              "[99, 89, 79, 69, 59, 49, 39, 29, 19, 9]"
            ]
          },
          "execution_count": 12,
          "metadata": {},
          "output_type": "execute_result"
        }
      ],
      "source": [
        "myList[::-10]"
      ]
    },
    {
      "cell_type": "markdown",
      "id": "d138451b",
      "metadata": {
        "id": "d138451b"
      },
      "source": [
        "### Modifying Lists"
      ]
    },
    {
      "cell_type": "code",
      "execution_count": null,
      "id": "5c065aff",
      "metadata": {
        "id": "5c065aff",
        "outputId": "ef2f8a72-c094-4d68-e32e-fd78436fbc4b"
      },
      "outputs": [
        {
          "name": "stdout",
          "output_type": "stream",
          "text": [
            "[1, 2, 3, 4, 5]\n"
          ]
        }
      ],
      "source": [
        "myList = [1,2,3,4]\n",
        "myList.append(5)\n",
        "print(myList)"
      ]
    },
    {
      "cell_type": "code",
      "execution_count": null,
      "id": "93e06c86",
      "metadata": {
        "id": "93e06c86",
        "outputId": "9783df46-9228-40ee-d8a9-bace4887a9e0"
      },
      "outputs": [
        {
          "name": "stdout",
          "output_type": "stream",
          "text": [
            "[1, 2, 3, 'a new value', 4, 5]\n"
          ]
        }
      ],
      "source": [
        "myList.insert(3, 'a new value')\n",
        "print(myList)"
      ]
    },
    {
      "cell_type": "code",
      "execution_count": null,
      "id": "860ff53b",
      "metadata": {
        "id": "860ff53b",
        "outputId": "6f973df5-6323-4181-f647-96d3bfe8983f"
      },
      "outputs": [
        {
          "ename": "ValueError",
          "evalue": "list.remove(x): x not in list",
          "output_type": "error",
          "traceback": [
            "\u001b[0;31m---------------------------------------------------------------------------\u001b[0m",
            "\u001b[0;31mValueError\u001b[0m                                Traceback (most recent call last)",
            "Input \u001b[0;32mIn [17]\u001b[0m, in \u001b[0;36m<module>\u001b[0;34m\u001b[0m\n\u001b[0;32m----> 1\u001b[0m \u001b[43mmyList\u001b[49m\u001b[38;5;241;43m.\u001b[39;49m\u001b[43mremove\u001b[49m\u001b[43m(\u001b[49m\u001b[38;5;124;43m'\u001b[39;49m\u001b[38;5;124;43ma new value\u001b[39;49m\u001b[38;5;124;43m'\u001b[39;49m\u001b[43m)\u001b[49m\n",
            "\u001b[0;31mValueError\u001b[0m: list.remove(x): x not in list"
          ]
        }
      ],
      "source": [
        "myList.remove('a new value')"
      ]
    },
    {
      "cell_type": "code",
      "execution_count": null,
      "id": "83863968",
      "metadata": {
        "id": "83863968",
        "outputId": "359334ab-e7be-43d1-d399-9ecd210509bd"
      },
      "outputs": [
        {
          "data": {
            "text/plain": [
              "[1, 2, 3, 4, 5]"
            ]
          },
          "execution_count": 16,
          "metadata": {},
          "output_type": "execute_result"
        }
      ],
      "source": [
        "myList"
      ]
    },
    {
      "cell_type": "code",
      "execution_count": null,
      "id": "d5a8f0cd",
      "metadata": {
        "id": "d5a8f0cd",
        "outputId": "050970f9-93fc-4ae6-eece-dced94edb703"
      },
      "outputs": [
        {
          "data": {
            "text/plain": [
              "5"
            ]
          },
          "execution_count": 18,
          "metadata": {},
          "output_type": "execute_result"
        }
      ],
      "source": [
        "myList.pop()"
      ]
    },
    {
      "cell_type": "code",
      "execution_count": null,
      "id": "7d51f9c9",
      "metadata": {
        "id": "7d51f9c9",
        "outputId": "ebb714a1-d5d6-42b3-80c9-98a57eb47160"
      },
      "outputs": [
        {
          "data": {
            "text/plain": [
              "[1, 2, 3, 4]"
            ]
          },
          "execution_count": 19,
          "metadata": {},
          "output_type": "execute_result"
        }
      ],
      "source": [
        "myList"
      ]
    },
    {
      "cell_type": "code",
      "execution_count": null,
      "id": "2356b2a6",
      "metadata": {
        "id": "2356b2a6",
        "outputId": "595c9f89-0f29-4b7c-9843-8607e76f9db6"
      },
      "outputs": [
        {
          "name": "stdout",
          "output_type": "stream",
          "text": [
            "4\n",
            "3\n",
            "2\n",
            "1\n"
          ]
        }
      ],
      "source": [
        "while len(myList):\n",
        "    print(myList.pop())"
      ]
    },
    {
      "cell_type": "code",
      "execution_count": null,
      "id": "5ddad205",
      "metadata": {
        "id": "5ddad205",
        "outputId": "c187db6b-a0a9-4fc0-efa6-2b97bf6fa227"
      },
      "outputs": [
        {
          "data": {
            "text/plain": [
              "[]"
            ]
          },
          "execution_count": 21,
          "metadata": {},
          "output_type": "execute_result"
        }
      ],
      "source": [
        "myList"
      ]
    },
    {
      "cell_type": "code",
      "execution_count": null,
      "id": "501f1468",
      "metadata": {
        "id": "501f1468",
        "outputId": "20863cd2-382c-4382-cf82-7c448591af53"
      },
      "outputs": [
        {
          "name": "stdout",
          "output_type": "stream",
          "text": [
            "[1, 2, 3, 4, 5, 6]\n"
          ]
        }
      ],
      "source": [
        "a = [1,2,3,4,5]\n",
        "b = a\n",
        "a.append(6)\n",
        "print(b)"
      ]
    },
    {
      "cell_type": "code",
      "execution_count": null,
      "id": "89a368d1",
      "metadata": {
        "id": "89a368d1",
        "outputId": "4e84036b-8db4-4b75-cd44-70b240ce9471"
      },
      "outputs": [
        {
          "name": "stdout",
          "output_type": "stream",
          "text": [
            "[1, 2, 3, 4, 5, 6]\n",
            "[1, 2, 3, 4, 5]\n"
          ]
        }
      ],
      "source": [
        "a = [1,2,3,4,5]\n",
        "b = a.copy()\n",
        "a.append(6)\n",
        "print(a)\n",
        "print(b)"
      ]
    },
    {
      "cell_type": "code",
      "execution_count": null,
      "id": "6e1ceb3e",
      "metadata": {
        "id": "6e1ceb3e",
        "outputId": "23f6539f-c55e-4a48-c6cd-15748f84746a"
      },
      "outputs": [
        {
          "name": "stdout",
          "output_type": "stream",
          "text": [
            "0\n",
            "1\n",
            "2\n",
            "3\n",
            "4\n",
            "5\n",
            "6\n",
            "7\n",
            "8\n",
            "9\n",
            "10\n",
            "11\n",
            "12\n",
            "13\n",
            "14\n",
            "15\n",
            "16\n",
            "17\n",
            "18\n",
            "19\n"
          ]
        }
      ],
      "source": [
        "for i in range(20):\n",
        "    print(i)"
      ]
    }
  ],
  "metadata": {
    "kernelspec": {
      "display_name": "Python 3 (ipykernel)",
      "language": "python",
      "name": "python3"
    },
    "language_info": {
      "codemirror_mode": {
        "name": "ipython",
        "version": 3
      },
      "file_extension": ".py",
      "mimetype": "text/x-python",
      "name": "python",
      "nbconvert_exporter": "python",
      "pygments_lexer": "ipython3",
      "version": "3.10.2"
    },
    "colab": {
      "provenance": [],
      "include_colab_link": true
    }
  },
  "nbformat": 4,
  "nbformat_minor": 5
}