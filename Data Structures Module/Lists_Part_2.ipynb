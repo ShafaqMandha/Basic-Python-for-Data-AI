{
  "cells": [
    {
      "cell_type": "markdown",
      "metadata": {
        "id": "view-in-github",
        "colab_type": "text"
      },
      "source": [
        "<a href=\"https://colab.research.google.com/github/ShafaqMandha/Basic-Python-for-Data-AI/blob/main/Data%20Structures%20Module/Lists_Part_2.ipynb\" target=\"_parent\"><img src=\"https://colab.research.google.com/assets/colab-badge.svg\" alt=\"Open In Colab\"/></a>"
      ]
    },
    {
      "cell_type": "markdown",
      "metadata": {
        "id": "Ln_vVR_4tyPC"
      },
      "source": [
        "# Python Lists\n",
        "\n",
        "In Python, a **List** is an ordered collection of elements, which can be of different data types such as integers, floats, strings, and even other nested lists.\n",
        "\n",
        "The elements in a list are enclosed in square brackets `[ ]`, and separated by commas."
      ],
      "id": "Ln_vVR_4tyPC"
    },
    {
      "cell_type": "code",
      "execution_count": null,
      "metadata": {
        "id": "PbeI1tFztyPE"
      },
      "outputs": [],
      "source": [
        "my_list = [1, 2, 3, 'hello', 'world', True, [4, 5, 6]]\n",
        "print(my_list)"
      ],
      "id": "PbeI1tFztyPE"
    },
    {
      "cell_type": "markdown",
      "metadata": {
        "id": "uGHNNjVVtyPG"
      },
      "source": [
        "`my_list` contains seven elements of different data types."
      ],
      "id": "uGHNNjVVtyPG"
    },
    {
      "cell_type": "markdown",
      "metadata": {
        "id": "voZHBlh5tyPG"
      },
      "source": [
        "---\n",
        "## Basic List Operations"
      ],
      "id": "voZHBlh5tyPG"
    },
    {
      "cell_type": "markdown",
      "metadata": {
        "id": "HTtpKX_OtyPH"
      },
      "source": [
        "### Accessing Elements\n",
        "\n",
        "List elements can be accessed using index positions (starting from 0)."
      ],
      "id": "HTtpKX_OtyPH"
    },
    {
      "cell_type": "code",
      "execution_count": null,
      "metadata": {
        "id": "FQT9UeY7tyPH"
      },
      "outputs": [],
      "source": [
        "print(my_list[0])  # First element: 1\n",
        "print(my_list[1])  # Second element: 2"
      ],
      "id": "FQT9UeY7tyPH"
    },
    {
      "cell_type": "markdown",
      "metadata": {
        "id": "a1B2Hs9atyPH"
      },
      "source": [
        "### Slicing Elements\n",
        "\n",
        "We can access a **range** of elements using slicing: `list[start:stop]`."
      ],
      "id": "a1B2Hs9atyPH"
    },
    {
      "cell_type": "code",
      "execution_count": null,
      "metadata": {
        "id": "zEpf_VErtyPI"
      },
      "outputs": [],
      "source": [
        "print(my_list[0:3])  # First three elements"
      ],
      "id": "zEpf_VErtyPI"
    },
    {
      "cell_type": "markdown",
      "metadata": {
        "id": "MfCIJFhFtyPI"
      },
      "source": [
        "### Modifying Elements\n",
        "\n",
        "Assign a new value to a specific index."
      ],
      "id": "MfCIJFhFtyPI"
    },
    {
      "cell_type": "code",
      "execution_count": null,
      "metadata": {
        "id": "xXXNx8dQtyPJ"
      },
      "outputs": [],
      "source": [
        "my_list[1] = 10\n",
        "print(my_list)"
      ],
      "id": "xXXNx8dQtyPJ"
    },
    {
      "cell_type": "markdown",
      "metadata": {
        "id": "D7XoUR6FtyPJ"
      },
      "source": [
        "### Adding Elements\n",
        "\n",
        "Use `append()` to add new elements to the **end** of the list."
      ],
      "id": "D7XoUR6FtyPJ"
    },
    {
      "cell_type": "code",
      "execution_count": null,
      "metadata": {
        "id": "2rJ3Q8zetyPJ"
      },
      "outputs": [],
      "source": [
        "my_list.append(4)\n",
        "print(my_list)"
      ],
      "id": "2rJ3Q8zetyPJ"
    },
    {
      "cell_type": "markdown",
      "metadata": {
        "id": "SnXQh1TAtyPK"
      },
      "source": [
        "### Removing Elements\n",
        "\n",
        "Use `remove()` to delete the **first occurrence** of a specified value."
      ],
      "id": "SnXQh1TAtyPK"
    },
    {
      "cell_type": "code",
      "execution_count": null,
      "metadata": {
        "id": "2i-sxgtbtyPK"
      },
      "outputs": [],
      "source": [
        "my_list.remove('hello')\n",
        "print(my_list)"
      ],
      "id": "2i-sxgtbtyPK"
    },
    {
      "cell_type": "markdown",
      "metadata": {
        "id": "Rrwy97u2tyPK"
      },
      "source": [
        "---\n",
        "## Conclusion\n",
        "\n",
        "Python Lists are an essential tool for any beginner developer. They provide a flexible and dynamic way to store and manipulate data, making it easier to write complex programs."
      ],
      "id": "Rrwy97u2tyPK"
    }
  ],
  "metadata": {
    "colab": {
      "provenance": [],
      "include_colab_link": true
    },
    "kernelspec": {
      "display_name": "Python 3",
      "language": "python",
      "name": "python3"
    },
    "language_info": {
      "name": "python"
    }
  },
  "nbformat": 4,
  "nbformat_minor": 5
}