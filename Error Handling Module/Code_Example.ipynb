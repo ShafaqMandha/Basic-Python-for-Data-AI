{
  "nbformat": 4,
  "nbformat_minor": 0,
  "metadata": {
    "colab": {
      "provenance": [],
      "authorship_tag": "ABX9TyORxHRuRL8fRpfDpGxDCMxi",
      "include_colab_link": true
    },
    "kernelspec": {
      "name": "python3",
      "display_name": "Python 3"
    },
    "language_info": {
      "name": "python"
    }
  },
  "cells": [
    {
      "cell_type": "markdown",
      "metadata": {
        "id": "view-in-github",
        "colab_type": "text"
      },
      "source": [
        "<a href=\"https://colab.research.google.com/github/ShafaqMandha/Basic-Python-for-Data-AI/blob/main/Error%20Handling%20Module/Code_Example.ipynb\" target=\"_parent\"><img src=\"https://colab.research.google.com/assets/colab-badge.svg\" alt=\"Open In Colab\"/></a>"
      ]
    },
    {
      "cell_type": "code",
      "execution_count": null,
      "metadata": {
        "id": "8xBAHhEH1kpJ"
      },
      "outputs": [],
      "source": [
        "def divide_numbers():\n",
        "    try:\n",
        "        numerator = int(input(\"Enter the top number: \"))\n",
        "        denominator = int(input(\"Enter the bottom number: \"))\n",
        "        result = numerator / denominator\n",
        "    except ZeroDivisionError:\n",
        "        return \"Oops! You can't divide by zero.\"\n",
        "    except ValueError:\n",
        "        return \"Oops! Please enter valid numbers.\"\n",
        "\n",
        "    if 'result' in locals():\n",
        "        return result\n",
        "    else:\n",
        "        return \"No result due to error.\"\n",
        "\n",
        "print(divide_numbers())"
      ]
    }
  ]
}