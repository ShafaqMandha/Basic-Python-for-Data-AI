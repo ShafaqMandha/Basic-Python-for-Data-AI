{
  "nbformat": 4,
  "nbformat_minor": 0,
  "metadata": {
    "colab": {
      "provenance": [],
      "include_colab_link": true
    },
    "kernelspec": {
      "name": "python3",
      "display_name": "Python 3"
    },
    "language_info": {
      "name": "python"
    }
  },
  "cells": [
    {
      "cell_type": "markdown",
      "metadata": {
        "id": "view-in-github",
        "colab_type": "text"
      },
      "source": [
        "<a href=\"https://colab.research.google.com/github/ShafaqMandha/Basic-Python-for-Data-AI/blob/main/Error%20Handling%20Module/Error_handling_example.ipynb\" target=\"_parent\"><img src=\"https://colab.research.google.com/assets/colab-badge.svg\" alt=\"Open In Colab\"/></a>"
      ]
    },
    {
      "cell_type": "code",
      "source": [
        "def divide_number():\n",
        "  try:\n",
        "    n = int(input(\"Enter the numerator:\"))\n",
        "    d = int(input(\"Enter the Denomenator:\"))\n",
        "    result = n/d\n",
        "  except ZeroDivisionError:\n",
        "    return \"You Can't Divide by zero\"\n",
        "  except ValueError:\n",
        "    return \"Enter a valid number\"\n",
        "  finally:\n",
        "    print(\"Operation Completed\")\n",
        "\n",
        "  if 'result' in locals():\n",
        "    return result\n",
        "  else:\n",
        "    return \"No results to be retured\"\n",
        "\n",
        "\n",
        "print(divide_number())"
      ],
      "metadata": {
        "colab": {
          "base_uri": "https://localhost:8080/"
        },
        "id": "wDQcMS0XSjRB",
        "outputId": "f554c0cc-5c0e-4416-d859-2f62891fc613"
      },
      "execution_count": null,
      "outputs": [
        {
          "output_type": "stream",
          "name": "stdout",
          "text": [
            "Enter the numerator:10\n",
            "Enter the Denomenator:2\n",
            "Operation Completed\n",
            "5.0\n"
          ]
        }
      ]
    }
  ]
}