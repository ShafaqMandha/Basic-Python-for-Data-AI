{
  "nbformat": 4,
  "nbformat_minor": 0,
  "metadata": {
    "colab": {
      "provenance": [],
      "authorship_tag": "ABX9TyO9OplZt6BMj4EFCdi8cjX4",
      "include_colab_link": true
    },
    "kernelspec": {
      "name": "python3",
      "display_name": "Python 3"
    },
    "language_info": {
      "name": "python"
    }
  },
  "cells": [
    {
      "cell_type": "markdown",
      "metadata": {
        "id": "view-in-github",
        "colab_type": "text"
      },
      "source": [
        "<a href=\"https://colab.research.google.com/github/ShafaqMandha/Basic-Python-for-Data-AI/blob/main/Error%20Handling%20Module/Different_Types_of_Errors.ipynb\" target=\"_parent\"><img src=\"https://colab.research.google.com/assets/colab-badge.svg\" alt=\"Open In Colab\"/></a>"
      ]
    },
    {
      "cell_type": "markdown",
      "source": [
        "# **Introduction to Errors:**"
      ],
      "metadata": {
        "id": "P76ESwnkxvVv"
      }
    },
    {
      "cell_type": "markdown",
      "source": [
        "Errors are common in programming when something unexpected happens in your code.\n",
        "Python provides a way to handle these errors gracefully to prevent program crashes."
      ],
      "metadata": {
        "id": "EDbc4ZTGxvh2"
      }
    },
    {
      "cell_type": "markdown",
      "source": [
        "Types of Errors:"
      ],
      "metadata": {
        "id": "K_dDSxuMxvo7"
      }
    },
    {
      "cell_type": "markdown",
      "source": [
        "Syntax Errors:\n",
        "* Occur when there's a mistake in your code's syntax.\n",
        "* Python can't understand the code.\n",
        "* Example: Misspelled variable names or missing colons.\n"
      ],
      "metadata": {
        "id": "epEQuG5Bxvly"
      }
    },
    {
      "cell_type": "markdown",
      "source": [
        "Runtime Errors (Exceptions):\n",
        "* Occur when the code is syntactically correct, but an error occurs while the program is running.\n",
        "* Examples: Division by zero, trying to access an element in a list that doesn't exist, etc."
      ],
      "metadata": {
        "id": "YJRtBR6rxvro"
      }
    },
    {
      "cell_type": "markdown",
      "source": [
        "Handling Exceptions:\n",
        "* Python provides a way to handle runtime errors using try and except blocks."
      ],
      "metadata": {
        "id": "5aLj8E_PxvuJ"
      }
    },
    {
      "cell_type": "markdown",
      "source": [
        "\n",
        "\n",
        "```\n",
        "try:\n",
        "   # Code that may raise an exception\n",
        "except ExceptionType:\n",
        "   # Code to handle the exception\n",
        "```\n",
        "\n"
      ],
      "metadata": {
        "id": "VG-GzTVYxvxu"
      }
    },
    {
      "cell_type": "markdown",
      "source": [
        "Example - Division by Zero:"
      ],
      "metadata": {
        "id": "-a7K7anQxvz0"
      }
    },
    {
      "cell_type": "markdown",
      "source": [
        "\n",
        "\n",
        "```\n",
        "try:\n",
        "  numerator = 10\n",
        "  denominator = 0\n",
        "  result = numerator / denominator\n",
        "except ZeroDivisionError:\n",
        "  print(\"Error: Division by zero is not allowed.\")\n",
        "```\n",
        "\n"
      ],
      "metadata": {
        "id": "5EJV6EJa0ryd"
      }
    },
    {
      "cell_type": "markdown",
      "source": [
        "Example - Input Validation:"
      ],
      "metadata": {
        "id": "7BETPKrwzGq4"
      }
    },
    {
      "cell_type": "markdown",
      "source": [
        "\n",
        "```\n",
        "try:\n",
        "    num = int(input(\"Enter a number: \"))\n",
        "except ValueError:\n",
        "    print(\"Error: Please enter a valid number.\")\n",
        "\n",
        "```\n",
        "\n"
      ],
      "metadata": {
        "id": "8nVj-wm00kIz"
      }
    },
    {
      "cell_type": "markdown",
      "source": [
        "Handling Multiple Exceptions:\n",
        "\n",
        "You can handle multiple exception types in a single try block.\n",
        "\n",
        "Example:"
      ],
      "metadata": {
        "id": "MGEg4uaVzLsT"
      }
    },
    {
      "cell_type": "markdown",
      "source": [
        "```\n",
        "try:\n",
        "  # Code that may raise exceptions\n",
        "except ExceptionType1:\n",
        "   # Code to handle ExceptionType1\n",
        "except ExceptionType2:\n",
        "   # Code to handle ExceptionType2\n",
        "```"
      ],
      "metadata": {
        "id": "pw2uXyR9z5zw"
      }
    },
    {
      "cell_type": "markdown",
      "source": [
        "The finally Block:\n",
        "\n",
        "The finally block is used for cleanup tasks and always gets executed, whether an exception occurs or not.\n",
        "\n",
        "Example:"
      ],
      "metadata": {
        "id": "PC1TpRFlz7eh"
      }
    },
    {
      "cell_type": "markdown",
      "source": [
        "\n",
        "```\n",
        "try:\n",
        "    # Code that may raise an exception\n",
        "except ExceptionType:\n",
        "    # Code to handle the exception\n",
        "finally:\n",
        "    # Cleanup code\n",
        "```\n",
        "\n"
      ],
      "metadata": {
        "id": "-s46S7rr0IgD"
      }
    },
    {
      "cell_type": "markdown",
      "source": [
        "Using else with try and except:\n",
        "\n",
        "You can use the else block to execute code when no exception occurs.\n",
        "\n",
        "Example:"
      ],
      "metadata": {
        "id": "yVsfvVTn0Lod"
      }
    },
    {
      "cell_type": "markdown",
      "source": [
        "\n",
        "\n",
        "```\n",
        "try:\n",
        "    # Code that may raise an exception\n",
        "except ExceptionType:\n",
        "    # Code to handle the exception\n",
        "else:\n",
        "    # Code to execute when no exception occurs\n",
        "```\n",
        "\n"
      ],
      "metadata": {
        "id": "O17uRLpJ0RbF"
      }
    },
    {
      "cell_type": "markdown",
      "source": [
        "Conclusion:\n",
        "\n",
        "Error handling in Python helps make your programs more robust and user-friendly.\n",
        "\n",
        "It allows you to gracefully handle unexpected situations and provide meaningful feedback to users.\n",
        "\n",
        "Practice and experience are key to becoming proficient in error handling."
      ],
      "metadata": {
        "id": "1VYdGT_w0ZAH"
      }
    }
  ]
}