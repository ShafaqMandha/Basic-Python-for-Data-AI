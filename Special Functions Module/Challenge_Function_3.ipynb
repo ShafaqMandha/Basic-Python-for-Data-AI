{
  "nbformat": 4,
  "nbformat_minor": 0,
  "metadata": {
    "colab": {
      "provenance": [],
      "authorship_tag": "ABX9TyP+cKzyjCSqtaE2MqyjAlRK",
      "include_colab_link": true
    },
    "kernelspec": {
      "name": "python3",
      "display_name": "Python 3"
    },
    "language_info": {
      "name": "python"
    }
  },
  "cells": [
    {
      "cell_type": "markdown",
      "metadata": {
        "id": "view-in-github",
        "colab_type": "text"
      },
      "source": [
        "<a href=\"https://colab.research.google.com/github/ShafaqMandha/Basic-Python-for-Data-AI/blob/main/Special%20Functions%20Module/Challenge_Function_3.ipynb\" target=\"_parent\"><img src=\"https://colab.research.google.com/assets/colab-badge.svg\" alt=\"Open In Colab\"/></a>"
      ]
    },
    {
      "cell_type": "markdown",
      "source": [
        "# **Challenge : Function 3**"
      ],
      "metadata": {
        "id": "z5DcZFKOJXOF"
      }
    },
    {
      "cell_type": "markdown",
      "source": [
        "Challenge Make your own version of a magic 8 ball that prints yes, no or maybe each time you ask it\n",
        "\n",
        "```\n",
        "#Output\n",
        "Yes\n",
        "```\n",
        "\n"
      ],
      "metadata": {
        "id": "PLgihkoJIAKI"
      }
    },
    {
      "cell_type": "code",
      "execution_count": 1,
      "metadata": {
        "id": "FhGYmJqhH_Ot",
        "colab": {
          "base_uri": "https://localhost:8080/"
        },
        "outputId": "5735dfbd-f360-4cad-e014-7a23fe5e7efa"
      },
      "outputs": [
        {
          "output_type": "stream",
          "name": "stdout",
          "text": [
            "No\n"
          ]
        }
      ],
      "source": [
        "import random\n",
        "\n",
        "answer = random.randint(1,3)\n",
        "\n",
        "if answer == 1:\n",
        "    print(\"Yes\")\n",
        "\n",
        "if answer == 2:\n",
        "    print(\"No\")\n",
        "\n",
        "if answer == 3:\n",
        "    print(\"Maybe\")"
      ]
    }
  ]
}