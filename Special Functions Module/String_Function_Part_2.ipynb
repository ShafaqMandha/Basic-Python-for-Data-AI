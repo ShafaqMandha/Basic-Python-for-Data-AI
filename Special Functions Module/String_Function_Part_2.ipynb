{
  "nbformat": 4,
  "nbformat_minor": 0,
  "metadata": {
    "colab": {
      "provenance": [],
      "authorship_tag": "ABX9TyP5XsxbAJhOnQv/PPlKkoYE",
      "include_colab_link": true
    },
    "kernelspec": {
      "name": "python3",
      "display_name": "Python 3"
    },
    "language_info": {
      "name": "python"
    }
  },
  "cells": [
    {
      "cell_type": "markdown",
      "metadata": {
        "id": "view-in-github",
        "colab_type": "text"
      },
      "source": [
        "<a href=\"https://colab.research.google.com/github/ShafaqMandha/Basic-Python-for-Data-AI/blob/main/Special%20Functions%20Module/String_Function_Part_2.ipynb\" target=\"_parent\"><img src=\"https://colab.research.google.com/assets/colab-badge.svg\" alt=\"Open In Colab\"/></a>"
      ]
    },
    {
      "cell_type": "markdown",
      "source": [
        "# **String Function Part 2:**\n",
        "\n"
      ],
      "metadata": {
        "id": "O8HJ2oux4uc0"
      }
    },
    {
      "cell_type": "markdown",
      "source": [
        "Python is a powerful and easy-to-learn programming language. One of its core features is strings, which are sequences of characters enclosed in quotes. Strings are a fundamental data type in Python and are used for a wide variety of tasks, such as representing text, storing data, and working with files."
      ],
      "metadata": {
        "id": "GoH-GSLc4vGF"
      }
    },
    {
      "cell_type": "markdown",
      "source": [
        "Here are some of the most commonly used Python string functions and methods:\n",
        "\n",
        "1. len(string): Returns the length of a string.\n",
        "2. string.upper(): Returns a copy of the string in uppercase.\n",
        "3. string.lower(): Returns a copy of the string in lowercase.\n",
        "4. string.strip(): Returns a copy of the string with leading and trailing whitespace removed.\n",
        "5. string.startswith(substring): Returns True if the string starts with the specified substring, otherwise returns False.\n",
        "6. string.endswith(substring): Returns True if the string ends with the specified substring, otherwise returns False.\n",
        "7. string.split(delimiter): Returns a list of substrings separated by the specified delimiter.\n",
        "8. string.join(iterable): Joins the elements of an iterable (e.g., a list or tuple) into a single string, with each element separated by the string.\n",
        "9. string.replace(old, new): Returns a copy of the string with all occurrences of the old substring replaced with the new substring.\n",
        "10. string.format(args): Formats the string with the specified arguments.\n",
        "11. string.index(substring): Returns the index of the first occurrence of the specified substring in the string.\n",
        "12. string.count(substring): Returns the number of occurrences of the specified substring in the string.\n"
      ],
      "metadata": {
        "id": "-9hGDipP4uhS"
      }
    },
    {
      "cell_type": "markdown",
      "source": [
        "Let's see some examples:"
      ],
      "metadata": {
        "id": "fy65SjC06HTf"
      }
    },
    {
      "cell_type": "code",
      "execution_count": null,
      "metadata": {
        "id": "HlSSVTIl4V56"
      },
      "outputs": [],
      "source": [
        "string = \"Hello, World!\"\n",
        "\n",
        " print(len(string)) # Output: 13\n",
        "\n",
        "print(string.upper())\n",
        "# Output: HELLO, WORLD!\n",
        "\n",
        "print(string.lower())\n",
        " # Output: hello, world!\n",
        "\n",
        "print(string.strip())\n",
        " # Output: Hello, World!\n",
        "\n",
        " print(string.startswith(\"Hello\"))\n",
        "# Output: True\n",
        "\n",
        "print(string.endswith(\"World\"))\n",
        "# Output: True\n",
        "\n",
        "print(string.split(\",\"))\n",
        "# Output: ['Hello', ' World!']\n",
        "\n",
        " print(\"-\".join(string))\n",
        "# Output: H-e-l-l-o-,- -W-o-r-l-d-!\n",
        "\n",
        "print(string.replace(\"World\", \"Universe\"))\n",
        "# Output: Hello, Universe!\n",
        "\n",
        "print(\"My name is {} and I am {} years old\".format(\"John\", 30))\n",
        " # Output: My name is John and I am 30 years old\n",
        "\n",
        "print(string.index(\"o\"))\n",
        "# Output: 4\n",
        "\n",
        "print(string.count(\"l\"))\n",
        " # Output: 3"
      ]
    }
  ]
}