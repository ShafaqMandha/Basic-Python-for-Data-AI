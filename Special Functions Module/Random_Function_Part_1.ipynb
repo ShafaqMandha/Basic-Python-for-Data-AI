{
  "cells": [
    {
      "cell_type": "markdown",
      "metadata": {
        "id": "view-in-github",
        "colab_type": "text"
      },
      "source": [
        "<a href=\"https://colab.research.google.com/github/ShafaqMandha/Basic-Python-for-Data-AI/blob/main/Special%20Functions%20Module/Random_Function_Part_1.ipynb\" target=\"_parent\"><img src=\"https://colab.research.google.com/assets/colab-badge.svg\" alt=\"Open In Colab\"/></a>"
      ]
    },
    {
      "cell_type": "markdown",
      "source": [
        "# **Random Function Part 1:**\n",
        "You can generate random numbers in Python by using random module.\n",
        "\n",
        "Python offers random module that can generate random numbers.\n",
        "\n",
        "These are pseudo-random number as the sequence of number generated depends on the seed.\n",
        "\n",
        "Almost all module functions depend on the basic function random(), which generates a random float uniformly in the semi-open range [0.0, 1.0)."
      ],
      "metadata": {
        "id": "zK9zJ9dsMFHZ"
      }
    },
    {
      "cell_type": "code",
      "source": [
        "import random        # import the random module from python\n",
        "print(random.random())    # use random from random module to generate any random number between 0 and 1"
      ],
      "metadata": {
        "colab": {
          "base_uri": "https://localhost:8080/"
        },
        "id": "OsyC07ulMS10",
        "outputId": "7563018d-7afa-4f3c-af9a-39b972765b41"
      },
      "execution_count": null,
      "outputs": [
        {
          "output_type": "stream",
          "name": "stdout",
          "text": [
            "0.5425109803497764\n"
          ]
        }
      ]
    },
    {
      "cell_type": "code",
      "source": [
        "print(random.random())"
      ],
      "metadata": {
        "colab": {
          "base_uri": "https://localhost:8080/"
        },
        "id": "1AjMCtHrNtzF",
        "outputId": "46b810af-d43c-498b-d84c-2995f0ddb0fa"
      },
      "execution_count": null,
      "outputs": [
        {
          "output_type": "stream",
          "name": "stdout",
          "text": [
            "0.23198878828680392\n"
          ]
        }
      ]
    },
    {
      "cell_type": "markdown",
      "source": [
        "Every time you run the code and yoy will get different random number\n",
        "\n",
        "To get the fixed random number every time use seed( )"
      ],
      "metadata": {
        "id": "A-Jh3i20M_ZX"
      }
    },
    {
      "cell_type": "code",
      "source": [
        "random.seed(2)\n",
        "print(random.random())"
      ],
      "metadata": {
        "colab": {
          "base_uri": "https://localhost:8080/"
        },
        "id": "It4AjbnpMS4x",
        "outputId": "13a37359-56a8-4518-8235-af33f264391b"
      },
      "execution_count": null,
      "outputs": [
        {
          "output_type": "stream",
          "name": "stdout",
          "text": [
            "0.9560342718892494\n"
          ]
        }
      ]
    },
    {
      "cell_type": "code",
      "source": [
        "random.seed(2)\n",
        "print(random.random())"
      ],
      "metadata": {
        "colab": {
          "base_uri": "https://localhost:8080/"
        },
        "id": "csVLVNmzMS8f",
        "outputId": "3082ad61-58a7-4b12-a168-decffb2e80a0"
      },
      "execution_count": null,
      "outputs": [
        {
          "output_type": "stream",
          "name": "stdout",
          "text": [
            "0.9560342718892494\n"
          ]
        }
      ]
    },
    {
      "cell_type": "markdown",
      "source": [
        "**randint(a, b)** -- Returns a random integer between a and b inclusive"
      ],
      "metadata": {
        "id": "GCw7G05YN-_M"
      }
    },
    {
      "cell_type": "code",
      "source": [
        "random.randint(1,20)"
      ],
      "metadata": {
        "id": "-QQlPXz2MS_3"
      },
      "execution_count": null,
      "outputs": []
    },
    {
      "cell_type": "code",
      "source": [
        "random.randint(21,100)"
      ],
      "metadata": {
        "id": "ZSv0N8MFMTDD"
      },
      "execution_count": null,
      "outputs": []
    },
    {
      "cell_type": "code",
      "source": [
        "random.seed(4)\n",
        "random.randint(1,20)"
      ],
      "metadata": {
        "id": "O4mlvLn2MTGj"
      },
      "execution_count": null,
      "outputs": []
    },
    {
      "cell_type": "code",
      "source": [
        "random.seed(500)\n",
        "random.randint(21,100)"
      ],
      "metadata": {
        "id": "n125ioX8MTpy"
      },
      "execution_count": null,
      "outputs": []
    },
    {
      "cell_type": "markdown",
      "source": [
        "**randrange(start, stop[, step])** -- Returns a random integer from the range"
      ],
      "metadata": {
        "id": "LMpIZhKnOi9D"
      }
    },
    {
      "cell_type": "code",
      "source": [
        "random.randrange(1,20,5)"
      ],
      "metadata": {
        "id": "HhsQXd9FMTxY"
      },
      "execution_count": null,
      "outputs": []
    },
    {
      "cell_type": "code",
      "source": [
        "random.randrange(0,200,10)"
      ],
      "metadata": {
        "id": "XXpQc8p_MT5E"
      },
      "execution_count": null,
      "outputs": []
    },
    {
      "cell_type": "markdown",
      "source": [
        "**choice(seq)** -- Return a random element from the non-empty sequence"
      ],
      "metadata": {
        "id": "Ggh6RAPCPN8F"
      }
    },
    {
      "cell_type": "code",
      "source": [
        "random.choice(['win', 'lose', 'draw'])"
      ],
      "metadata": {
        "id": "r3JIKbBBMUA5"
      },
      "execution_count": null,
      "outputs": []
    },
    {
      "cell_type": "code",
      "source": [
        "random.choice(['win', 'lose', 'draw'])"
      ],
      "metadata": {
        "id": "B2m12QA3MUJE"
      },
      "execution_count": null,
      "outputs": []
    },
    {
      "cell_type": "code",
      "source": [
        "random.choice(['win', 'lose', 'draw'])"
      ],
      "metadata": {
        "id": "BOmN_96cMUPo"
      },
      "execution_count": null,
      "outputs": []
    },
    {
      "cell_type": "code",
      "source": [
        "random.choice([1,2,3,4,5,6,7,8,9])"
      ],
      "metadata": {
        "id": "RidLC-6lPYw3"
      },
      "execution_count": null,
      "outputs": []
    },
    {
      "cell_type": "code",
      "source": [
        "random.choice([1,2,3,4,5,6,7,8,9])"
      ],
      "metadata": {
        "id": "uhzbJyG_PY4Y"
      },
      "execution_count": null,
      "outputs": []
    },
    {
      "cell_type": "markdown",
      "source": [
        "**choices( )**\n",
        "\n",
        "The choices( ) method returns a list with the randomly selected element from the specified sequence.\n",
        "\n",
        "You can weigh the possibility of each result with the weights parameter or the cum_weights parameter.\n",
        "\n",
        "The sequence can be a string, a range, a list, a tuple or any other kind of sequence.\n",
        "\n",
        "```\n",
        "Syntax\n",
        "random.choices(sequence, weights=None, cum_weights=None, k=1)\n",
        "\n",
        "\n",
        "\n",
        "sequence -- Required. A sequence like a list, a tuple, a range of numbers etc.\n",
        "weights -- Optional. A list were you can weigh the possibility for each value.\n",
        "Default None\n",
        "cum_weights -- Optional. A list were you can weigh the possibility for each value, only this time the possibility is accumulated.\n",
        "\n",
        "Example: normal weights list: [2, 1, 1] is the same as this cum_weights list; [2, 3, 4].\n",
        "Default None\n",
        "\n",
        "k -- Optional. An integer defining the length of the returned list\n",
        "\n",
        "```\n"
      ],
      "metadata": {
        "id": "2g_R2TuzQVvt"
      }
    },
    {
      "cell_type": "code",
      "source": [
        "mylist = [\"apple\", \"banana\", \"cherry\"]\n",
        "\n",
        "print(random.choices(mylist, weights = [10, 1, 1], k = 15))"
      ],
      "metadata": {
        "id": "g5EhRbXIPZBA"
      },
      "execution_count": null,
      "outputs": []
    },
    {
      "cell_type": "code",
      "source": [
        "mylist=['hi','hello']\n",
        "print(random.choices(mylist,weights=[5,1], k=10))"
      ],
      "metadata": {
        "id": "FyaKZQ3mPZJW"
      },
      "execution_count": null,
      "outputs": []
    },
    {
      "cell_type": "markdown",
      "source": [
        "**sample()**\n",
        "\n",
        "sample() is an inbuilt function of random module in Python that returns a particular length list of items chosen from the sequence i.e. list, tuple, string or set. Used for random sampling without replacement.\n",
        "```\n",
        "    Syntax : random.sample(sequence, k)\n",
        "\n",
        "    Parameters:\n",
        "    sequence: Can be a list, tuple, string, or set.\n",
        "    k: An Integer value, it specify the length of a sample.\n",
        "\n",
        "    Returns: k length new list of elements chosen from the sequence.\n",
        "```"
      ],
      "metadata": {
        "id": "vQt5vZAIR-op"
      }
    },
    {
      "cell_type": "code",
      "source": [
        "# Prints list of random items of given length\n",
        "list1 = [1, 2, 3, 4, 5]\n",
        "\n",
        "print(random.sample(list1,3))"
      ],
      "metadata": {
        "id": "oKtncX7fPZRG"
      },
      "execution_count": null,
      "outputs": []
    },
    {
      "cell_type": "code",
      "source": [
        "#  Prints list of random items of\n",
        "# length 3 from the given list.\n",
        "list1 = [1, 2, 3, 4, 5, 6]\n",
        "print(\"With list:\", random.sample(list1, 3))"
      ],
      "metadata": {
        "id": "h6hgIHg-PZZY"
      },
      "execution_count": null,
      "outputs": []
    },
    {
      "cell_type": "code",
      "source": [
        "# Prints list of random items of\n",
        "# length 4 from the given string.\n",
        "string = \"Board Infinity\"\n",
        "print(\"With string:\", random.sample(string, 4))"
      ],
      "metadata": {
        "id": "0iLmuQC4PZhk"
      },
      "execution_count": null,
      "outputs": []
    },
    {
      "cell_type": "code",
      "source": [
        "# Prints list of random items of\n",
        "# length 4 from the given tuple.\n",
        "tuple1 = (\"ankit\", \"Amish\", \"computer\", \"science\",\"Pizza\", \"scientist\", \"btech\")\n",
        "print(\"With tuple:\", random.sample(tuple1, 4))"
      ],
      "metadata": {
        "id": "lg2KYN5lPZle"
      },
      "execution_count": null,
      "outputs": []
    },
    {
      "cell_type": "code",
      "source": [
        "# Prints list of random items of\n",
        "# length 3 from the given set.\n",
        "set1 = {\"a\", \"b\", \"c\", \"d\", \"e\"}\n",
        "print(\"With set:\", random.sample(set1, 3))"
      ],
      "metadata": {
        "id": "CHHys7p5PZs4"
      },
      "execution_count": null,
      "outputs": []
    }
  ],
  "metadata": {
    "kernelspec": {
      "display_name": "Python 3",
      "language": "python",
      "name": "python3"
    },
    "language_info": {
      "codemirror_mode": {
        "name": "ipython",
        "version": 3
      },
      "file_extension": ".py",
      "mimetype": "text/x-python",
      "name": "python",
      "nbconvert_exporter": "python",
      "pygments_lexer": "ipython3",
      "version": "3.8.3"
    },
    "toc": {
      "base_numbering": 1,
      "nav_menu": {},
      "number_sections": true,
      "sideBar": true,
      "skip_h1_title": false,
      "title_cell": "Table of Contents",
      "title_sidebar": "Contents",
      "toc_cell": false,
      "toc_position": {},
      "toc_section_display": true,
      "toc_window_display": false
    },
    "colab": {
      "provenance": [],
      "include_colab_link": true
    }
  },
  "nbformat": 4,
  "nbformat_minor": 0
}