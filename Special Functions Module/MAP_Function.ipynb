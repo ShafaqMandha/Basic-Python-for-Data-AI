{
  "cells": [
    {
      "cell_type": "markdown",
      "metadata": {
        "id": "view-in-github",
        "colab_type": "text"
      },
      "source": [
        "<a href=\"https://colab.research.google.com/github/ShafaqMandha/Basic-Python-for-Data-AI/blob/main/Special%20Functions%20Module/MAP_Function.ipynb\" target=\"_parent\"><img src=\"https://colab.research.google.com/assets/colab-badge.svg\" alt=\"Open In Colab\"/></a>"
      ]
    },
    {
      "cell_type": "markdown",
      "metadata": {
        "id": "kgIWcQwo4TLK"
      },
      "source": [
        "## MAP( )"
      ]
    },
    {
      "cell_type": "markdown",
      "metadata": {
        "id": "FIgbPIoq4TLK"
      },
      "source": [
        "The map() function applies a given function to each item of an iterable (list, tuple etc.) and returns an iterator.\n",
        "\n",
        "**map() Syntax**\n",
        "    \n",
        "    map(function, iterable, ...)\n",
        "   \n"
      ]
    },
    {
      "cell_type": "code",
      "execution_count": null,
      "metadata": {
        "id": "28iZqy8g4TLK"
      },
      "outputs": [],
      "source": [
        "numbers = [2, 4, 6, 8, 10]\n",
        "\n",
        "# returns square of a number\n",
        "def square(number):\n",
        "  return number * number\n",
        "\n",
        "# apply square() function to each item of the numbers list\n",
        "squared_numbers_iterator = map(square, numbers)\n",
        "\n",
        "# converting to list\n",
        "squared_numbers = tuple(squared_numbers_iterator)\n",
        "print(squared_numbers)\n",
        "\n",
        "# Output: [4, 16, 36, 64, 100]"
      ]
    },
    {
      "cell_type": "code",
      "execution_count": null,
      "metadata": {
        "id": "vu3-JoZx4TLK"
      },
      "outputs": [],
      "source": [
        "def sum_of_first_n_natuaral_numbers(n):\n",
        "    sum = ((n) * (n+1)) // 2\n",
        "    print(sum)\n",
        "\n",
        "\n",
        "n = int(input())\n",
        "sum_of_first_n_natuaral_numbers(n)\n"
      ]
    },
    {
      "cell_type": "markdown",
      "source": [
        "Using map( ) data types of the elements of the iterables can be changed easily"
      ],
      "metadata": {
        "id": "Yj4D_KuPATAV"
      }
    },
    {
      "cell_type": "code",
      "source": [
        "a=['1','2','3']\n",
        "a=list(map(int,a))"
      ],
      "metadata": {
        "id": "iYzinN43AepX"
      },
      "execution_count": null,
      "outputs": []
    },
    {
      "cell_type": "code",
      "source": [
        "a"
      ],
      "metadata": {
        "id": "Rnrt7C10AnMF"
      },
      "execution_count": null,
      "outputs": []
    },
    {
      "cell_type": "code",
      "source": [
        "a=list(map(float,a))\n",
        "a"
      ],
      "metadata": {
        "id": "uUk3mg17Aod_"
      },
      "execution_count": null,
      "outputs": []
    }
  ],
  "metadata": {
    "kernelspec": {
      "display_name": "Python 3",
      "language": "python",
      "name": "python3"
    },
    "language_info": {
      "codemirror_mode": {
        "name": "ipython",
        "version": 3
      },
      "file_extension": ".py",
      "mimetype": "text/x-python",
      "name": "python",
      "nbconvert_exporter": "python",
      "pygments_lexer": "ipython3",
      "version": "3.8.3"
    },
    "toc": {
      "base_numbering": 1,
      "nav_menu": {},
      "number_sections": true,
      "sideBar": true,
      "skip_h1_title": false,
      "title_cell": "Table of Contents",
      "title_sidebar": "Contents",
      "toc_cell": false,
      "toc_position": {},
      "toc_section_display": true,
      "toc_window_display": false
    },
    "colab": {
      "provenance": [],
      "include_colab_link": true
    }
  },
  "nbformat": 4,
  "nbformat_minor": 0
}