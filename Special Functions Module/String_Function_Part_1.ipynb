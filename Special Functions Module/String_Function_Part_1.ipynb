{
  "cells": [
    {
      "cell_type": "markdown",
      "metadata": {
        "id": "view-in-github",
        "colab_type": "text"
      },
      "source": [
        "<a href=\"https://colab.research.google.com/github/ShafaqMandha/Basic-Python-for-Data-AI/blob/main/Special%20Functions%20Module/String_Function_Part_1.ipynb\" target=\"_parent\"><img src=\"https://colab.research.google.com/assets/colab-badge.svg\" alt=\"Open In Colab\"/></a>"
      ]
    },
    {
      "cell_type": "markdown",
      "source": [
        "# **String Function Part 1:**\n",
        "\n",
        "The string module contains a number of functions to process standard Python strings.\n",
        "\n",
        "Python String module contains some constants, utility function, and classes for string manipulation.\n",
        "\n",
        "\n"
      ],
      "metadata": {
        "id": "8n8w_BRA1dS5"
      }
    },
    {
      "cell_type": "code",
      "source": [
        "import string\n",
        "\n",
        "# string module constants\n",
        "# 1. The set of all letters, essentially a union of ascii_lowercase and ascii_uppercase.\n",
        "print('string.ascii_letters --->>',string.ascii_letters)\n",
        "\n",
        "# 2. The lowercase letters in the ASCII character set: 'abcdefghijklmnopqrstuvwxyz'.\n",
        "print('string.ascii_lowercase --->>', string.ascii_lowercase)\n",
        "\n",
        "# 3. The uppercase letters in the ASCII character set: 'ABCDEFGHIJKLMNOPQRSTUVWXYZ'\n",
        "print('string.ascii_uppercase --->>', string.ascii_uppercase)\n",
        "\n",
        "# 4. The digits used to make decimal numbers: '0123456789'\n",
        "print('string.digits --->>', string.digits)\n",
        "\n",
        "# 5. The digits used to make hexadecimal numbers: '0123456789abcdefABCDEF'\n",
        "print('string.hexdigits --->>', string.hexdigits)\n",
        "\n",
        "# 6. A collection of characters that cause spacing to happen. For ASCII this is '\\t\\n\\x0b\\x0c\\r '\n",
        "print('string.whitespace --->>', string.whitespace)  # ' \\t\\n\\r\\x0b\\x0c'\n",
        "\n",
        "\n",
        "# 7. All punctuation in the ASCII character set, this is '!\"#$%&\\'()*+,-./:;<=>?@[\\\\]^_`{|}~'\n",
        "print('string.punctuation --->>', string.punctuation)"
      ],
      "metadata": {
        "id": "O30ePDv3PZwX"
      },
      "execution_count": null,
      "outputs": []
    },
    {
      "cell_type": "code",
      "source": [
        "a=['a','b','c']\n",
        "''.join(['a','b','c'])"
      ],
      "metadata": {
        "id": "EhAwDeGyBGOL"
      },
      "execution_count": null,
      "outputs": []
    },
    {
      "cell_type": "code",
      "source": [
        "# generate strong random passwords of given size.\n",
        "# Importing random to generate\n",
        "# random string sequence\n",
        "import random\n",
        "# Importing string library function\n",
        "import string\n",
        "\n",
        "def rand_pass(size):\n",
        "    # Takes random choices from\n",
        "    # ascii_letters and digits\n",
        "    generate_pass = ''.join([random.choice(\n",
        "                        string.ascii_letters + string.digits)\n",
        "                        for n in range(size)])\n",
        "\n",
        "    return generate_pass\n",
        "\n",
        "# Driver Code\n",
        "password = rand_pass(6)\n",
        "print(password)"
      ],
      "metadata": {
        "id": "u1yJ7Za1PZ4L",
        "colab": {
          "base_uri": "https://localhost:8080/"
        },
        "outputId": "c24db20a-5d08-4d24-aaf3-c67ac94219ea"
      },
      "execution_count": null,
      "outputs": [
        {
          "output_type": "stream",
          "name": "stdout",
          "text": [
            "IcM4Ax\n"
          ]
        }
      ]
    },
    {
      "cell_type": "code",
      "source": [
        "rand_pass(10)"
      ],
      "metadata": {
        "id": "mr4jGXTNPZ7v"
      },
      "execution_count": null,
      "outputs": []
    },
    {
      "cell_type": "code",
      "source": [
        "# Write a Python program to remove unwanted characters from a given string.\n",
        "# Original String : Pyth*^on Exercis^es\n",
        "# After removing unwanted characters: Python Exercises\n",
        "\n",
        "import string\n",
        "Original_String = 'Pyth*^on Exercis^es$'\n",
        "for i in Original_String:\n",
        "    if i in string.punctuation:\n",
        "        pass\n",
        "\n",
        "    else:\n",
        "        print(i,end='')\n"
      ],
      "metadata": {
        "colab": {
          "base_uri": "https://localhost:8080/"
        },
        "id": "Bl3QdMqRDusV",
        "outputId": "13a14e4b-c7d7-4ff4-ea70-ad9e8f8fadcf"
      },
      "execution_count": null,
      "outputs": [
        {
          "output_type": "stream",
          "name": "stdout",
          "text": [
            "Python Exercises"
          ]
        }
      ]
    }
  ],
  "metadata": {
    "kernelspec": {
      "display_name": "Python 3",
      "language": "python",
      "name": "python3"
    },
    "language_info": {
      "codemirror_mode": {
        "name": "ipython",
        "version": 3
      },
      "file_extension": ".py",
      "mimetype": "text/x-python",
      "name": "python",
      "nbconvert_exporter": "python",
      "pygments_lexer": "ipython3",
      "version": "3.8.3"
    },
    "toc": {
      "base_numbering": 1,
      "nav_menu": {},
      "number_sections": true,
      "sideBar": true,
      "skip_h1_title": false,
      "title_cell": "Table of Contents",
      "title_sidebar": "Contents",
      "toc_cell": false,
      "toc_position": {},
      "toc_section_display": true,
      "toc_window_display": false
    },
    "colab": {
      "provenance": [],
      "include_colab_link": true
    }
  },
  "nbformat": 4,
  "nbformat_minor": 0
}