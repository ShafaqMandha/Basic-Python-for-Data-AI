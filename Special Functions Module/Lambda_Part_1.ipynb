{
  "cells": [
    {
      "cell_type": "markdown",
      "metadata": {
        "id": "view-in-github",
        "colab_type": "text"
      },
      "source": [
        "<a href=\"https://colab.research.google.com/github/ShafaqMandha/Basic-Python-for-Data-AI/blob/main/Special%20Functions%20Module/Lambda_Part_1.ipynb\" target=\"_parent\"><img src=\"https://colab.research.google.com/assets/colab-badge.svg\" alt=\"Open In Colab\"/></a>"
      ]
    },
    {
      "cell_type": "markdown",
      "source": [
        "# **Lambda Part 1:**"
      ],
      "metadata": {
        "id": "1pWJxnOSKpxd"
      }
    },
    {
      "cell_type": "markdown",
      "source": [
        "## Lambda( )\n",
        "\n",
        "In Python, an anonymous function is a function that is defined without a name.\n",
        "\n",
        "While normal functions are defined using the def keyword in Python, anonymous functions are defined using the lambda keyword.\n",
        "\n",
        "Hence, anonymous functions are also called lambda functions.\n",
        "\n",
        "\n",
        "```\n",
        "Syntax\n",
        "\n",
        "lambda arguments: expression\n",
        "```\n",
        "\n",
        "Lambda functions can have any number of arguments but only one expression. The expression is evaluated and returned. Lambda functions can be used wherever function objects are required.\n",
        "\n"
      ],
      "metadata": {
        "id": "Eu0n03b6A_MR"
      }
    },
    {
      "cell_type": "code",
      "source": [
        "def double_number(number):\n",
        "    y=number*2\n",
        "    return y"
      ],
      "metadata": {
        "id": "671n4d_gMysM"
      },
      "execution_count": null,
      "outputs": []
    },
    {
      "cell_type": "code",
      "source": [
        "double_number(15.5)"
      ],
      "metadata": {
        "id": "AZ3yBHIAM-2o"
      },
      "execution_count": null,
      "outputs": []
    },
    {
      "cell_type": "code",
      "source": [
        "# Program to show the use of lambda functions\n",
        "double = lambda x: x * 2\n",
        "\n",
        "print(double(150.5))"
      ],
      "metadata": {
        "id": "IVR8Jv0aA2Vb"
      },
      "execution_count": null,
      "outputs": []
    },
    {
      "cell_type": "markdown",
      "source": [
        "We use lambda functions when we require a nameless function for a short period of time.\n",
        "\n",
        "In Python, we generally use it as an argument to a higher-order function (a function that takes in other functions as arguments). Lambda functions are used along with built-in functions like filter(), map() etc."
      ],
      "metadata": {
        "id": "HikXJyX5Bo3P"
      }
    },
    {
      "cell_type": "markdown",
      "source": [
        "The filter() function in Python takes in a function and a list as arguments.\n",
        "\n",
        "The function is called with all the items in the list and a new list is returned which contains items for which the function evaluates to True.\n",
        "\n",
        "Here is an example use of filter() function to filter out only even numbers from a list."
      ],
      "metadata": {
        "id": "PPY24hXpBvqn"
      }
    },
    {
      "cell_type": "code",
      "source": [
        "# Program to filter out only the even items from a list\n",
        "my_list = [1, 5, 4, 6, 8, 11, 3, 12]\n",
        "\n",
        "# Filter syntax\n",
        "# fliter(lambda function,iterable)\n",
        "\n",
        "new_list = list(filter(lambda x: (x%2 == 0) , my_list))\n",
        "\n",
        "print(new_list)"
      ],
      "metadata": {
        "id": "6DwmHtJlBfJB"
      },
      "execution_count": null,
      "outputs": []
    },
    {
      "cell_type": "code",
      "source": [
        "# Program to double each item in a list using map()\n",
        "\n",
        "my_list = [1, 5, 4, 6, 8, 11, 3, 12]\n",
        "\n",
        "new_list = list(map(lambda x: x * 2 , my_list))\n",
        "\n",
        "print(new_list)"
      ],
      "metadata": {
        "id": "xNd16ycbBywf"
      },
      "execution_count": null,
      "outputs": []
    }
  ],
  "metadata": {
    "kernelspec": {
      "display_name": "Python 3",
      "language": "python",
      "name": "python3"
    },
    "language_info": {
      "codemirror_mode": {
        "name": "ipython",
        "version": 3
      },
      "file_extension": ".py",
      "mimetype": "text/x-python",
      "name": "python",
      "nbconvert_exporter": "python",
      "pygments_lexer": "ipython3",
      "version": "3.8.3"
    },
    "toc": {
      "base_numbering": 1,
      "nav_menu": {},
      "number_sections": true,
      "sideBar": true,
      "skip_h1_title": false,
      "title_cell": "Table of Contents",
      "title_sidebar": "Contents",
      "toc_cell": false,
      "toc_position": {},
      "toc_section_display": true,
      "toc_window_display": false
    },
    "colab": {
      "provenance": [],
      "include_colab_link": true
    }
  },
  "nbformat": 4,
  "nbformat_minor": 0
}