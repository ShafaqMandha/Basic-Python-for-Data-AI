{
  "nbformat": 4,
  "nbformat_minor": 0,
  "metadata": {
    "colab": {
      "provenance": [],
      "authorship_tag": "ABX9TyOHOH9utxV4kP0dMHPNe/kQ",
      "include_colab_link": true
    },
    "kernelspec": {
      "name": "python3",
      "display_name": "Python 3"
    },
    "language_info": {
      "name": "python"
    }
  },
  "cells": [
    {
      "cell_type": "markdown",
      "metadata": {
        "id": "view-in-github",
        "colab_type": "text"
      },
      "source": [
        "<a href=\"https://colab.research.google.com/github/ShafaqMandha/Basic-Python-for-Data-AI/blob/main/Special%20Functions%20Module/Lambda_Part_2.ipynb\" target=\"_parent\"><img src=\"https://colab.research.google.com/assets/colab-badge.svg\" alt=\"Open In Colab\"/></a>"
      ]
    },
    {
      "cell_type": "markdown",
      "source": [
        "# **Lambda Part 2:**"
      ],
      "metadata": {
        "id": "bQh5zATziuGv"
      }
    },
    {
      "cell_type": "markdown",
      "source": [
        "Python's lambda function is a way to create small, anonymous functions without the need to define them using the def keyword. These functions are typically used for short, simple operations that don't require a full function definition."
      ],
      "metadata": {
        "id": "Hq76gnFhhqOn"
      }
    },
    {
      "cell_type": "markdown",
      "source": [
        "The syntax for defining a lambda function is as follows:"
      ],
      "metadata": {
        "id": "CeTf94b7hyRn"
      }
    },
    {
      "cell_type": "markdown",
      "source": [
        "`lambda arguments: expression `"
      ],
      "metadata": {
        "id": "tHc3GU07h1r2"
      }
    },
    {
      "cell_type": "markdown",
      "source": [
        "Here, arguments refers to the parameters passed to the function, and expression is the operation performed on those arguments."
      ],
      "metadata": {
        "id": "999XBgrMh5_-"
      }
    },
    {
      "cell_type": "markdown",
      "source": [
        "For example, let's say we want to create a function that adds two numbers together. We could define it like this using the def keyword:"
      ],
      "metadata": {
        "id": "WPDpVsC7h-Vg"
      }
    },
    {
      "cell_type": "code",
      "execution_count": null,
      "metadata": {
        "id": "d9S_635WhkzN"
      },
      "outputs": [],
      "source": [
        "def add_numbers(x, y):\n",
        " return x + y"
      ]
    },
    {
      "cell_type": "markdown",
      "source": [
        "However, we can achieve the same thing using a lambda function like this:"
      ],
      "metadata": {
        "id": "BB-ziB-miCkI"
      }
    },
    {
      "cell_type": "code",
      "source": [
        "add_numbers = lambda x, y: x + y"
      ],
      "metadata": {
        "id": "P03-B0W5iU_W"
      },
      "execution_count": null,
      "outputs": []
    },
    {
      "cell_type": "markdown",
      "source": [
        "Now, we can call the function like this:"
      ],
      "metadata": {
        "id": "ujG0oS6IiKCC"
      }
    },
    {
      "cell_type": "code",
      "source": [
        "result = add_numbers(2, 3)\n",
        " print(result)"
      ],
      "metadata": {
        "id": "bAT7UH8Tia5e"
      },
      "execution_count": null,
      "outputs": []
    },
    {
      "cell_type": "markdown",
      "source": [
        "This will output 5, which is the result of adding 2 and 3 together using our lambda function."
      ],
      "metadata": {
        "id": "ed0JTvEUidE8"
      }
    },
    {
      "cell_type": "markdown",
      "source": [
        "Lambda functions can also be used as arguments for other functions, such as map() or filter(). For example, let's say we have a list of numbers and we want to square each number in the list. We can use the map() function and a lambda function to achieve this:"
      ],
      "metadata": {
        "id": "vHGbyEUQig0w"
      }
    },
    {
      "cell_type": "code",
      "source": [
        "numbers = [1, 2, 3, 4, 5]\n",
        "squared_numbers = map(lambda x: x ** 2, numbers)\n",
        "print(list(squared_numbers))"
      ],
      "metadata": {
        "id": "UOqY7bXHifm6"
      },
      "execution_count": null,
      "outputs": []
    },
    {
      "cell_type": "markdown",
      "source": [
        "This will output [1, 4, 9, 16, 25], which is the result of squaring each number in the numbers list using our lambda function."
      ],
      "metadata": {
        "id": "HgBumgD5ipM0"
      }
    }
  ]
}