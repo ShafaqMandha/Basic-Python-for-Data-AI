{
  "nbformat": 4,
  "nbformat_minor": 0,
  "metadata": {
    "colab": {
      "provenance": [],
      "authorship_tag": "ABX9TyPtqCrganNqEaEUQTBHq9r9",
      "include_colab_link": true
    },
    "kernelspec": {
      "name": "python3",
      "display_name": "Python 3"
    },
    "language_info": {
      "name": "python"
    }
  },
  "cells": [
    {
      "cell_type": "markdown",
      "metadata": {
        "id": "view-in-github",
        "colab_type": "text"
      },
      "source": [
        "<a href=\"https://colab.research.google.com/github/ShafaqMandha/Basic-Python-for-Data-AI/blob/main/Special%20Functions%20Module/Filter_function.ipynb\" target=\"_parent\"><img src=\"https://colab.research.google.com/assets/colab-badge.svg\" alt=\"Open In Colab\"/></a>"
      ]
    },
    {
      "cell_type": "markdown",
      "source": [
        "## The filter() function in python"
      ],
      "metadata": {
        "id": "oLmzGa-J6xGo"
      }
    },
    {
      "cell_type": "markdown",
      "source": [
        "The filter() function constructs an iterator from elements of an iterable for which a function returns true. It is used to filter out items from a list (or any other iterable) based on a condition."
      ],
      "metadata": {
        "id": "ywn0OJx_668b"
      }
    },
    {
      "cell_type": "code",
      "execution_count": 2,
      "metadata": {
        "id": "4bQ-2kH44Wcu"
      },
      "outputs": [],
      "source": [
        "def even (num):\n",
        "  if num%2==0:\n",
        "      return True"
      ]
    },
    {
      "cell_type": "code",
      "source": [
        "even (24)"
      ],
      "metadata": {
        "colab": {
          "base_uri": "https://localhost:8080/"
        },
        "id": "_exMx5cW7xB_",
        "outputId": "7bba29e7-0cdc-4536-d3d1-cbec75e6c28d"
      },
      "execution_count": 3,
      "outputs": [
        {
          "output_type": "execute_result",
          "data": {
            "text/plain": [
              "True"
            ]
          },
          "metadata": {},
          "execution_count": 3
        }
      ]
    },
    {
      "cell_type": "code",
      "source": [
        "lst = [1,2,3,4,5,6,7,8,9,10,11,12]"
      ],
      "metadata": {
        "id": "MVdE0bv28MRf"
      },
      "execution_count": 4,
      "outputs": []
    },
    {
      "cell_type": "code",
      "source": [
        "lst"
      ],
      "metadata": {
        "colab": {
          "base_uri": "https://localhost:8080/"
        },
        "id": "TynEhMpG8Vv9",
        "outputId": "414dc456-ba61-41e9-fa23-435752990151"
      },
      "execution_count": 5,
      "outputs": [
        {
          "output_type": "execute_result",
          "data": {
            "text/plain": [
              "[1, 2, 3, 4, 5, 6, 7, 8, 9, 10, 11, 12]"
            ]
          },
          "metadata": {},
          "execution_count": 5
        }
      ]
    },
    {
      "cell_type": "code",
      "source": [
        "list(filter(even,lst))"
      ],
      "metadata": {
        "colab": {
          "base_uri": "https://localhost:8080/"
        },
        "id": "yV_c96428by2",
        "outputId": "6fb06f99-93f0-4de4-b343-3f5d38b6a350"
      },
      "execution_count": 7,
      "outputs": [
        {
          "output_type": "execute_result",
          "data": {
            "text/plain": [
              "[2, 4, 6, 8, 10, 12]"
            ]
          },
          "metadata": {},
          "execution_count": 7
        }
      ]
    },
    {
      "cell_type": "code",
      "source": [
        "##filter with lambda\n",
        "number = [1,2,3,4,5,6,7,8,9,10]\n",
        "greater_than_five = list(filter(lambda x: x > 5, number))\n",
        "print(greater_than_five)"
      ],
      "metadata": {
        "colab": {
          "base_uri": "https://localhost:8080/"
        },
        "id": "G8LPV2sm8kO4",
        "outputId": "613c8c78-0009-40b0-b635-18b347866271"
      },
      "execution_count": 8,
      "outputs": [
        {
          "output_type": "stream",
          "name": "stdout",
          "text": [
            "[6, 7, 8, 9, 10]\n"
          ]
        }
      ]
    },
    {
      "cell_type": "code",
      "source": [
        "##filter with lambda nd multiple conditions\n",
        "number = [1,2,3,4,5,6,7,8,9,10]\n",
        "even_and_greater_than_five = list(filter(lambda x: x > 5 and x%2==0, number))\n",
        "print(greater_than_five)"
      ],
      "metadata": {
        "colab": {
          "base_uri": "https://localhost:8080/"
        },
        "id": "z45Kvrod_Au9",
        "outputId": "eaf3de5a-46a3-4cc1-f050-025c99015c65"
      },
      "execution_count": 9,
      "outputs": [
        {
          "output_type": "stream",
          "name": "stdout",
          "text": [
            "[6, 7, 8, 9, 10]\n"
          ]
        }
      ]
    },
    {
      "cell_type": "code",
      "source": [
        "##filter to check if age is greater than 25 in a dictonary\n",
        "people = [\n",
        "    {'name': 'John', 'age': 25},\n",
        "    {'name': 'Jane', 'age': 30},\n",
        "    {'name': 'Alice', 'age': 20}\n",
        "]\n",
        "\n",
        "def age_greater_than_25(person):\n",
        "    return person['age'] > 25\n",
        "\n",
        "adults = list(filter(age_greater_than_25, people))\n",
        "print(adults)"
      ],
      "metadata": {
        "colab": {
          "base_uri": "https://localhost:8080/"
        },
        "id": "l72Pt6To_xC-",
        "outputId": "05e08a31-1c4f-4b5f-ae86-811ddb5ca0a6"
      },
      "execution_count": 10,
      "outputs": [
        {
          "output_type": "stream",
          "name": "stdout",
          "text": [
            "[{'name': 'Jane', 'age': 30}]\n"
          ]
        }
      ]
    },
    {
      "cell_type": "markdown",
      "source": [
        "# Conclusion"
      ],
      "metadata": {
        "id": "A0SULYiYDwb3"
      }
    },
    {
      "cell_type": "markdown",
      "source": [
        "The filter() is a very powerful tool for creating iterators that filter items out of an iterable based function. It is commonly used for data cleaning, filtering objects, and removing unwanted lists. By mastering filter(), you can write more concise and efficient code for processing and manipulating collections in Python."
      ],
      "metadata": {
        "id": "o4xpDXKJD7YL"
      }
    }
  ]
}