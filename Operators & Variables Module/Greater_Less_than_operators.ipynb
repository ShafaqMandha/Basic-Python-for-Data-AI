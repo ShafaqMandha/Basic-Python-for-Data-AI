{
  "nbformat": 4,
  "nbformat_minor": 0,
  "metadata": {
    "colab": {
      "provenance": [],
      "authorship_tag": "ABX9TyMqv+0S5gVUDvblDHgsqGUN",
      "include_colab_link": true
    },
    "kernelspec": {
      "name": "python3",
      "display_name": "Python 3"
    },
    "language_info": {
      "name": "python"
    }
  },
  "cells": [
    {
      "cell_type": "markdown",
      "metadata": {
        "id": "view-in-github",
        "colab_type": "text"
      },
      "source": [
        "<a href=\"https://colab.research.google.com/github/ShafaqMandha/Basic-Python-for-Data-AI/blob/main/Operators%20%26%20Variables%20Module/Greater_Less_than_operators.ipynb\" target=\"_parent\"><img src=\"https://colab.research.google.com/assets/colab-badge.svg\" alt=\"Open In Colab\"/></a>"
      ]
    },
    {
      "cell_type": "markdown",
      "source": [
        "## The greater than operator"
      ],
      "metadata": {
        "id": "1bp8mRapjVjJ"
      }
    },
    {
      "cell_type": "code",
      "execution_count": null,
      "metadata": {
        "id": "r3pDEh36jRd-"
      },
      "outputs": [],
      "source": [
        "print(3 > 5)"
      ]
    },
    {
      "cell_type": "markdown",
      "source": [
        "## The less than operator"
      ],
      "metadata": {
        "id": "O_3SjcjXjb-I"
      }
    },
    {
      "cell_type": "code",
      "source": [
        "print(3 < 5)"
      ],
      "metadata": {
        "id": "y5yDlZ6Jjigs"
      },
      "execution_count": null,
      "outputs": []
    },
    {
      "cell_type": "markdown",
      "source": [
        "## The greater/less than or equal to operator"
      ],
      "metadata": {
        "id": "LBuO6FUNjk9W"
      }
    },
    {
      "cell_type": "code",
      "source": [
        "print(3 >= 3)"
      ],
      "metadata": {
        "id": "VOQHQaWLjlg7"
      },
      "execution_count": null,
      "outputs": []
    },
    {
      "cell_type": "code",
      "source": [
        "print(3 <= 3)"
      ],
      "metadata": {
        "id": "eIK-sf3ejlsU"
      },
      "execution_count": null,
      "outputs": []
    }
  ]
}