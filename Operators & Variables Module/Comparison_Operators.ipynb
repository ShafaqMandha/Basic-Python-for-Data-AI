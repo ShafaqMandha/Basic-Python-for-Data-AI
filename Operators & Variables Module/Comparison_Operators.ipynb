{
  "nbformat": 4,
  "nbformat_minor": 0,
  "metadata": {
    "colab": {
      "provenance": [],
      "authorship_tag": "ABX9TyOVIG3qgxGAvW/Ro/JLmgxH",
      "include_colab_link": true
    },
    "kernelspec": {
      "name": "python3",
      "display_name": "Python 3"
    },
    "language_info": {
      "name": "python"
    }
  },
  "cells": [
    {
      "cell_type": "markdown",
      "metadata": {
        "id": "view-in-github",
        "colab_type": "text"
      },
      "source": [
        "<a href=\"https://colab.research.google.com/github/ShafaqMandha/Basic-Python-for-Data-AI/blob/main/Operators%20%26%20Variables%20Module/Comparison_Operators.ipynb\" target=\"_parent\"><img src=\"https://colab.research.google.com/assets/colab-badge.svg\" alt=\"Open In Colab\"/></a>"
      ]
    },
    {
      "cell_type": "markdown",
      "source": [
        "## The equality operator"
      ],
      "metadata": {
        "id": "wgWYFwvOkDoL"
      }
    },
    {
      "cell_type": "code",
      "execution_count": null,
      "metadata": {
        "id": "zBZV-0A6kDDa"
      },
      "outputs": [],
      "source": [
        "print(3 == 5)"
      ]
    },
    {
      "cell_type": "code",
      "source": [
        "print(3 == 3)"
      ],
      "metadata": {
        "id": "q_cF3dvVkM5f"
      },
      "execution_count": null,
      "outputs": []
    },
    {
      "cell_type": "markdown",
      "source": [
        "## The Inequality operator"
      ],
      "metadata": {
        "id": "JwC35gWmkN0W"
      }
    },
    {
      "cell_type": "code",
      "source": [
        "print(3 != 5)"
      ],
      "metadata": {
        "id": "4AQ6UC3MkUVD"
      },
      "execution_count": null,
      "outputs": []
    },
    {
      "cell_type": "code",
      "source": [
        "print(3 != 3)"
      ],
      "metadata": {
        "id": "O92Dsvv-kUiF"
      },
      "execution_count": null,
      "outputs": []
    }
  ]
}