{
  "nbformat": 4,
  "nbformat_minor": 0,
  "metadata": {
    "colab": {
      "provenance": [],
      "authorship_tag": "ABX9TyMS3o/fri8tfzwiVpbMISa/",
      "include_colab_link": true
    },
    "kernelspec": {
      "name": "python3",
      "display_name": "Python 3"
    },
    "language_info": {
      "name": "python"
    }
  },
  "cells": [
    {
      "cell_type": "markdown",
      "metadata": {
        "id": "view-in-github",
        "colab_type": "text"
      },
      "source": [
        "<a href=\"https://colab.research.google.com/github/ShafaqMandha/Basic-Python-for-Data-AI/blob/main/Control%20Flow%20Module/For.ipynb\" target=\"_parent\"><img src=\"https://colab.research.google.com/assets/colab-badge.svg\" alt=\"Open In Colab\"/></a>"
      ]
    },
    {
      "cell_type": "markdown",
      "source": [
        "# **For**"
      ],
      "metadata": {
        "id": "gLT9mu_Z9lII"
      }
    },
    {
      "cell_type": "markdown",
      "source": [
        "In Python, the for statement is used to loop through a sequence of items, such as a list, tuple, or string. It is a type of loop that iterates over a collection of values, executing a block of code for each item in the sequence."
      ],
      "metadata": {
        "id": "tbFimHt-8Jg0"
      }
    },
    {
      "cell_type": "markdown",
      "source": [
        "The basic syntax of the for statement is as follows:\n",
        "\n",
        "`for variable in sequence: # block of code to be executed for each item in the sequence `\n"
      ],
      "metadata": {
        "id": "3SMsl9Bu8Utu"
      }
    },
    {
      "cell_type": "markdown",
      "source": [
        "In this syntax, variable is a variable that takes on the value of each item in the sequence, one at a time. The sequence can be any iterable object, such as a list, tuple, or string."
      ],
      "metadata": {
        "id": "i56DHjIv8U53"
      }
    },
    {
      "cell_type": "markdown",
      "source": [
        "Here is an example of a for loop that iterates over a list of numbers and prints each one:"
      ],
      "metadata": {
        "id": "9amsUe7F8VLu"
      }
    },
    {
      "cell_type": "code",
      "execution_count": null,
      "metadata": {
        "id": "7rAnjeMF8HS8"
      },
      "outputs": [],
      "source": [
        "numbers = [1, 2, 3, 4, 5]\n",
        "for num in numbers:\n",
        "  print(num)"
      ]
    },
    {
      "cell_type": "markdown",
      "source": [
        "\n",
        "In this example, numbers is a list of numbers, and num is the variable that takes on the value of each item in the list, one at a time. The print statement is executed for each value of num, printing the value to the console."
      ],
      "metadata": {
        "id": "fqdHwDUL8vQv"
      }
    },
    {
      "cell_type": "markdown",
      "source": [
        "You can also use the range() function to create a sequence of numbers to iterate over. Here is an example of a for loop that prints the numbers from 0 to 4:"
      ],
      "metadata": {
        "id": "7czVMrbX8y2e"
      }
    },
    {
      "cell_type": "code",
      "source": [
        "for num in range(5):\n",
        "  print(num)"
      ],
      "metadata": {
        "id": "JsyctZU-81fP"
      },
      "execution_count": null,
      "outputs": []
    },
    {
      "cell_type": "markdown",
      "source": [
        "In this example, the range(5) function creates a sequence of numbers from 0 to 4, and the for loop iterates over this sequence, printing each value to the console."
      ],
      "metadata": {
        "id": "RyCliGPg84Q1"
      }
    },
    {
      "cell_type": "markdown",
      "source": [
        "You can also include conditional statements within a for loop to control the flow of the program. Here is an example of a for loop that prints only the even numbers in a list:"
      ],
      "metadata": {
        "id": "m25qBrC088GG"
      }
    },
    {
      "cell_type": "code",
      "source": [
        "numbers = [1, 2, 3, 4, 5]\n",
        " for num in numbers:\n",
        "  if num % 2 == 0:\n",
        "    print(num)"
      ],
      "metadata": {
        "id": "ns8jUcR09Oge"
      },
      "execution_count": null,
      "outputs": []
    },
    {
      "cell_type": "markdown",
      "source": [
        "In this example, the if statement checks if the value of num is even (i.e., if the remainder when num is divided by 2 is 0), and the print statement is executed only for even numbers."
      ],
      "metadata": {
        "id": "XD-Rgfhs8-Ot"
      }
    }
  ]
}