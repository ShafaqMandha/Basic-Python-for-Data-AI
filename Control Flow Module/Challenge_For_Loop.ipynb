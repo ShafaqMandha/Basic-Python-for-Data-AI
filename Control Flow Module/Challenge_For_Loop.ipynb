{
  "nbformat": 4,
  "nbformat_minor": 0,
  "metadata": {
    "colab": {
      "provenance": [],
      "authorship_tag": "ABX9TyNm3zftLxh1QxKsSvR/Yih/",
      "include_colab_link": true
    },
    "kernelspec": {
      "name": "python3",
      "display_name": "Python 3"
    },
    "language_info": {
      "name": "python"
    }
  },
  "cells": [
    {
      "cell_type": "markdown",
      "metadata": {
        "id": "view-in-github",
        "colab_type": "text"
      },
      "source": [
        "<a href=\"https://colab.research.google.com/github/ShafaqMandha/Basic-Python-for-Data-AI/blob/main/Control%20Flow%20Module/Challenge_For_Loop.ipynb\" target=\"_parent\"><img src=\"https://colab.research.google.com/assets/colab-badge.svg\" alt=\"Open In Colab\"/></a>"
      ]
    },
    {
      "cell_type": "markdown",
      "source": [
        "# **Challenge: For Loop**"
      ],
      "metadata": {
        "id": "RqnVQtO1CiZT"
      }
    },
    {
      "cell_type": "markdown",
      "source": [
        "Python program to print Even Numbers in given range"
      ],
      "metadata": {
        "id": "sonJXNs8ChWJ"
      }
    },
    {
      "cell_type": "markdown",
      "source": [
        "```\n",
        "Enter the start of range: 4\n",
        "Enter the end of range: 10\n",
        "4 6 8 10\n",
        "```"
      ],
      "metadata": {
        "id": "JpN0-drPCikg"
      }
    },
    {
      "cell_type": "code",
      "execution_count": null,
      "metadata": {
        "colab": {
          "base_uri": "https://localhost:8080/"
        },
        "id": "38CnNITiCgt_",
        "outputId": "9918fce6-eeb2-4eb1-9ece-0fa20ccaa63d"
      },
      "outputs": [
        {
          "output_type": "stream",
          "name": "stdout",
          "text": [
            "Enter the start of range: 4\n",
            "Enter the end of range: 10\n",
            "4 6 8 10 "
          ]
        }
      ],
      "source": [
        "start = int(input(\"Enter the start of range: \"))\n",
        "end = int(input(\"Enter the end of range: \"))\n",
        "\n",
        "# iterating each number in list\n",
        "for num in range(start, end + 1):\n",
        "\n",
        "    # checking condition\n",
        "    if num % 2 == 0:\n",
        "        print(num, end=\" \")"
      ]
    }
  ]
}