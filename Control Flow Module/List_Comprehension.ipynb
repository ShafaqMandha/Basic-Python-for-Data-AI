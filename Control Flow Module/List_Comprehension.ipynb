{
  "nbformat": 4,
  "nbformat_minor": 0,
  "metadata": {
    "colab": {
      "provenance": [],
      "authorship_tag": "ABX9TyOOKEDaszrfx7A0lOfx/FKq",
      "include_colab_link": true
    },
    "kernelspec": {
      "name": "python3",
      "display_name": "Python 3"
    },
    "language_info": {
      "name": "python"
    }
  },
  "cells": [
    {
      "cell_type": "markdown",
      "metadata": {
        "id": "view-in-github",
        "colab_type": "text"
      },
      "source": [
        "<a href=\"https://colab.research.google.com/github/ShafaqMandha/Basic-Python-for-Data-AI/blob/main/Control%20Flow%20Module/List_Comprehension.ipynb\" target=\"_parent\"><img src=\"https://colab.research.google.com/assets/colab-badge.svg\" alt=\"Open In Colab\"/></a>"
      ]
    },
    {
      "cell_type": "markdown",
      "source": [
        "# **List Comprehension**"
      ],
      "metadata": {
        "id": "IlfZzYS0-f1I"
      }
    },
    {
      "cell_type": "markdown",
      "source": [
        "Python List Comprehension is a more advanced way of writing a loop, which helps developers to focus more on the logic of their program rather than the syntax of the coding language. It is a concise way of writing a list, which is easier to read and understand. A list comprehension consists of an expression followed by a for loop and an optional if statement."
      ],
      "metadata": {
        "id": "7kDSgsD_-DC3"
      }
    },
    {
      "cell_type": "markdown",
      "source": [
        "For instance, to create a list of squares of numbers from 1 to 10 using Python List Comprehension, you can use the following code:"
      ],
      "metadata": {
        "id": "2BMztxqB-GjA"
      }
    },
    {
      "cell_type": "code",
      "execution_count": null,
      "metadata": {
        "colab": {
          "base_uri": "https://localhost:8080/"
        },
        "id": "67F81bjZ9_oA",
        "outputId": "a60a8c50-cae3-40a9-e675-89716463869d"
      },
      "outputs": [
        {
          "output_type": "stream",
          "name": "stdout",
          "text": [
            "[1, 4, 9, 16, 25, 36, 49, 64, 81, 100]\n"
          ]
        }
      ],
      "source": [
        "squares = [x*x for x in range(1, 11)]\n",
        "print(squares)"
      ]
    },
    {
      "cell_type": "markdown",
      "source": [
        "The code above creates a list of squares of numbers from 1 to 10. First, we define a variable called squares. Then, we use the list comprehension syntax with x*x as the expression, which squares the number in the for loop. The for x in range(1, 11) iterates through the numbers from 1 to 10."
      ],
      "metadata": {
        "id": "329tXXxW-MZe"
      }
    }
  ]
}