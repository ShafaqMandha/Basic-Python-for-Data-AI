{
  "nbformat": 4,
  "nbformat_minor": 0,
  "metadata": {
    "colab": {
      "provenance": [],
      "authorship_tag": "ABX9TyOZ2gCV2l3CBUyzcWKhXzUS",
      "include_colab_link": true
    },
    "kernelspec": {
      "name": "python3",
      "display_name": "Python 3"
    },
    "language_info": {
      "name": "python"
    }
  },
  "cells": [
    {
      "cell_type": "markdown",
      "metadata": {
        "id": "view-in-github",
        "colab_type": "text"
      },
      "source": [
        "<a href=\"https://colab.research.google.com/github/ShafaqMandha/Basic-Python-for-Data-AI/blob/main/Control%20Flow%20Module/While.ipynb\" target=\"_parent\"><img src=\"https://colab.research.google.com/assets/colab-badge.svg\" alt=\"Open In Colab\"/></a>"
      ]
    },
    {
      "cell_type": "markdown",
      "source": [
        "# **While**"
      ],
      "metadata": {
        "id": "dnovLyns7VxE"
      }
    },
    {
      "cell_type": "markdown",
      "source": [
        "The while statement in Python is a type of loop that allows you to repeatedly execute a block of code as long as a certain condition is true. The basic syntax of a while loop in Python is as follows:\n",
        "\n",
        "\n",
        "\n",
        "`while condition: # block of code to be executed `\n",
        "\n",
        "\n",
        "\n",
        "\n",
        "\n",
        "\n"
      ],
      "metadata": {
        "id": "wBDBjpEH6VFr"
      }
    },
    {
      "cell_type": "markdown",
      "source": [
        "Here, condition is the expression that is evaluated to determine whether the loop should continue to execute or not. As long as the condition is true, the block of code inside the loop will be executed repeatedly. Once the condition becomes false, the loop will terminate and the program will continue executing the code that comes after the loop."
      ],
      "metadata": {
        "id": "NipLgDXD68GJ"
      }
    },
    {
      "cell_type": "markdown",
      "source": [
        "For example, let's say we want to print the numbers 1 through 5 using a while loop. We can write the following code:"
      ],
      "metadata": {
        "id": "sh3p1ep068YZ"
      }
    },
    {
      "cell_type": "code",
      "execution_count": null,
      "metadata": {
        "colab": {
          "base_uri": "https://localhost:8080/"
        },
        "id": "I9pLu4_s6UlG",
        "outputId": "4800de39-cd57-4edc-9d79-7239513fb6be"
      },
      "outputs": [
        {
          "output_type": "stream",
          "name": "stdout",
          "text": [
            "1\n",
            "2\n",
            "3\n",
            "4\n",
            "5\n"
          ]
        }
      ],
      "source": [
        "count = 1\n",
        "while count <= 5:\n",
        "  print(count)\n",
        "  count += 1"
      ]
    },
    {
      "cell_type": "markdown",
      "source": [
        "In this code, we first initialize a variable count to 1. Then, we use a while loop to repeatedly print the value of count as long as it is less than or equal to 5. Inside the loop, we print the current value of count using the print function, and then increment the value of count by 1 using the += operator. Once count reaches 6, the condition count <= 5 becomes false, and the loop terminates."
      ],
      "metadata": {
        "id": "DgctWpPx6tu7"
      }
    },
    {
      "cell_type": "markdown",
      "source": [
        "It's important to note that if the condition in a while loop is never false, the loop will continue to execute indefinitely, which can cause your program to hang or crash. To prevent this, you should always make sure that the condition in your while loop is eventually false, or use other control structures like break or continue to exit the loop under certain conditions."
      ],
      "metadata": {
        "id": "bdsSbYSr6xca"
      }
    }
  ]
}