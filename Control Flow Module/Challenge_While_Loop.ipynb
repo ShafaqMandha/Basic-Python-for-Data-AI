{
  "nbformat": 4,
  "nbformat_minor": 0,
  "metadata": {
    "colab": {
      "provenance": [],
      "authorship_tag": "ABX9TyP7mQWAelumH9GAbkyFsZr9",
      "include_colab_link": true
    },
    "kernelspec": {
      "name": "python3",
      "display_name": "Python 3"
    },
    "language_info": {
      "name": "python"
    }
  },
  "cells": [
    {
      "cell_type": "markdown",
      "metadata": {
        "id": "view-in-github",
        "colab_type": "text"
      },
      "source": [
        "<a href=\"https://colab.research.google.com/github/ShafaqMandha/Basic-Python-for-Data-AI/blob/main/Control%20Flow%20Module/Challenge_While_Loop.ipynb\" target=\"_parent\"><img src=\"https://colab.research.google.com/assets/colab-badge.svg\" alt=\"Open In Colab\"/></a>"
      ]
    },
    {
      "cell_type": "markdown",
      "source": [
        "# **Challenge : While Loop**"
      ],
      "metadata": {
        "id": "dZSmKRRxBCtg"
      }
    },
    {
      "cell_type": "markdown",
      "source": [
        "Print first n (ask user Input) even numbers using the while loop in Python\n",
        "\n"
      ],
      "metadata": {
        "id": "jZ_xz4yUAe4G"
      }
    },
    {
      "cell_type": "markdown",
      "source": [
        "Example"
      ],
      "metadata": {
        "id": "qrapeZEwA41x"
      }
    },
    {
      "cell_type": "markdown",
      "source": [
        "```\n",
        "Enter a number of even numbers you want to see from start: 5\n",
        "2,4,6,8,10\n",
        "```"
      ],
      "metadata": {
        "id": "FLZ8am8HA5CR"
      }
    },
    {
      "cell_type": "code",
      "execution_count": null,
      "metadata": {
        "colab": {
          "base_uri": "https://localhost:8080/"
        },
        "id": "aYFwHmJNAd_q",
        "outputId": "e1c33528-bbb8-4f8d-c6df-8732956093de"
      },
      "outputs": [
        {
          "output_type": "stream",
          "name": "stdout",
          "text": [
            "Enter a number of even numbers you want to see from start:: 5\n",
            "2 4 "
          ]
        }
      ],
      "source": [
        "x = int(input(\"Enter a number of even numbers you want to see from start:: \"))\n",
        "\n",
        "i = 1\n",
        "while i <= x:\n",
        "    if i % 2 == 0:\n",
        "        print(i, end=\" \")\n",
        "    i = i + 1"
      ]
    }
  ]
}