{
  "nbformat": 4,
  "nbformat_minor": 0,
  "metadata": {
    "colab": {
      "provenance": [],
      "authorship_tag": "ABX9TyN/eOT8OJQ8JtpMLKqz1WkU",
      "include_colab_link": true
    },
    "kernelspec": {
      "name": "python3",
      "display_name": "Python 3"
    },
    "language_info": {
      "name": "python"
    }
  },
  "cells": [
    {
      "cell_type": "markdown",
      "metadata": {
        "id": "view-in-github",
        "colab_type": "text"
      },
      "source": [
        "<a href=\"https://colab.research.google.com/github/ShafaqMandha/Basic-Python-for-Data-AI/blob/main/Control%20Flow%20Module/Challenge_Control_Flow.ipynb\" target=\"_parent\"><img src=\"https://colab.research.google.com/assets/colab-badge.svg\" alt=\"Open In Colab\"/></a>"
      ]
    },
    {
      "cell_type": "markdown",
      "source": [
        "# **Challenge: Control Flow**"
      ],
      "metadata": {
        "id": "s9_injcD_ygk"
      }
    },
    {
      "cell_type": "markdown",
      "source": [
        "Write a program that prompts the user to enter a number between 1 and 100. If the number is less than 1 or greater than 100, the program should print an error message and prompt the user to try again. If the number is between 1 and 100, the program should print whether the number is even or odd, and whether it is a multiple of 3."
      ],
      "metadata": {
        "id": "Qse7L274_Ea5"
      }
    },
    {
      "cell_type": "markdown",
      "source": [
        "For example, if the user enters 23, the program should print:"
      ],
      "metadata": {
        "id": "gxZcC14i_I-D"
      }
    },
    {
      "cell_type": "markdown",
      "source": [
        "`23 is odd. 23 is not a multiple of 3. `"
      ],
      "metadata": {
        "id": "U_KNg8_z_JM5"
      }
    },
    {
      "cell_type": "markdown",
      "source": [
        "And if the user enters 30, the program should print:"
      ],
      "metadata": {
        "id": "yvz-suI-_JZb"
      }
    },
    {
      "cell_type": "markdown",
      "source": [
        "`30 is even. 30 is a multiple of 3.`"
      ],
      "metadata": {
        "id": "lU4l9MXZ_WQi"
      }
    },
    {
      "cell_type": "code",
      "execution_count": null,
      "metadata": {
        "colab": {
          "base_uri": "https://localhost:8080/"
        },
        "id": "r6nY_mPh_D5t",
        "outputId": "093d7e09-111e-49ad-9578-c392dd258028"
      },
      "outputs": [
        {
          "output_type": "stream",
          "name": "stdout",
          "text": [
            "Enter a number between 1 and 100: 2\n",
            "The number 2 is even and is not a multiple of 3.\n"
          ]
        }
      ],
      "source": [
        "while True:\n",
        "    number = int(input(\"Enter a number between 1 and 100: \"))\n",
        "\n",
        "    if number < 1 or number > 100:\n",
        "        print(\"Error: Number must be between 1 and 100. Please try again.\")\n",
        "    else:\n",
        "        even_odd = \"even\" if number % 2 == 0 else \"odd\"\n",
        "        multiple_of_3 = \"is\" if number % 3 == 0 else \"is not\"\n",
        "\n",
        "        print(f\"The number {number} is {even_odd} and {multiple_of_3} a multiple of 3.\")\n",
        "        break"
      ]
    }
  ]
}