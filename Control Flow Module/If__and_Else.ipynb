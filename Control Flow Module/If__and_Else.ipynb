{
  "nbformat": 4,
  "nbformat_minor": 0,
  "metadata": {
    "colab": {
      "provenance": [],
      "authorship_tag": "ABX9TyPWK3S25AuSPrc69tpW4sNf",
      "include_colab_link": true
    },
    "kernelspec": {
      "name": "python3",
      "display_name": "Python 3"
    },
    "language_info": {
      "name": "python"
    }
  },
  "cells": [
    {
      "cell_type": "markdown",
      "metadata": {
        "id": "view-in-github",
        "colab_type": "text"
      },
      "source": [
        "<a href=\"https://colab.research.google.com/github/ShafaqMandha/Basic-Python-for-Data-AI/blob/main/Control%20Flow%20Module/If__and_Else.ipynb\" target=\"_parent\"><img src=\"https://colab.research.google.com/assets/colab-badge.svg\" alt=\"Open In Colab\"/></a>"
      ]
    },
    {
      "cell_type": "markdown",
      "source": [
        "# **If and else**"
      ],
      "metadata": {
        "id": "TUGCdrJD7aVw"
      }
    },
    {
      "cell_type": "markdown",
      "source": [
        "In Python, if/else statements are used to control the flow of a program based on certain conditions."
      ],
      "metadata": {
        "id": "QbQFheO-7IZp"
      }
    },
    {
      "cell_type": "markdown",
      "source": [
        "The basic syntax for an if/else statement is as follows:\n",
        "```\n",
        "if condition:\n",
        "# code to execute if the condition is true\n",
        "else:\n",
        "# code to execute if the condition is false\n",
        "```"
      ],
      "metadata": {
        "id": "Hbc4yHM55AVc"
      }
    },
    {
      "cell_type": "markdown",
      "source": [
        "The condition is a statement that evaluates to either True or False. If the condition is true, the code in the first block (the block of code that comes after the if statement and before the else statement) will be executed. If the condition is false, the code in the second block (the block of code that comes after the else statement) will be executed.\n"
      ],
      "metadata": {
        "id": "uHQoKQK17MzS"
      }
    },
    {
      "cell_type": "markdown",
      "source": [
        "Here's an example:"
      ],
      "metadata": {
        "id": "HOD0XdmS7NG6"
      }
    },
    {
      "cell_type": "code",
      "execution_count": null,
      "metadata": {
        "colab": {
          "base_uri": "https://localhost:8080/"
        },
        "id": "3i2VEEaw4_eS",
        "outputId": "d0be607e-3d70-4dff-ccbe-63e62136a0a9"
      },
      "outputs": [
        {
          "output_type": "stream",
          "name": "stdout",
          "text": [
            "x is less than or equal to 10\n"
          ]
        }
      ],
      "source": [
        "x = 5\n",
        "if x > 10:\n",
        " print(\"x is greater than 10\")\n",
        "else:\n",
        " print(\"x is less than or equal to 10\")"
      ]
    },
    {
      "cell_type": "markdown",
      "source": [
        "\n",
        "In this example, the condition is x > 10. Since x is 5 and not greater than 10, the code in the second block will be executed, and the output will be x is less than or equal to 10.\n",
        "\n",
        "You can also use elif (short for \"else if\") statements to check for multiple conditions.\n",
        "\n",
        "Here's an example:"
      ],
      "metadata": {
        "id": "Biu_yGCJ5pTz"
      }
    },
    {
      "cell_type": "code",
      "source": [
        "x = 10\n",
        "if x < 0:\n",
        "  print(\"x is negative\")\n",
        "elif x == 0:\n",
        "  print(\"x is zero\")\n",
        "else:\n",
        "  print(\"x is positive\")"
      ],
      "metadata": {
        "colab": {
          "base_uri": "https://localhost:8080/"
        },
        "id": "CQpOs11156vr",
        "outputId": "aec8900d-d06f-4e38-e45c-d2f665ea5148"
      },
      "execution_count": null,
      "outputs": [
        {
          "output_type": "stream",
          "name": "stdout",
          "text": [
            "x is positive\n"
          ]
        }
      ]
    },
    {
      "cell_type": "markdown",
      "source": [
        "In this example, the condition in the first block is x < 0. If this condition is true, the code in that block will be executed. If it is false, Python will move on to the next elif statement and check its condition. If that condition is true, the code in that block will be executed. If none of the conditions are true, the code in the final else block will be executed."
      ],
      "metadata": {
        "id": "CfRmGNFI6AlD"
      }
    }
  ]
}