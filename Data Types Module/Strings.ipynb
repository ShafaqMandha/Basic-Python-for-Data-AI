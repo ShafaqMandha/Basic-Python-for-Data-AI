{
  "nbformat": 4,
  "nbformat_minor": 0,
  "metadata": {
    "colab": {
      "provenance": [],
      "authorship_tag": "ABX9TyMaLbeUbey6T0AYiDQAll6G",
      "include_colab_link": true
    },
    "kernelspec": {
      "name": "python3",
      "display_name": "Python 3"
    },
    "language_info": {
      "name": "python"
    }
  },
  "cells": [
    {
      "cell_type": "markdown",
      "metadata": {
        "id": "view-in-github",
        "colab_type": "text"
      },
      "source": [
        "<a href=\"https://colab.research.google.com/github/ShafaqMandha/Basic-Python-for-Data-AI/blob/main/Data%20Types%20Module/Strings.ipynb\" target=\"_parent\"><img src=\"https://colab.research.google.com/assets/colab-badge.svg\" alt=\"Open In Colab\"/></a>"
      ]
    },
    {
      "cell_type": "markdown",
      "source": [
        "### Creating a string variable"
      ],
      "metadata": {
        "id": "-JXC7vJewkIW"
      }
    },
    {
      "cell_type": "code",
      "execution_count": null,
      "metadata": {
        "id": "6ULcJB2mwjPP"
      },
      "outputs": [],
      "source": [
        "greeting = \"Hello, world!\""
      ]
    },
    {
      "cell_type": "code",
      "source": [
        "print(greeting)"
      ],
      "metadata": {
        "colab": {
          "base_uri": "https://localhost:8080/"
        },
        "id": "eW9KvvhYwuAc",
        "outputId": "76fdf372-bc04-45ea-90c1-24824863bc1a"
      },
      "execution_count": null,
      "outputs": [
        {
          "output_type": "stream",
          "name": "stdout",
          "text": [
            "Hello, world!\n"
          ]
        }
      ]
    },
    {
      "cell_type": "markdown",
      "source": [
        "## Accessing individual characters in a string"
      ],
      "metadata": {
        "id": "buUx_zOKwwFM"
      }
    },
    {
      "cell_type": "code",
      "source": [
        "first_character = greeting[0]"
      ],
      "metadata": {
        "id": "ob7iiHLtw1Y4"
      },
      "execution_count": null,
      "outputs": []
    },
    {
      "cell_type": "code",
      "source": [
        "print(first_character)"
      ],
      "metadata": {
        "colab": {
          "base_uri": "https://localhost:8080/"
        },
        "id": "kLQQR-ZJw1kv",
        "outputId": "9ed8133a-c0d6-4079-c18d-1d1465d20a91"
      },
      "execution_count": null,
      "outputs": [
        {
          "output_type": "stream",
          "name": "stdout",
          "text": [
            "H\n"
          ]
        }
      ]
    },
    {
      "cell_type": "markdown",
      "source": [
        "## Slicing a string\n"
      ],
      "metadata": {
        "id": "0Ob0yl_Kw5yJ"
      }
    },
    {
      "cell_type": "code",
      "source": [
        "substring = greeting[0:5]"
      ],
      "metadata": {
        "id": "rfCLfkxMw-kn"
      },
      "execution_count": null,
      "outputs": []
    },
    {
      "cell_type": "code",
      "source": [
        "print(substring)"
      ],
      "metadata": {
        "colab": {
          "base_uri": "https://localhost:8080/"
        },
        "id": "DRZ3k0oyw-xW",
        "outputId": "da43c4ee-4db5-4702-e429-8e87a7f809aa"
      },
      "execution_count": null,
      "outputs": [
        {
          "output_type": "stream",
          "name": "stdout",
          "text": [
            "Hello\n"
          ]
        }
      ]
    },
    {
      "cell_type": "markdown",
      "source": [
        "## Concatenating strings"
      ],
      "metadata": {
        "id": "Vr2dUJXJxENo"
      }
    },
    {
      "cell_type": "code",
      "source": [
        "name = \"Shafaq\""
      ],
      "metadata": {
        "id": "0Mcc06M0xCwH"
      },
      "execution_count": null,
      "outputs": []
    },
    {
      "cell_type": "code",
      "source": [
        "message = \"Hi, \" + name + \".\""
      ],
      "metadata": {
        "id": "PVOQp7qcxOWr"
      },
      "execution_count": null,
      "outputs": []
    },
    {
      "cell_type": "code",
      "source": [
        "print(message)"
      ],
      "metadata": {
        "colab": {
          "base_uri": "https://localhost:8080/"
        },
        "id": "W9PTk0gGxP2j",
        "outputId": "d83343fc-1109-4d1c-c806-1794d74a3bfd"
      },
      "execution_count": null,
      "outputs": [
        {
          "output_type": "stream",
          "name": "stdout",
          "text": [
            "Hi, Shafaq.\n"
          ]
        }
      ]
    },
    {
      "cell_type": "markdown",
      "source": [
        "## Formatting strings"
      ],
      "metadata": {
        "id": "q38WzoJyxijJ"
      }
    },
    {
      "cell_type": "code",
      "source": [
        "age = 25"
      ],
      "metadata": {
        "id": "-LSlnUfMxmu4"
      },
      "execution_count": null,
      "outputs": []
    },
    {
      "cell_type": "code",
      "source": [
        "output = \"I am {} years old.\".format(age)"
      ],
      "metadata": {
        "id": "5o17MLf3xnA1"
      },
      "execution_count": null,
      "outputs": []
    },
    {
      "cell_type": "code",
      "source": [
        "print(output)"
      ],
      "metadata": {
        "colab": {
          "base_uri": "https://localhost:8080/"
        },
        "id": "9YemmxNHxnX3",
        "outputId": "73562152-f9d3-47e0-8d6e-246e1654a4ad"
      },
      "execution_count": null,
      "outputs": [
        {
          "output_type": "stream",
          "name": "stdout",
          "text": [
            "I am 25 years old.\n"
          ]
        }
      ]
    }
  ]
}